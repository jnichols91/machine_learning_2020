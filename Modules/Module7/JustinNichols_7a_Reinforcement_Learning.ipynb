{
  "nbformat": 4,
  "nbformat_minor": 0,
  "metadata": {
    "kernelspec": {
      "display_name": "Python 3",
      "language": "python",
      "name": "python3"
    },
    "language_info": {
      "codemirror_mode": {
        "name": "ipython",
        "version": 3
      },
      "file_extension": ".py",
      "mimetype": "text/x-python",
      "name": "python",
      "nbconvert_exporter": "python",
      "pygments_lexer": "ipython3",
      "version": "3.6.3"
    },
    "colab": {
      "name": "JustinNichols_7a_Reinforcement_Learning.ipynb",
      "provenance": []
    }
  },
  "cells": [
    {
      "cell_type": "markdown",
      "metadata": {
        "id": "MsDS-gmWnXME"
      },
      "source": [
        "## CSCI 470 Activities and Case Studies\n",
        "\n",
        "1. For all activities, you are allowed to collaborate with a partner. \n",
        "1. For case studies, you should work individually and are **not** allowed to collaborate.\n",
        "\n",
        "By filling out this notebook and submitting it, you acknowledge that you are aware of the above policies and are agreeing to comply with them."
      ]
    },
    {
      "cell_type": "markdown",
      "metadata": {
        "id": "RjGpB5F3nXMF"
      },
      "source": [
        "Some considerations with regard to how these notebooks will be graded:\n",
        "\n",
        "1. You can add more notebook cells or edit existing notebook cells other than \"# YOUR CODE HERE\" to test out or debug your code. We actually highly recommend you do so to gain a better understanding of what is happening. However, during grading, **these changes are ignored**. \n",
        "2. You must ensure that all your code for the particular task is available in the cells that say \"# YOUR CODE HERE\"\n",
        "3. Every cell that says \"# YOUR CODE HERE\" is followed by a \"raise NotImplementedError\". You need to remove that line. During grading, if an error occurs then you will not receive points for your work in that section.\n",
        "4. If your code passes the \"assert\" statements, then no output will result. If your code fails the \"assert\" statements, you will get an \"AssertionError\". Getting an assertion error means you will not receive points for that particular task.\n",
        "5. If you edit the \"assert\" statements to make your code pass, they will still fail when they are graded since the \"assert\" statements will revert to the original. Make sure you don't edit the assert statements.\n",
        "6. We may sometimes have \"hidden\" tests for grading. This means that passing the visible \"assert\" statements is not sufficient. The \"assert\" statements are there as a guide but you need to make sure you understand what you're required to do and ensure that you are doing it correctly. Passing the visible tests is necessary but not sufficient to get the grade for that cell.\n",
        "7. When you are asked to define a function, make sure you **don't** use any variables outside of the parameters passed to the function. You can think of the parameters being passed to the function as a hint. Make sure you're using all of those variables.\n",
        "8. Finally, **make sure you run \"Kernel > Restart and Run All\"** and pass all the asserts before submitting. If you don't restart the kernel, there may be some code that you ran and deleted that is still being used and that was why your asserts were passing."
      ]
    },
    {
      "cell_type": "markdown",
      "metadata": {
        "deletable": false,
        "editable": false,
        "nbgrader": {
          "cell_type": "markdown",
          "checksum": "c72cb50c0e638cb004dec850c91c6f1b",
          "grade": false,
          "grade_id": "cell-0ee2026dc35233b5",
          "locked": true,
          "schema_version": 3,
          "solution": false
        },
        "id": "ZIy7RurrnXMF"
      },
      "source": [
        "# Reinforcement Learning"
      ]
    },
    {
      "cell_type": "code",
      "metadata": {
        "deletable": false,
        "editable": false,
        "nbgrader": {
          "cell_type": "code",
          "checksum": "27b264c04bfd4e8ba35f88d24eac77b2",
          "grade": false,
          "grade_id": "cell-6c42419557b8f132",
          "locked": true,
          "schema_version": 3,
          "solution": false
        },
        "id": "LKlzv_hznXMF"
      },
      "source": [
        "from time import sleep\n",
        "from IPython.display import clear_output\n",
        "import random\n",
        "\n",
        "import gym\n",
        "import numpy as np\n",
        "np.random.seed(0)"
      ],
      "execution_count": 1,
      "outputs": []
    },
    {
      "cell_type": "markdown",
      "metadata": {
        "deletable": false,
        "editable": false,
        "nbgrader": {
          "cell_type": "markdown",
          "checksum": "efc3f50bafaa276f7346a2aee7545e67",
          "grade": false,
          "grade_id": "cell-36cbf46419269559",
          "locked": true,
          "schema_version": 3,
          "solution": false
        },
        "id": "e3Vfq-rNnXMF"
      },
      "source": [
        "We will be using [OpenAI's gym](https://gym.openai.com/docs/) for rendering environments and we will specifically use the [Taxi-v3](https://gym.openai.com/envs/Taxi-v3/) environment for this exercise."
      ]
    },
    {
      "cell_type": "code",
      "metadata": {
        "deletable": false,
        "editable": false,
        "nbgrader": {
          "cell_type": "code",
          "checksum": "8bc612b4b29b3e09bc6b6329359f1b68",
          "grade": false,
          "grade_id": "cell-ae8bb9fd4f2545d3",
          "locked": true,
          "schema_version": 3,
          "solution": false
        },
        "colab": {
          "base_uri": "https://localhost:8080/"
        },
        "id": "zVp1bEEOnXMF",
        "outputId": "92561729-168b-4749-8759-c55503ed676a"
      },
      "source": [
        "# Load the Taxi-v3 environment\n",
        "env = gym.make(\"Taxi-v3\").env\n",
        "\n",
        "# Standardize expected results\n",
        "env.seed(0)\n",
        "env.reset()\n",
        "\n",
        "print(f\"Current State: {env.s}\")\n",
        "env.render()"
      ],
      "execution_count": 2,
      "outputs": [
        {
          "output_type": "stream",
          "text": [
            "Current State: 26\n",
            "+---------+\n",
            "|R:\u001b[43m \u001b[0m| : :\u001b[34;1mG\u001b[0m|\n",
            "| : | : : |\n",
            "| : : : : |\n",
            "| | : | : |\n",
            "|\u001b[35mY\u001b[0m| : |B: |\n",
            "+---------+\n",
            "\n"
          ],
          "name": "stdout"
        }
      ]
    },
    {
      "cell_type": "markdown",
      "metadata": {
        "deletable": false,
        "editable": false,
        "nbgrader": {
          "cell_type": "markdown",
          "checksum": "9f05fcb83da252a21cb38e51e1acb64d",
          "grade": false,
          "grade_id": "cell-373c22c099142701",
          "locked": true,
          "schema_version": 3,
          "solution": false
        },
        "id": "h2QOZljsnXMF"
      },
      "source": [
        "The above section just rendered an example view of the environment. For the Taxi-v2 environment,\n",
        "\n",
        "1. the block is the taxi and it is yellow if empty and green if it contains a passenger\n",
        "1. Pipe symbols `|` represent barriers preventing the taxi from moving in that direction\n",
        "1. R, G, Y, B are all the possible pickup or dropoff locations for a passenger\n",
        "1. Blue font represents the current passenger's pickup location\n",
        "1. Purple font represents the current passenger's dropoff location\n",
        "\n",
        "The reward scheme for this environment is as follows, \"your job is to pick up the passenger at one location and drop them off in another. You receive +20 points for a successful dropoff, and lose 1 point for every timestep it takes. There is also a 10 point penalty for illegal pick-up and drop-off actions.\" A nicer visualization of the environment, along a description of the state space, is found in State Space section of this [blog post](https://www.learndatasci.com/tutorials/reinforcement-q-learning-scratch-python-openai-gym/)."
      ]
    },
    {
      "cell_type": "code",
      "metadata": {
        "deletable": false,
        "editable": false,
        "nbgrader": {
          "cell_type": "code",
          "checksum": "f1d663986a59f94d6cb03dd3d23b8bae",
          "grade": false,
          "grade_id": "cell-73b4814ef8176fe2",
          "locked": true,
          "schema_version": 3,
          "solution": false
        },
        "colab": {
          "base_uri": "https://localhost:8080/"
        },
        "id": "RTfQEVV1nXMF",
        "outputId": "ba580165-533f-4d60-d6e5-ae94e239d054"
      },
      "source": [
        "print(f\"The action space is discrete with {env.action_space.n} possibilities.\")\n",
        "print(f\"The observation (state) space is discrete with {env.observation_space.n} possibilities.\")"
      ],
      "execution_count": 3,
      "outputs": [
        {
          "output_type": "stream",
          "text": [
            "The action space is discrete with 6 possibilities.\n",
            "The observation (state) space is discrete with 500 possibilities.\n"
          ],
          "name": "stdout"
        }
      ]
    },
    {
      "cell_type": "markdown",
      "metadata": {
        "deletable": false,
        "editable": false,
        "nbgrader": {
          "cell_type": "markdown",
          "checksum": "129dda2db9b3af51fe218cf4cd044163",
          "grade": false,
          "grade_id": "cell-eadba99486bd8679",
          "locked": true,
          "schema_version": 3,
          "solution": false
        },
        "id": "lbUOyagVnXMF"
      },
      "source": [
        "The following actions are possible in the environment:\n",
        "\n",
        "1. Move south\n",
        "1. Move north\n",
        "1. Move east\n",
        "1. Move west\n",
        "1. Pick up passenger\n",
        "1. Drop off passenger"
      ]
    },
    {
      "cell_type": "code",
      "metadata": {
        "deletable": false,
        "nbgrader": {
          "cell_type": "code",
          "checksum": "2b756e8cc77a72df6c71551270e34ccc",
          "grade": false,
          "grade_id": "cell-5f22453e53fcf9cf",
          "locked": false,
          "schema_version": 3,
          "solution": true
        },
        "id": "gV7b8rSxnXMF"
      },
      "source": [
        "def initialize_q_table(env):\n",
        "    \"\"\"Initialize a Q table for an environment with all 0s\n",
        "    \n",
        "    Args:\n",
        "        env (gym.envs): The environment\n",
        "    \n",
        "    Returns:\n",
        "        np.array: The Q table of shape (observation space size, action space size)\n",
        "    \"\"\"\n",
        "    return np.zeros((env.observation_space.n, env.action_space.n))"
      ],
      "execution_count": 4,
      "outputs": []
    },
    {
      "cell_type": "code",
      "metadata": {
        "deletable": false,
        "editable": false,
        "nbgrader": {
          "cell_type": "code",
          "checksum": "89439d7ab26f71ec0aa9bd9b18cde47d",
          "grade": true,
          "grade_id": "cell-1f3967db32df3828",
          "locked": true,
          "points": 5,
          "schema_version": 3,
          "solution": false
        },
        "id": "uaaDn_FrnXMF"
      },
      "source": [
        "assert initialize_q_table(env).shape == (500, 6)\n",
        "xenv = gym.make(\"FrozenLake-v0\").env\n",
        "assert initialize_q_table(xenv).shape ==(16,4)"
      ],
      "execution_count": 5,
      "outputs": []
    },
    {
      "cell_type": "code",
      "metadata": {
        "deletable": false,
        "nbgrader": {
          "cell_type": "code",
          "checksum": "2a1fe1a216ea315321485e9ff33e19d2",
          "grade": false,
          "grade_id": "cell-4b276160d41b4aa0",
          "locked": false,
          "schema_version": 3,
          "solution": true
        },
        "id": "IJ8V1OunnXMF"
      },
      "source": [
        "def select_action(q_row, method, epsilon=0.5):\n",
        "    \"\"\"Select the appropriate action given a Q table row for the state and a chosen method\n",
        "    \n",
        "    Args:\n",
        "        q_row (np.array): The row from the Q table to utilize\n",
        "        method (str): The method to use, either \"random\" or \"epsilon\"\n",
        "        epsilon (float, optional): Defaults to 0.5. The epsilon value to use for epislon-greedy action selection\n",
        "    \n",
        "    Raises:\n",
        "        NameError: If method specified is not supported\n",
        "    \n",
        "    Returns:\n",
        "        int: The index of the action to apply\n",
        "    \"\"\"\n",
        "    if method not in [\"random\", \"epsilon\"]:\n",
        "        raise NameError(\"Undefined method.\")\n",
        "    p = random.random()\n",
        "    if method==\"random\" or p < epsilon:\n",
        "      return random.randint(0, len(q_row)-1)\n",
        "    else:\n",
        "      return np.argmax(q_row)"
      ],
      "execution_count": 6,
      "outputs": []
    },
    {
      "cell_type": "code",
      "metadata": {
        "deletable": false,
        "editable": false,
        "nbgrader": {
          "cell_type": "code",
          "checksum": "ec78e64fb3d0b6d16e2eaf9019a600cb",
          "grade": true,
          "grade_id": "cell-436a8b9b98845dd8",
          "locked": true,
          "points": 5,
          "schema_version": 3,
          "solution": false
        },
        "id": "oR3viwC4nXMF"
      },
      "source": [
        "assert select_action(np.array([1,2,3,4]), \"epsilon\", epsilon=0) == 3\n",
        "assert select_action(np.array([1,2,3,4]), \"epsilon\", epsilon=1) in range(4)\n",
        "assert select_action(np.array([1,2,3,4]), \"random\") in range(4)"
      ],
      "execution_count": 7,
      "outputs": []
    },
    {
      "cell_type": "markdown",
      "metadata": {
        "deletable": false,
        "editable": false,
        "nbgrader": {
          "cell_type": "markdown",
          "checksum": "fa909ca128db7a5886bcb4b2e6225575",
          "grade": false,
          "grade_id": "cell-2171ed4400886241",
          "locked": true,
          "schema_version": 3,
          "solution": false
        },
        "id": "nWYJec07nXMF"
      },
      "source": [
        "The `env.step(action)` method takes a parameter that is the action the agent decides to apply and returns 4 values:\n",
        "1. The new state\n",
        "1. The received reward\n",
        "1. Whether you have completed the task\n",
        "1. Miscellaneous information"
      ]
    },
    {
      "cell_type": "code",
      "metadata": {
        "deletable": false,
        "editable": false,
        "nbgrader": {
          "cell_type": "code",
          "checksum": "c8f3c85b8967d0c3131662c770503a19",
          "grade": false,
          "grade_id": "cell-219e07fb8178585a",
          "locked": true,
          "schema_version": 3,
          "solution": false
        },
        "colab": {
          "base_uri": "https://localhost:8080/"
        },
        "id": "qBm7meFznXMF",
        "outputId": "baa16e8e-67ff-412b-985c-5a52a234b619"
      },
      "source": [
        "action = 0\n",
        "vals = env.step(action)\n",
        "print(f\"An example returned from a step with action 0\")\n",
        "print(vals)\n",
        "print(f\"This returns the new state {vals[0]}, the reward received ({vals[1]}) based on performing the action {action}, whether or not the task has been completed, {vals[2]}, and some additional miscellaneous info.\")"
      ],
      "execution_count": 8,
      "outputs": [
        {
          "output_type": "stream",
          "text": [
            "An example returned from a step with action 0\n",
            "(126, -1, False, {'prob': 1.0})\n",
            "This returns the new state 126, the reward received (-1) based on performing the action 0, whether or not the task has been completed, False, and some additional miscellaneous info.\n"
          ],
          "name": "stdout"
        }
      ]
    },
    {
      "cell_type": "code",
      "metadata": {
        "deletable": false,
        "nbgrader": {
          "cell_type": "code",
          "checksum": "f930657e2f5fb7602cdb97d7ef001d78",
          "grade": false,
          "grade_id": "cell-0234e0a3e6f2eb0a",
          "locked": false,
          "schema_version": 3,
          "solution": true
        },
        "id": "ICgjR-k7nXMF"
      },
      "source": [
        "def calculate_new_q_val(q_table, state, action, reward, next_state, alpha, gamma):\n",
        "    \"\"\"Calculate the updated Q table value for a particular state and action given the necessary parameters\n",
        "    \n",
        "    Args:\n",
        "        q_table (np.array): The Q table\n",
        "        state (int): The current state of the simulation's index in the Q table\n",
        "        action (int): The current action's index in the Q table\n",
        "        reward (float): The returned reward value from the environment\n",
        "        next_state (int): The next state of the simulation's index in the Q table (Based on the environment)\n",
        "        alpha (float): The learning rate\n",
        "        gamma (float): The discount rate\n",
        "    \n",
        "    Returns:\n",
        "        float: The updated action-value expectation for the state and action\n",
        "    \"\"\"\n",
        "    max_action = np.max(q_table[next_state, :])\n",
        "    return (1-alpha)*q_table[state,action] + alpha*(reward + gamma*max_action)"
      ],
      "execution_count": 9,
      "outputs": []
    },
    {
      "cell_type": "code",
      "metadata": {
        "deletable": false,
        "editable": false,
        "nbgrader": {
          "cell_type": "code",
          "checksum": "ca2f0f747e9f62e7fda1f85770414aed",
          "grade": true,
          "grade_id": "cell-f5c631dceb6c6cf0",
          "locked": true,
          "points": 5,
          "schema_version": 3,
          "solution": false
        },
        "id": "rg8NNZU8nXMF"
      },
      "source": [
        "test_q = np.array([[1,2,3,4],[1,2,3,4],[1,2,3,4]])\n",
        "assert -0.05 < calculate_new_q_val(test_q, 0, 1, 10, 1, 0.1, 0.2) - 2.88 < 0.05\n",
        "assert -0.05 < calculate_new_q_val(test_q, 0, 1, 1, 1, 0.1, 0.1) - 1.94 < 0.05\n",
        "assert -0.05 < calculate_new_q_val(test_q, 0, 1, -11, 2, 0.1, 0.1) - 0.74 < 0.05"
      ],
      "execution_count": 10,
      "outputs": []
    },
    {
      "cell_type": "code",
      "metadata": {
        "deletable": false,
        "editable": false,
        "nbgrader": {
          "cell_type": "code",
          "checksum": "cd64b8626b3cfc824a0a4f42e37a9348",
          "grade": false,
          "grade_id": "cell-b7b2eccdd9ee9f58",
          "locked": true,
          "schema_version": 3,
          "solution": false
        },
        "id": "DAJCHo5dnXMF"
      },
      "source": [
        "epsilon1_params = {\n",
        "    \"method\": \"epsilon\",\n",
        "    \"epsilon\": 0.1,\n",
        "    \"alpha\": 0.1,\n",
        "    \"gamma\": 0.5\n",
        "}"
      ],
      "execution_count": 11,
      "outputs": []
    },
    {
      "cell_type": "code",
      "metadata": {
        "deletable": false,
        "editable": false,
        "nbgrader": {
          "cell_type": "code",
          "checksum": "fb2ef67b6b51049b7ec5d7d478dcab11",
          "grade": false,
          "grade_id": "cell-15780bf5037e08f3",
          "locked": true,
          "schema_version": 3,
          "solution": false
        },
        "id": "xWH4DK0QnXMF"
      },
      "source": [
        "epsilon2_params = {\n",
        "    \"method\": \"epsilon\",\n",
        "    \"epsilon\": 0.3,\n",
        "    \"alpha\": 0.1,\n",
        "    \"gamma\": 0.5\n",
        "}"
      ],
      "execution_count": 12,
      "outputs": []
    },
    {
      "cell_type": "code",
      "metadata": {
        "deletable": false,
        "nbgrader": {
          "cell_type": "code",
          "checksum": "42626eb381710fc93f56fe5ab7fbfef0",
          "grade": false,
          "grade_id": "cell-13af0762ec7af495",
          "locked": false,
          "schema_version": 3,
          "solution": true
        },
        "id": "ivOXRCFcnXMF"
      },
      "source": [
        "def train_sim(env, params, n=100):\n",
        "    \"\"\"Run a training simulation in an environment and return its Q table\n",
        "    \n",
        "    Args:\n",
        "        env (gym.envs): The environment to train in\n",
        "        params (dict): The parameters needed to train the simulation: method (for action selection), epsilon, alpha, gamma\n",
        "        n (int, optional): Defaults to 100. The number of simulations to run for training\n",
        "    \n",
        "    Returns:\n",
        "        np.array: The trained Q table from the simulation\n",
        "    \"\"\"\n",
        "    my_q = initialize_q_table(env)\n",
        "    \n",
        "    for i in range(n):\n",
        "        current_state = env.reset()\n",
        "        done = False\n",
        "        \n",
        "        while not done:\n",
        "            # Get the next action based on current state\n",
        "            # Step through the environment with the selected action\n",
        "            # Update the qtable\n",
        "            \n",
        "            action = select_action(my_q[current_state,:], params[\"method\"], params[\"epsilon\"])\n",
        "            step_vals = env.step(action)\n",
        "            next_state = step_vals[0]\n",
        "            reward = step_vals[1]\n",
        "            done = step_vals[2]\n",
        "            my_q[current_state,action] = calculate_new_q_val(my_q, current_state, action, reward, next_state, params[\"alpha\"], params[\"gamma\"])\n",
        "\n",
        "            # Prep for next iteration\n",
        "            current_state = next_state \n",
        "\n",
        "        if (i+1) % 100 == 0:\n",
        "            print(f\"Simulation #{i+1:,} complete.\")\n",
        "        \n",
        "    return my_q"
      ],
      "execution_count": 13,
      "outputs": []
    },
    {
      "cell_type": "code",
      "metadata": {
        "deletable": false,
        "editable": false,
        "nbgrader": {
          "cell_type": "code",
          "checksum": "b09d65393362da33ebb91b8cd2aa9677",
          "grade": false,
          "grade_id": "cell-9edcffba53e06847",
          "locked": true,
          "schema_version": 3,
          "solution": false
        },
        "colab": {
          "base_uri": "https://localhost:8080/"
        },
        "id": "rcVz_72qnXMF",
        "outputId": "4df2db65-7e15-409a-ee1c-a80dcda86646"
      },
      "source": [
        "%%time\n",
        "n = 10000\n",
        "epsilon1_q = train_sim(env, epsilon1_params, n)\n",
        "epsilon2_q = train_sim(env, epsilon2_params, n)"
      ],
      "execution_count": 14,
      "outputs": [
        {
          "output_type": "stream",
          "text": [
            "Simulation #100 complete.\n",
            "Simulation #200 complete.\n",
            "Simulation #300 complete.\n",
            "Simulation #400 complete.\n",
            "Simulation #500 complete.\n",
            "Simulation #600 complete.\n",
            "Simulation #700 complete.\n",
            "Simulation #800 complete.\n",
            "Simulation #900 complete.\n",
            "Simulation #1,000 complete.\n",
            "Simulation #1,100 complete.\n",
            "Simulation #1,200 complete.\n",
            "Simulation #1,300 complete.\n",
            "Simulation #1,400 complete.\n",
            "Simulation #1,500 complete.\n",
            "Simulation #1,600 complete.\n",
            "Simulation #1,700 complete.\n",
            "Simulation #1,800 complete.\n",
            "Simulation #1,900 complete.\n",
            "Simulation #2,000 complete.\n",
            "Simulation #2,100 complete.\n",
            "Simulation #2,200 complete.\n",
            "Simulation #2,300 complete.\n",
            "Simulation #2,400 complete.\n",
            "Simulation #2,500 complete.\n",
            "Simulation #2,600 complete.\n",
            "Simulation #2,700 complete.\n",
            "Simulation #2,800 complete.\n",
            "Simulation #2,900 complete.\n",
            "Simulation #3,000 complete.\n",
            "Simulation #3,100 complete.\n",
            "Simulation #3,200 complete.\n",
            "Simulation #3,300 complete.\n",
            "Simulation #3,400 complete.\n",
            "Simulation #3,500 complete.\n",
            "Simulation #3,600 complete.\n",
            "Simulation #3,700 complete.\n",
            "Simulation #3,800 complete.\n",
            "Simulation #3,900 complete.\n",
            "Simulation #4,000 complete.\n",
            "Simulation #4,100 complete.\n",
            "Simulation #4,200 complete.\n",
            "Simulation #4,300 complete.\n",
            "Simulation #4,400 complete.\n",
            "Simulation #4,500 complete.\n",
            "Simulation #4,600 complete.\n",
            "Simulation #4,700 complete.\n",
            "Simulation #4,800 complete.\n",
            "Simulation #4,900 complete.\n",
            "Simulation #5,000 complete.\n",
            "Simulation #5,100 complete.\n",
            "Simulation #5,200 complete.\n",
            "Simulation #5,300 complete.\n",
            "Simulation #5,400 complete.\n",
            "Simulation #5,500 complete.\n",
            "Simulation #5,600 complete.\n",
            "Simulation #5,700 complete.\n",
            "Simulation #5,800 complete.\n",
            "Simulation #5,900 complete.\n",
            "Simulation #6,000 complete.\n",
            "Simulation #6,100 complete.\n",
            "Simulation #6,200 complete.\n",
            "Simulation #6,300 complete.\n",
            "Simulation #6,400 complete.\n",
            "Simulation #6,500 complete.\n",
            "Simulation #6,600 complete.\n",
            "Simulation #6,700 complete.\n",
            "Simulation #6,800 complete.\n",
            "Simulation #6,900 complete.\n",
            "Simulation #7,000 complete.\n",
            "Simulation #7,100 complete.\n",
            "Simulation #7,200 complete.\n",
            "Simulation #7,300 complete.\n",
            "Simulation #7,400 complete.\n",
            "Simulation #7,500 complete.\n",
            "Simulation #7,600 complete.\n",
            "Simulation #7,700 complete.\n",
            "Simulation #7,800 complete.\n",
            "Simulation #7,900 complete.\n",
            "Simulation #8,000 complete.\n",
            "Simulation #8,100 complete.\n",
            "Simulation #8,200 complete.\n",
            "Simulation #8,300 complete.\n",
            "Simulation #8,400 complete.\n",
            "Simulation #8,500 complete.\n",
            "Simulation #8,600 complete.\n",
            "Simulation #8,700 complete.\n",
            "Simulation #8,800 complete.\n",
            "Simulation #8,900 complete.\n",
            "Simulation #9,000 complete.\n",
            "Simulation #9,100 complete.\n",
            "Simulation #9,200 complete.\n",
            "Simulation #9,300 complete.\n",
            "Simulation #9,400 complete.\n",
            "Simulation #9,500 complete.\n",
            "Simulation #9,600 complete.\n",
            "Simulation #9,700 complete.\n",
            "Simulation #9,800 complete.\n",
            "Simulation #9,900 complete.\n",
            "Simulation #10,000 complete.\n",
            "Simulation #100 complete.\n",
            "Simulation #200 complete.\n",
            "Simulation #300 complete.\n",
            "Simulation #400 complete.\n",
            "Simulation #500 complete.\n",
            "Simulation #600 complete.\n",
            "Simulation #700 complete.\n",
            "Simulation #800 complete.\n",
            "Simulation #900 complete.\n",
            "Simulation #1,000 complete.\n",
            "Simulation #1,100 complete.\n",
            "Simulation #1,200 complete.\n",
            "Simulation #1,300 complete.\n",
            "Simulation #1,400 complete.\n",
            "Simulation #1,500 complete.\n",
            "Simulation #1,600 complete.\n",
            "Simulation #1,700 complete.\n",
            "Simulation #1,800 complete.\n",
            "Simulation #1,900 complete.\n",
            "Simulation #2,000 complete.\n",
            "Simulation #2,100 complete.\n",
            "Simulation #2,200 complete.\n",
            "Simulation #2,300 complete.\n",
            "Simulation #2,400 complete.\n",
            "Simulation #2,500 complete.\n",
            "Simulation #2,600 complete.\n",
            "Simulation #2,700 complete.\n",
            "Simulation #2,800 complete.\n",
            "Simulation #2,900 complete.\n",
            "Simulation #3,000 complete.\n",
            "Simulation #3,100 complete.\n",
            "Simulation #3,200 complete.\n",
            "Simulation #3,300 complete.\n",
            "Simulation #3,400 complete.\n",
            "Simulation #3,500 complete.\n",
            "Simulation #3,600 complete.\n",
            "Simulation #3,700 complete.\n",
            "Simulation #3,800 complete.\n",
            "Simulation #3,900 complete.\n",
            "Simulation #4,000 complete.\n",
            "Simulation #4,100 complete.\n",
            "Simulation #4,200 complete.\n",
            "Simulation #4,300 complete.\n",
            "Simulation #4,400 complete.\n",
            "Simulation #4,500 complete.\n",
            "Simulation #4,600 complete.\n",
            "Simulation #4,700 complete.\n",
            "Simulation #4,800 complete.\n",
            "Simulation #4,900 complete.\n",
            "Simulation #5,000 complete.\n",
            "Simulation #5,100 complete.\n",
            "Simulation #5,200 complete.\n",
            "Simulation #5,300 complete.\n",
            "Simulation #5,400 complete.\n",
            "Simulation #5,500 complete.\n",
            "Simulation #5,600 complete.\n",
            "Simulation #5,700 complete.\n",
            "Simulation #5,800 complete.\n",
            "Simulation #5,900 complete.\n",
            "Simulation #6,000 complete.\n",
            "Simulation #6,100 complete.\n",
            "Simulation #6,200 complete.\n",
            "Simulation #6,300 complete.\n",
            "Simulation #6,400 complete.\n",
            "Simulation #6,500 complete.\n",
            "Simulation #6,600 complete.\n",
            "Simulation #6,700 complete.\n",
            "Simulation #6,800 complete.\n",
            "Simulation #6,900 complete.\n",
            "Simulation #7,000 complete.\n",
            "Simulation #7,100 complete.\n",
            "Simulation #7,200 complete.\n",
            "Simulation #7,300 complete.\n",
            "Simulation #7,400 complete.\n",
            "Simulation #7,500 complete.\n",
            "Simulation #7,600 complete.\n",
            "Simulation #7,700 complete.\n",
            "Simulation #7,800 complete.\n",
            "Simulation #7,900 complete.\n",
            "Simulation #8,000 complete.\n",
            "Simulation #8,100 complete.\n",
            "Simulation #8,200 complete.\n",
            "Simulation #8,300 complete.\n",
            "Simulation #8,400 complete.\n",
            "Simulation #8,500 complete.\n",
            "Simulation #8,600 complete.\n",
            "Simulation #8,700 complete.\n",
            "Simulation #8,800 complete.\n",
            "Simulation #8,900 complete.\n",
            "Simulation #9,000 complete.\n",
            "Simulation #9,100 complete.\n",
            "Simulation #9,200 complete.\n",
            "Simulation #9,300 complete.\n",
            "Simulation #9,400 complete.\n",
            "Simulation #9,500 complete.\n",
            "Simulation #9,600 complete.\n",
            "Simulation #9,700 complete.\n",
            "Simulation #9,800 complete.\n",
            "Simulation #9,900 complete.\n",
            "Simulation #10,000 complete.\n",
            "CPU times: user 16.6 s, sys: 1.29 s, total: 17.9 s\n",
            "Wall time: 16.5 s\n"
          ],
          "name": "stdout"
        }
      ]
    },
    {
      "cell_type": "code",
      "metadata": {
        "deletable": false,
        "nbgrader": {
          "cell_type": "code",
          "checksum": "89d09960d90b298c08ccedbd1983bf09",
          "grade": false,
          "grade_id": "cell-2100a877594cd931",
          "locked": false,
          "schema_version": 3,
          "solution": true
        },
        "id": "pIzeo8lunXMF"
      },
      "source": [
        "def test_sim(env, q_table, n=100, render=True):\n",
        "    \"\"\"Test an environment using a pre-trained Q table\n",
        "    \n",
        "    Args:\n",
        "        env (gym.envs): The environment to test\n",
        "        q_table (np.array): The pretrained Q table\n",
        "        n (int, optional): Defaults to 100. The number of test iterations to run\n",
        "        render (bool, optional): Defaults to False. Whether to display a rendering of the environment\n",
        "    \n",
        "    Returns:\n",
        "        np.array: Array of length n with each value being the cumulative reward achieved in the simulation\n",
        "    \"\"\"\n",
        "    rewards = []\n",
        "    \n",
        "    for i in range(n):\n",
        "        current_state = env.reset()\n",
        "\n",
        "        tot_reward = 0\n",
        "        done = False\n",
        "        step = 0\n",
        "\n",
        "        while not done:\n",
        "            \n",
        "            # Determine the best action\n",
        "            # Step through the environment\n",
        "            \n",
        "            action = select_action(q_table[current_state,:], \"epsilon\", epsilon=0)\n",
        "            step_vals = env.step(action)\n",
        "            next_state = step_vals[0]\n",
        "            reward = step_vals[1]\n",
        "            done = step_vals[2]\n",
        "\n",
        "            current_state = next_state\n",
        "\n",
        "            tot_reward += reward\n",
        "            step +=1\n",
        "            if render:\n",
        "                clear_output(wait=True)\n",
        "                print(f\"Simulation: {i + 1}\")\n",
        "                env.render()\n",
        "                print(f\"Step: {step}\")\n",
        "                print(f\"Current State: {current_state}\")\n",
        "                print(f\"Action: {action}\")\n",
        "                print(f\"Reward: {reward}\")\n",
        "                print(f\"Total rewards: {tot_reward}\")\n",
        "                sleep(.2)\n",
        "            if step == 50:\n",
        "                print(\"Agent got stuck. Quitting...\")\n",
        "                sleep(.5)\n",
        "                break\n",
        "        \n",
        "        rewards.append(tot_reward)\n",
        "    \n",
        "    return np.array(rewards)"
      ],
      "execution_count": 15,
      "outputs": []
    },
    {
      "cell_type": "code",
      "metadata": {
        "deletable": false,
        "editable": false,
        "nbgrader": {
          "cell_type": "code",
          "checksum": "f23d9ff8e15594d3a1ab28725984fccd",
          "grade": false,
          "grade_id": "cell-18ab739306cf86ff",
          "locked": true,
          "schema_version": 3,
          "solution": false
        },
        "colab": {
          "base_uri": "https://localhost:8080/"
        },
        "id": "OdT9LntfnXMF",
        "outputId": "4675449b-f4aa-48b8-8b36-ad2373d99e5b"
      },
      "source": [
        "# Add render=True to see the simulation running\n",
        "epsilon1_rewards = test_sim(env, epsilon1_q, 10)"
      ],
      "execution_count": 16,
      "outputs": [
        {
          "output_type": "stream",
          "text": [
            "Simulation: 10\n",
            "+---------+\n",
            "|R: | : :G|\n",
            "| : | : : |\n",
            "| : : : : |\n",
            "| | : | : |\n",
            "|Y| : |\u001b[35m\u001b[34;1m\u001b[43mB\u001b[0m\u001b[0m\u001b[0m: |\n",
            "+---------+\n",
            "  (Dropoff)\n",
            "Step: 14\n",
            "Current State: 475\n",
            "Action: 5\n",
            "Reward: 20\n",
            "Total rewards: 7\n"
          ],
          "name": "stdout"
        }
      ]
    },
    {
      "cell_type": "code",
      "metadata": {
        "deletable": false,
        "editable": false,
        "nbgrader": {
          "cell_type": "code",
          "checksum": "3d50a42b8e7439f5847b220dcf6d8fcc",
          "grade": false,
          "grade_id": "cell-b4310173795ca573",
          "locked": true,
          "schema_version": 3,
          "solution": false
        },
        "colab": {
          "base_uri": "https://localhost:8080/"
        },
        "id": "t00mOqVdnXMF",
        "outputId": "8ea0096b-2fa3-42bd-f283-5275c9820754"
      },
      "source": [
        "epsilon2_rewards = test_sim(env, epsilon2_q, 10)"
      ],
      "execution_count": 17,
      "outputs": [
        {
          "output_type": "stream",
          "text": [
            "Simulation: 10\n",
            "+---------+\n",
            "|R: | : :\u001b[35m\u001b[34;1m\u001b[43mG\u001b[0m\u001b[0m\u001b[0m|\n",
            "| : | : : |\n",
            "| : : : : |\n",
            "| | : | : |\n",
            "|Y| : |B: |\n",
            "+---------+\n",
            "  (Dropoff)\n",
            "Step: 17\n",
            "Current State: 85\n",
            "Action: 5\n",
            "Reward: 20\n",
            "Total rewards: 4\n"
          ],
          "name": "stdout"
        }
      ]
    },
    {
      "cell_type": "code",
      "metadata": {
        "deletable": false,
        "editable": false,
        "nbgrader": {
          "cell_type": "code",
          "checksum": "602cd8f63c3ca11004c922bf9c01e79c",
          "grade": false,
          "grade_id": "cell-0a858504adc25ae1",
          "locked": true,
          "schema_version": 3,
          "solution": false
        },
        "colab": {
          "base_uri": "https://localhost:8080/"
        },
        "id": "bsD1QQk8nXMF",
        "outputId": "760e1e88-6e0f-4846-d7bd-44f3025a6789"
      },
      "source": [
        "print(f\"The first epsilon greedy training method was able to get a median reward of {np.median(epsilon1_rewards)}.\")\n",
        "print(f\"The second epsilon greedy training method was able to get a median reward of {np.median(epsilon2_rewards)}.\")"
      ],
      "execution_count": 18,
      "outputs": [
        {
          "output_type": "stream",
          "text": [
            "The first epsilon greedy training method was able to get a median reward of 7.5.\n",
            "The second epsilon greedy training method was able to get a median reward of 7.5.\n"
          ],
          "name": "stdout"
        }
      ]
    },
    {
      "cell_type": "code",
      "metadata": {
        "deletable": false,
        "editable": false,
        "nbgrader": {
          "cell_type": "code",
          "checksum": "97509b474772b11f99eada582bdbedcf",
          "grade": true,
          "grade_id": "cell-a4db87228ab068a8",
          "locked": true,
          "points": 5,
          "schema_version": 3,
          "solution": false
        },
        "id": "8N_Ic0lnnXMF"
      },
      "source": [
        "# Your models may sometimes not pass the below asserts but you should be able to get it at least work sometimes\n",
        "# To avoid any issues with grading, we've commented them out.\n",
        "# To make the most out of this activity, please uncomment them and get them to at least occasionally pass\n",
        "assert np.median(epsilon1_rewards) > 5\n",
        "assert np.median(epsilon2_rewards) > 5"
      ],
      "execution_count": 19,
      "outputs": []
    },
    {
      "cell_type": "markdown",
      "metadata": {
        "deletable": false,
        "editable": false,
        "nbgrader": {
          "cell_type": "markdown",
          "checksum": "d0396d41ebf05afc94934500ec6d00c6",
          "grade": false,
          "grade_id": "cell-b19c1d376892e2c1",
          "locked": true,
          "schema_version": 3,
          "solution": false
        },
        "id": "ynlD_e6fnXMF"
      },
      "source": [
        "## Feedback"
      ]
    },
    {
      "cell_type": "code",
      "metadata": {
        "deletable": false,
        "nbgrader": {
          "cell_type": "code",
          "checksum": "ed936ab53a1391c5e6af8df699a1dbf5",
          "grade": false,
          "grade_id": "feedback",
          "locked": false,
          "schema_version": 3,
          "solution": true
        },
        "id": "xosQsWCOnXMF"
      },
      "source": [
        "def feedback():\n",
        "    \"\"\"Provide feedback on the contents of this exercise\n",
        "    \n",
        "    Returns:\n",
        "        string\n",
        "    \"\"\"\n",
        "    return \"All good!\"  "
      ],
      "execution_count": 21,
      "outputs": []
    },
    {
      "cell_type": "code",
      "metadata": {
        "deletable": false,
        "editable": false,
        "nbgrader": {
          "cell_type": "code",
          "checksum": "f39f6185a54850c2f1f9b5b2a17b7543",
          "grade": true,
          "grade_id": "feedback-tests",
          "locked": true,
          "points": 0,
          "schema_version": 3,
          "solution": false
        },
        "colab": {
          "base_uri": "https://localhost:8080/"
        },
        "id": "I1ErgcjinXMF",
        "outputId": "c678f05d-bef4-46bd-b1b3-c9ac324d0c4d"
      },
      "source": [
        "print(feedback())"
      ],
      "execution_count": 22,
      "outputs": [
        {
          "output_type": "stream",
          "text": [
            "All good!\n"
          ],
          "name": "stdout"
        }
      ]
    }
  ]
}