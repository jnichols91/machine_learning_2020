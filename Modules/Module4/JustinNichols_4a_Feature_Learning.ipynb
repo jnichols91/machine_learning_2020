{
  "nbformat": 4,
  "nbformat_minor": 0,
  "metadata": {
    "kernelspec": {
      "name": "python3",
      "display_name": "Python 3"
    },
    "colab": {
      "name": "JustinNichols_4a_Feature_Learning.ipynb",
      "provenance": [],
      "collapsed_sections": [
        "-B0SENaHXeBS",
        "1oFxa4ROXeBe",
        "3iLTa-E2XeBl",
        "t2PSs7alXeBu",
        "SCnB6tGGXeB3"
      ]
    }
  },
  "cells": [
    {
      "cell_type": "markdown",
      "metadata": {
        "id": "6g33YDAjXeA6"
      },
      "source": [
        "## CSCI 470 Activities and Case Studies\n",
        "\n",
        "1. For all activities, you are allowed to collaborate with a partner. \n",
        "1. For case studies, you should work individually and are **not** allowed to collaborate.\n",
        "\n",
        "By filling out this notebook and submitting it, you acknowledge that you are aware of the above policies and are agreeing to comply with them."
      ]
    },
    {
      "cell_type": "markdown",
      "metadata": {
        "id": "QWCOSWZ5XeA6"
      },
      "source": [
        "Some considerations with regard to how these notebooks will be graded:\n",
        "\n",
        "1. You can add more notebook cells or edit existing notebook cells other than \"# YOUR CODE HERE\" to test out or debug your code. We actually highly recommend you do so to gain a better understanding of what is happening. However, during grading, **these changes are ignored**. \n",
        "2. You must ensure that all your code for the particular task is available in the cells that say \"# YOUR CODE HERE\"\n",
        "3. Every cell that says \"# YOUR CODE HERE\" is followed by a \"raise NotImplementedError\". You need to remove that line. During grading, if an error occurs then you will not receive points for your work in that section.\n",
        "4. If your code passes the \"assert\" statements, then no output will result. If your code fails the \"assert\" statements, you will get an \"AssertionError\". Getting an assertion error means you will not receive points for that particular task.\n",
        "5. If you edit the \"assert\" statements to make your code pass, they will still fail when they are graded since the \"assert\" statements will revert to the original. Make sure you don't edit the assert statements.\n",
        "6. We may sometimes have \"hidden\" tests for grading. This means that passing the visible \"assert\" statements is not sufficient. The \"assert\" statements are there as a guide but you need to make sure you understand what you're required to do and ensure that you are doing it correctly. Passing the visible tests is necessary but not sufficient to get the grade for that cell.\n",
        "7. When you are asked to define a function, make sure you **don't** use any variables outside of the parameters passed to the function. You can think of the parameters being passed to the function as a hint. Make sure you're using all of those variables.\n",
        "8. Finally, **make sure you run \"Kernel > Restart and Run All\"** and pass all the asserts before submitting. If you don't restart the kernel, there may be some code that you ran and deleted that is still being used and that was why your asserts were passing."
      ]
    },
    {
      "cell_type": "markdown",
      "metadata": {
        "deletable": false,
        "editable": false,
        "nbgrader": {
          "cell_type": "markdown",
          "checksum": "7549448ad2c14f6dd4289a8ed77b0c6c",
          "grade": false,
          "grade_id": "cell-9aa804aaaa8f9bca",
          "locked": true,
          "schema_version": 3,
          "solution": false
        },
        "id": "9ZhOeT8SXeA7"
      },
      "source": [
        "# Feature Learning\n",
        "\n",
        "In this exercise we will run feature learning methods on a dataset to identify the key features to use for predicting a target within it."
      ]
    },
    {
      "cell_type": "code",
      "metadata": {
        "deletable": false,
        "editable": false,
        "nbgrader": {
          "cell_type": "code",
          "checksum": "1fb04df1383071b8c98758b7274af192",
          "grade": false,
          "grade_id": "cell-675ea75b33420748",
          "locked": true,
          "schema_version": 3,
          "solution": false
        },
        "id": "QhqjnUyaXeA8"
      },
      "source": [
        "import numpy as np\n",
        "import pandas as pd\n",
        "import matplotlib\n",
        "import matplotlib.pyplot as plt\n",
        "import sklearn as sk\n",
        "\n",
        "plt.style.use(\"ggplot\")"
      ],
      "execution_count": 1,
      "outputs": []
    },
    {
      "cell_type": "code",
      "metadata": {
        "deletable": false,
        "editable": false,
        "nbgrader": {
          "cell_type": "code",
          "checksum": "acbcc6c26d8eed58a63b38d7a00dc64c",
          "grade": false,
          "grade_id": "cell-dcc937bc7b3f119b",
          "locked": true,
          "schema_version": 3,
          "solution": false
        },
        "id": "rTc5pmMAXeA-"
      },
      "source": [
        "from sklearn.datasets import fetch_california_housing\n",
        "from sklearn.model_selection import train_test_split, GridSearchCV\n",
        "from sklearn.feature_selection import SelectKBest, mutual_info_regression, RFE\n",
        "from sklearn.linear_model import LinearRegression, LassoCV\n",
        "from sklearn.decomposition import PCA\n",
        "from sklearn.metrics import mean_squared_error"
      ],
      "execution_count": 2,
      "outputs": []
    },
    {
      "cell_type": "markdown",
      "metadata": {
        "deletable": false,
        "editable": false,
        "nbgrader": {
          "cell_type": "markdown",
          "checksum": "7fb5cd342ec6cc8e53a4ef9ce07334af",
          "grade": false,
          "grade_id": "cell-700c5cdb1419069b",
          "locked": true,
          "schema_version": 3,
          "solution": false
        },
        "id": "K3Zvi7OdXeBA"
      },
      "source": [
        "The data we'll be working with is the [California housing dataset](http://scikit-learn.org/stable/datasets/index.html#california-housing-dataset)."
      ]
    },
    {
      "cell_type": "code",
      "metadata": {
        "deletable": false,
        "editable": false,
        "nbgrader": {
          "cell_type": "code",
          "checksum": "8694c13143cbba69c35dea1200d40729",
          "grade": false,
          "grade_id": "cell-5ec1b36cba18af4d",
          "locked": true,
          "schema_version": 3,
          "solution": false
        },
        "id": "r5bubr0wXeBB",
        "outputId": "27954ec3-97dd-4dd6-9d1e-fe6581ce62ac",
        "colab": {
          "base_uri": "https://localhost:8080/",
          "height": 34
        }
      },
      "source": [
        "house_data = fetch_california_housing()"
      ],
      "execution_count": 3,
      "outputs": [
        {
          "output_type": "stream",
          "text": [
            "Downloading Cal. housing from https://ndownloader.figshare.com/files/5976036 to /root/scikit_learn_data\n"
          ],
          "name": "stderr"
        }
      ]
    },
    {
      "cell_type": "code",
      "metadata": {
        "id": "L3EPnT3lXeBD",
        "outputId": "29deed9b-5436-423a-c612-edcffe1d9357",
        "colab": {
          "base_uri": "https://localhost:8080/",
          "height": 723
        }
      },
      "source": [
        "print(house_data[\"DESCR\"])"
      ],
      "execution_count": 4,
      "outputs": [
        {
          "output_type": "stream",
          "text": [
            ".. _california_housing_dataset:\n",
            "\n",
            "California Housing dataset\n",
            "--------------------------\n",
            "\n",
            "**Data Set Characteristics:**\n",
            "\n",
            "    :Number of Instances: 20640\n",
            "\n",
            "    :Number of Attributes: 8 numeric, predictive attributes and the target\n",
            "\n",
            "    :Attribute Information:\n",
            "        - MedInc        median income in block\n",
            "        - HouseAge      median house age in block\n",
            "        - AveRooms      average number of rooms\n",
            "        - AveBedrms     average number of bedrooms\n",
            "        - Population    block population\n",
            "        - AveOccup      average house occupancy\n",
            "        - Latitude      house block latitude\n",
            "        - Longitude     house block longitude\n",
            "\n",
            "    :Missing Attribute Values: None\n",
            "\n",
            "This dataset was obtained from the StatLib repository.\n",
            "http://lib.stat.cmu.edu/datasets/\n",
            "\n",
            "The target variable is the median house value for California districts.\n",
            "\n",
            "This dataset was derived from the 1990 U.S. census, using one row per census\n",
            "block group. A block group is the smallest geographical unit for which the U.S.\n",
            "Census Bureau publishes sample data (a block group typically has a population\n",
            "of 600 to 3,000 people).\n",
            "\n",
            "It can be downloaded/loaded using the\n",
            ":func:`sklearn.datasets.fetch_california_housing` function.\n",
            "\n",
            ".. topic:: References\n",
            "\n",
            "    - Pace, R. Kelley and Ronald Barry, Sparse Spatial Autoregressions,\n",
            "      Statistics and Probability Letters, 33 (1997) 291-297\n",
            "\n"
          ],
          "name": "stdout"
        }
      ]
    },
    {
      "cell_type": "markdown",
      "metadata": {
        "id": "SW9Z-MURXeBF"
      },
      "source": [
        "By reading the above information about the data, which features do you intuit meaningful for predicting the target? Which are not meaningful?"
      ]
    },
    {
      "cell_type": "code",
      "metadata": {
        "deletable": false,
        "editable": false,
        "nbgrader": {
          "cell_type": "code",
          "checksum": "7f0db01c55b339e171da352d2734570f",
          "grade": false,
          "grade_id": "cell-f7103f854887d832",
          "locked": true,
          "schema_version": 3,
          "solution": false
        },
        "id": "1evhkLUDXeBF"
      },
      "source": [
        "house_features = pd.DataFrame(house_data[\"data\"], columns=house_data[\"feature_names\"])\n",
        "house_prices = pd.Series(house_data[\"target\"])"
      ],
      "execution_count": 5,
      "outputs": []
    },
    {
      "cell_type": "code",
      "metadata": {
        "deletable": false,
        "editable": false,
        "nbgrader": {
          "cell_type": "code",
          "checksum": "0cf0b6c83f7171764bb881774daea1c5",
          "grade": false,
          "grade_id": "cell-10562d702c478147",
          "locked": true,
          "schema_version": 3,
          "solution": false
        },
        "id": "beTMXPbwXeBI",
        "outputId": "2b90e59c-bf27-4697-b7c7-e9f93e3fa97e",
        "colab": {
          "base_uri": "https://localhost:8080/",
          "height": 201
        }
      },
      "source": [
        "house_features.head()"
      ],
      "execution_count": 6,
      "outputs": [
        {
          "output_type": "execute_result",
          "data": {
            "text/html": [
              "<div>\n",
              "<style scoped>\n",
              "    .dataframe tbody tr th:only-of-type {\n",
              "        vertical-align: middle;\n",
              "    }\n",
              "\n",
              "    .dataframe tbody tr th {\n",
              "        vertical-align: top;\n",
              "    }\n",
              "\n",
              "    .dataframe thead th {\n",
              "        text-align: right;\n",
              "    }\n",
              "</style>\n",
              "<table border=\"1\" class=\"dataframe\">\n",
              "  <thead>\n",
              "    <tr style=\"text-align: right;\">\n",
              "      <th></th>\n",
              "      <th>MedInc</th>\n",
              "      <th>HouseAge</th>\n",
              "      <th>AveRooms</th>\n",
              "      <th>AveBedrms</th>\n",
              "      <th>Population</th>\n",
              "      <th>AveOccup</th>\n",
              "      <th>Latitude</th>\n",
              "      <th>Longitude</th>\n",
              "    </tr>\n",
              "  </thead>\n",
              "  <tbody>\n",
              "    <tr>\n",
              "      <th>0</th>\n",
              "      <td>8.3252</td>\n",
              "      <td>41.0</td>\n",
              "      <td>6.984127</td>\n",
              "      <td>1.023810</td>\n",
              "      <td>322.0</td>\n",
              "      <td>2.555556</td>\n",
              "      <td>37.88</td>\n",
              "      <td>-122.23</td>\n",
              "    </tr>\n",
              "    <tr>\n",
              "      <th>1</th>\n",
              "      <td>8.3014</td>\n",
              "      <td>21.0</td>\n",
              "      <td>6.238137</td>\n",
              "      <td>0.971880</td>\n",
              "      <td>2401.0</td>\n",
              "      <td>2.109842</td>\n",
              "      <td>37.86</td>\n",
              "      <td>-122.22</td>\n",
              "    </tr>\n",
              "    <tr>\n",
              "      <th>2</th>\n",
              "      <td>7.2574</td>\n",
              "      <td>52.0</td>\n",
              "      <td>8.288136</td>\n",
              "      <td>1.073446</td>\n",
              "      <td>496.0</td>\n",
              "      <td>2.802260</td>\n",
              "      <td>37.85</td>\n",
              "      <td>-122.24</td>\n",
              "    </tr>\n",
              "    <tr>\n",
              "      <th>3</th>\n",
              "      <td>5.6431</td>\n",
              "      <td>52.0</td>\n",
              "      <td>5.817352</td>\n",
              "      <td>1.073059</td>\n",
              "      <td>558.0</td>\n",
              "      <td>2.547945</td>\n",
              "      <td>37.85</td>\n",
              "      <td>-122.25</td>\n",
              "    </tr>\n",
              "    <tr>\n",
              "      <th>4</th>\n",
              "      <td>3.8462</td>\n",
              "      <td>52.0</td>\n",
              "      <td>6.281853</td>\n",
              "      <td>1.081081</td>\n",
              "      <td>565.0</td>\n",
              "      <td>2.181467</td>\n",
              "      <td>37.85</td>\n",
              "      <td>-122.25</td>\n",
              "    </tr>\n",
              "  </tbody>\n",
              "</table>\n",
              "</div>"
            ],
            "text/plain": [
              "   MedInc  HouseAge  AveRooms  ...  AveOccup  Latitude  Longitude\n",
              "0  8.3252      41.0  6.984127  ...  2.555556     37.88    -122.23\n",
              "1  8.3014      21.0  6.238137  ...  2.109842     37.86    -122.22\n",
              "2  7.2574      52.0  8.288136  ...  2.802260     37.85    -122.24\n",
              "3  5.6431      52.0  5.817352  ...  2.547945     37.85    -122.25\n",
              "4  3.8462      52.0  6.281853  ...  2.181467     37.85    -122.25\n",
              "\n",
              "[5 rows x 8 columns]"
            ]
          },
          "metadata": {
            "tags": []
          },
          "execution_count": 6
        }
      ]
    },
    {
      "cell_type": "code",
      "metadata": {
        "deletable": false,
        "editable": false,
        "nbgrader": {
          "cell_type": "code",
          "checksum": "298e8f00107762b172a854dd0e6d8a6d",
          "grade": false,
          "grade_id": "cell-f287bd15a4b23bc5",
          "locked": true,
          "schema_version": 3,
          "solution": false
        },
        "id": "sUCbv1ZTXeBK",
        "outputId": "d3c83083-4dc7-41d8-f0f1-e9c5c7229d59",
        "colab": {
          "base_uri": "https://localhost:8080/",
          "height": 293
        }
      },
      "source": [
        "house_features.describe()"
      ],
      "execution_count": 7,
      "outputs": [
        {
          "output_type": "execute_result",
          "data": {
            "text/html": [
              "<div>\n",
              "<style scoped>\n",
              "    .dataframe tbody tr th:only-of-type {\n",
              "        vertical-align: middle;\n",
              "    }\n",
              "\n",
              "    .dataframe tbody tr th {\n",
              "        vertical-align: top;\n",
              "    }\n",
              "\n",
              "    .dataframe thead th {\n",
              "        text-align: right;\n",
              "    }\n",
              "</style>\n",
              "<table border=\"1\" class=\"dataframe\">\n",
              "  <thead>\n",
              "    <tr style=\"text-align: right;\">\n",
              "      <th></th>\n",
              "      <th>MedInc</th>\n",
              "      <th>HouseAge</th>\n",
              "      <th>AveRooms</th>\n",
              "      <th>AveBedrms</th>\n",
              "      <th>Population</th>\n",
              "      <th>AveOccup</th>\n",
              "      <th>Latitude</th>\n",
              "      <th>Longitude</th>\n",
              "    </tr>\n",
              "  </thead>\n",
              "  <tbody>\n",
              "    <tr>\n",
              "      <th>count</th>\n",
              "      <td>20640.000000</td>\n",
              "      <td>20640.000000</td>\n",
              "      <td>20640.000000</td>\n",
              "      <td>20640.000000</td>\n",
              "      <td>20640.000000</td>\n",
              "      <td>20640.000000</td>\n",
              "      <td>20640.000000</td>\n",
              "      <td>20640.000000</td>\n",
              "    </tr>\n",
              "    <tr>\n",
              "      <th>mean</th>\n",
              "      <td>3.870671</td>\n",
              "      <td>28.639486</td>\n",
              "      <td>5.429000</td>\n",
              "      <td>1.096675</td>\n",
              "      <td>1425.476744</td>\n",
              "      <td>3.070655</td>\n",
              "      <td>35.631861</td>\n",
              "      <td>-119.569704</td>\n",
              "    </tr>\n",
              "    <tr>\n",
              "      <th>std</th>\n",
              "      <td>1.899822</td>\n",
              "      <td>12.585558</td>\n",
              "      <td>2.474173</td>\n",
              "      <td>0.473911</td>\n",
              "      <td>1132.462122</td>\n",
              "      <td>10.386050</td>\n",
              "      <td>2.135952</td>\n",
              "      <td>2.003532</td>\n",
              "    </tr>\n",
              "    <tr>\n",
              "      <th>min</th>\n",
              "      <td>0.499900</td>\n",
              "      <td>1.000000</td>\n",
              "      <td>0.846154</td>\n",
              "      <td>0.333333</td>\n",
              "      <td>3.000000</td>\n",
              "      <td>0.692308</td>\n",
              "      <td>32.540000</td>\n",
              "      <td>-124.350000</td>\n",
              "    </tr>\n",
              "    <tr>\n",
              "      <th>25%</th>\n",
              "      <td>2.563400</td>\n",
              "      <td>18.000000</td>\n",
              "      <td>4.440716</td>\n",
              "      <td>1.006079</td>\n",
              "      <td>787.000000</td>\n",
              "      <td>2.429741</td>\n",
              "      <td>33.930000</td>\n",
              "      <td>-121.800000</td>\n",
              "    </tr>\n",
              "    <tr>\n",
              "      <th>50%</th>\n",
              "      <td>3.534800</td>\n",
              "      <td>29.000000</td>\n",
              "      <td>5.229129</td>\n",
              "      <td>1.048780</td>\n",
              "      <td>1166.000000</td>\n",
              "      <td>2.818116</td>\n",
              "      <td>34.260000</td>\n",
              "      <td>-118.490000</td>\n",
              "    </tr>\n",
              "    <tr>\n",
              "      <th>75%</th>\n",
              "      <td>4.743250</td>\n",
              "      <td>37.000000</td>\n",
              "      <td>6.052381</td>\n",
              "      <td>1.099526</td>\n",
              "      <td>1725.000000</td>\n",
              "      <td>3.282261</td>\n",
              "      <td>37.710000</td>\n",
              "      <td>-118.010000</td>\n",
              "    </tr>\n",
              "    <tr>\n",
              "      <th>max</th>\n",
              "      <td>15.000100</td>\n",
              "      <td>52.000000</td>\n",
              "      <td>141.909091</td>\n",
              "      <td>34.066667</td>\n",
              "      <td>35682.000000</td>\n",
              "      <td>1243.333333</td>\n",
              "      <td>41.950000</td>\n",
              "      <td>-114.310000</td>\n",
              "    </tr>\n",
              "  </tbody>\n",
              "</table>\n",
              "</div>"
            ],
            "text/plain": [
              "             MedInc      HouseAge  ...      Latitude     Longitude\n",
              "count  20640.000000  20640.000000  ...  20640.000000  20640.000000\n",
              "mean       3.870671     28.639486  ...     35.631861   -119.569704\n",
              "std        1.899822     12.585558  ...      2.135952      2.003532\n",
              "min        0.499900      1.000000  ...     32.540000   -124.350000\n",
              "25%        2.563400     18.000000  ...     33.930000   -121.800000\n",
              "50%        3.534800     29.000000  ...     34.260000   -118.490000\n",
              "75%        4.743250     37.000000  ...     37.710000   -118.010000\n",
              "max       15.000100     52.000000  ...     41.950000   -114.310000\n",
              "\n",
              "[8 rows x 8 columns]"
            ]
          },
          "metadata": {
            "tags": []
          },
          "execution_count": 7
        }
      ]
    },
    {
      "cell_type": "code",
      "metadata": {
        "deletable": false,
        "editable": false,
        "nbgrader": {
          "cell_type": "code",
          "checksum": "d102ceee11a2836db5d4fb63e741b7ab",
          "grade": false,
          "grade_id": "cell-399de11feef27c9f",
          "locked": true,
          "schema_version": 3,
          "solution": false
        },
        "id": "R7zdYmkeXeBM",
        "outputId": "fc60fca6-b3e6-4edd-856a-c05b578ae112",
        "colab": {
          "base_uri": "https://localhost:8080/",
          "height": 120
        }
      },
      "source": [
        "house_prices.head()"
      ],
      "execution_count": 8,
      "outputs": [
        {
          "output_type": "execute_result",
          "data": {
            "text/plain": [
              "0    4.526\n",
              "1    3.585\n",
              "2    3.521\n",
              "3    3.413\n",
              "4    3.422\n",
              "dtype: float64"
            ]
          },
          "metadata": {
            "tags": []
          },
          "execution_count": 8
        }
      ]
    },
    {
      "cell_type": "code",
      "metadata": {
        "deletable": false,
        "editable": false,
        "nbgrader": {
          "cell_type": "code",
          "checksum": "ade2a7841568e65cc53f438fa91ac326",
          "grade": false,
          "grade_id": "cell-20fdd83710664f14",
          "locked": true,
          "schema_version": 3,
          "solution": false
        },
        "id": "F0_kGtW0XeBO",
        "outputId": "78cdaa23-6720-4624-9e89-d75f1231060d",
        "colab": {
          "base_uri": "https://localhost:8080/",
          "height": 172
        }
      },
      "source": [
        "house_prices.describe()"
      ],
      "execution_count": 9,
      "outputs": [
        {
          "output_type": "execute_result",
          "data": {
            "text/plain": [
              "count    20640.000000\n",
              "mean         2.068558\n",
              "std          1.153956\n",
              "min          0.149990\n",
              "25%          1.196000\n",
              "50%          1.797000\n",
              "75%          2.647250\n",
              "max          5.000010\n",
              "dtype: float64"
            ]
          },
          "metadata": {
            "tags": []
          },
          "execution_count": 9
        }
      ]
    },
    {
      "cell_type": "markdown",
      "metadata": {
        "deletable": false,
        "editable": false,
        "nbgrader": {
          "cell_type": "markdown",
          "checksum": "bb2bc67e2f9de6bc0aab8666eda8ac34",
          "grade": false,
          "grade_id": "cell-a6d14e9cfadf9cbe",
          "locked": true,
          "schema_version": 3,
          "solution": false
        },
        "id": "esNMt2vQXeBQ"
      },
      "source": [
        "First, we'll split our data in order to follow the process we had outlined several lectures ago for effectively evaluating supervised learning problems."
      ]
    },
    {
      "cell_type": "code",
      "metadata": {
        "deletable": false,
        "editable": false,
        "nbgrader": {
          "cell_type": "code",
          "checksum": "54c192139c17a81266f0926417fb5e6d",
          "grade": false,
          "grade_id": "cell-74fc4b2531172f7d",
          "locked": true,
          "schema_version": 3,
          "solution": false
        },
        "id": "uu-nEtNbXeBQ"
      },
      "source": [
        "X_train, X_test, y_train, y_test = train_test_split(house_features, house_prices, test_size=0.2, random_state=0)"
      ],
      "execution_count": 10,
      "outputs": []
    },
    {
      "cell_type": "markdown",
      "metadata": {
        "deletable": false,
        "editable": false,
        "nbgrader": {
          "cell_type": "markdown",
          "checksum": "8f07f2c1ce9aa27506c562faca2a5fb6",
          "grade": false,
          "grade_id": "cell-73f4d23f398ef242",
          "locked": true,
          "schema_version": 3,
          "solution": false
        },
        "id": "-B0SENaHXeBS"
      },
      "source": [
        "## Filter Feature Selection\n",
        "\n",
        "Select the best features based on [mutual information score](http://scikit-learn.org/stable/modules/generated/sklearn.feature_selection.mutual_info_regression.html#sklearn.feature_selection.mutual_info_regression) from the training data then transform X_train and X_test into the new shape for the data. See [SelectKBest](http://scikit-learn.org/stable/modules/generated/sklearn.feature_selection.SelectKBest.html#sklearn.feature_selection.SelectKBest)"
      ]
    },
    {
      "cell_type": "code",
      "metadata": {
        "deletable": false,
        "editable": false,
        "nbgrader": {
          "cell_type": "code",
          "checksum": "ca3308af8e550ea13ba7854363433aa5",
          "grade": false,
          "grade_id": "cell-07907cf1d043fed9",
          "locked": true,
          "schema_version": 3,
          "solution": false
        },
        "id": "URXgiHBRXeBS"
      },
      "source": [
        "# We will select the best k features from all feature selection methods\n",
        "k = 4"
      ],
      "execution_count": 11,
      "outputs": []
    },
    {
      "cell_type": "code",
      "metadata": {
        "deletable": false,
        "nbgrader": {
          "cell_type": "code",
          "checksum": "ddf23e9beb8c17ad16a3f00a31d968d0",
          "grade": false,
          "grade_id": "cell-279e39610c47c8f8",
          "locked": false,
          "schema_version": 3,
          "solution": true
        },
        "id": "nP1MaFHEXeBU"
      },
      "source": [
        "# Save the transformed values into mi_X_train and mi_X_test\n",
        "# Save the transformer you use into mi_transformer\n",
        "mi_transformer = SelectKBest(mutual_info_regression, k = k).fit(X_train,y_train)\n",
        "new_feats = X_train.columns[mi_transformer.get_support()]\n",
        "mi_X_train = pd.DataFrame(mi_transformer.transform(X_train), columns = new_feats)\n",
        "mi_X_test = pd.DataFrame(mi_transformer.transform(X_test), columns = new_feats)\n",
        "\n"
      ],
      "execution_count": 12,
      "outputs": []
    },
    {
      "cell_type": "code",
      "metadata": {
        "deletable": false,
        "editable": false,
        "nbgrader": {
          "cell_type": "code",
          "checksum": "ea66d4ab9ec2e513b1cb7e0b8e7d3b27",
          "grade": false,
          "grade_id": "cell-377847abf96c374c",
          "locked": true,
          "schema_version": 3,
          "solution": false
        },
        "id": "51tcLHhyXeBW",
        "outputId": "65643627-a10a-4173-9a89-f35021c7aa7e",
        "colab": {
          "base_uri": "https://localhost:8080/",
          "height": 155
        }
      },
      "source": [
        "for feature, importance in zip(house_features.columns, mi_transformer.scores_):\n",
        "    print(f\"The MI score for {feature} is {importance}\")"
      ],
      "execution_count": 13,
      "outputs": [
        {
          "output_type": "stream",
          "text": [
            "The MI score for MedInc is 0.3996064376238433\n",
            "The MI score for HouseAge is 0.031907849744349015\n",
            "The MI score for AveRooms is 0.10789709054525165\n",
            "The MI score for AveBedrms is 0.0306212721875756\n",
            "The MI score for Population is 0.024542115170730128\n",
            "The MI score for AveOccup is 0.07001310248399673\n",
            "The MI score for Latitude is 0.36536065139287377\n",
            "The MI score for Longitude is 0.402943613477186\n"
          ],
          "name": "stdout"
        }
      ]
    },
    {
      "cell_type": "markdown",
      "metadata": {
        "id": "TW9akCbsXeBX"
      },
      "source": [
        "Do these values match what you expected? What are the most important features to use for predicting house prices?"
      ]
    },
    {
      "cell_type": "code",
      "metadata": {
        "deletable": false,
        "editable": false,
        "nbgrader": {
          "cell_type": "code",
          "checksum": "802f9b55b98b872ea4be999d1459edc7",
          "grade": true,
          "grade_id": "cell-d7ebf063a0a3ce74",
          "locked": true,
          "points": 5,
          "schema_version": 3,
          "solution": false
        },
        "id": "pG5UE42XXeBY"
      },
      "source": [
        "assert mi_transformer.k == k\n",
        "assert isinstance(mi_transformer, SelectKBest)\n",
        "assert len(mi_transformer.scores_) == 8\n",
        "assert mi_X_train.shape == (16512, k)\n",
        "assert mi_X_test.shape == (4128, k)"
      ],
      "execution_count": 14,
      "outputs": []
    },
    {
      "cell_type": "markdown",
      "metadata": {
        "deletable": false,
        "editable": false,
        "nbgrader": {
          "cell_type": "markdown",
          "checksum": "b201dbd371d118f334add32ccf2a7cc9",
          "grade": false,
          "grade_id": "cell-1c4269050710987f",
          "locked": true,
          "schema_version": 3,
          "solution": false
        },
        "id": "9q2wCV5dXeBZ"
      },
      "source": [
        "Since the focus in this exercise is on the feature learning and not on the supervised learning portion, we will use a simple estimator (linear regression) for the model training portions."
      ]
    },
    {
      "cell_type": "code",
      "metadata": {
        "deletable": false,
        "editable": false,
        "nbgrader": {
          "cell_type": "code",
          "checksum": "72b10f8f8d4865452520fba6e8c1cb4c",
          "grade": false,
          "grade_id": "cell-26d261acabd92043",
          "locked": true,
          "schema_version": 3,
          "solution": false
        },
        "id": "9mk3WGFIXeBa"
      },
      "source": [
        "miEst = LinearRegression().fit(mi_X_train, y_train)"
      ],
      "execution_count": 15,
      "outputs": []
    },
    {
      "cell_type": "code",
      "metadata": {
        "deletable": false,
        "editable": false,
        "nbgrader": {
          "cell_type": "code",
          "checksum": "cb6834794b922f53c88ed8e77dbd269b",
          "grade": false,
          "grade_id": "cell-509cc8db3043cda3",
          "locked": true,
          "schema_version": 3,
          "solution": false
        },
        "id": "i9Fw35u3XeBc",
        "outputId": "180de29b-a5fd-4b3d-f1c8-ae125af411ff",
        "colab": {
          "base_uri": "https://localhost:8080/",
          "height": 51
        }
      },
      "source": [
        "print(f\"The mean squared error when training on the MI selected features is {mean_squared_error(y_train, miEst.predict(mi_X_train))}.\")\n",
        "print(f\"When testing on the test data, the mean squared error is {mean_squared_error(y_test, miEst.predict(mi_X_test))}\")"
      ],
      "execution_count": 16,
      "outputs": [
        {
          "output_type": "stream",
          "text": [
            "The mean squared error when training on the MI selected features is 0.5494954356737959.\n",
            "When testing on the test data, the mean squared error is 0.5642909967350344\n"
          ],
          "name": "stdout"
        }
      ]
    },
    {
      "cell_type": "markdown",
      "metadata": {
        "deletable": false,
        "editable": false,
        "nbgrader": {
          "cell_type": "markdown",
          "checksum": "a19ec42566dc53638e47d98725acc184",
          "grade": false,
          "grade_id": "cell-188bc386a321fe4a",
          "locked": true,
          "schema_version": 3,
          "solution": false
        },
        "id": "1oFxa4ROXeBe"
      },
      "source": [
        "## Wrapper Feature Selection\n",
        "\n",
        "Now try using [recursive feature elimination](http://scikit-learn.org/stable/modules/generated/sklearn.feature_selection.RFE.html) to select the 2 features we will use instead."
      ]
    },
    {
      "cell_type": "code",
      "metadata": {
        "deletable": false,
        "nbgrader": {
          "cell_type": "code",
          "checksum": "048a6ac9821645c7f8fd98a5bdcb4d3f",
          "grade": false,
          "grade_id": "cell-55f80656b8a4988d",
          "locked": false,
          "schema_version": 3,
          "solution": true
        },
        "id": "Mh-I_ZvyXeBf"
      },
      "source": [
        "# Use an RFE object to determine the k features to select from X_train using a step of 2\n",
        "# Save the rfe object as rfe_transformer\n",
        "# Create rfe_X_train and rfe_X_test as the updated features based on the RFE output\n",
        "\n",
        "rfeEst = LinearRegression()\n",
        "rfe_transformer = RFE(rfeEst, n_features_to_select = k, step = 2).fit(X_train, y_train)\n",
        "rfe_X_train = rfe_transformer.transform(X_train)\n",
        "rfe_X_test = rfe_transformer.transform(X_test)\n",
        "\n"
      ],
      "execution_count": 17,
      "outputs": []
    },
    {
      "cell_type": "code",
      "metadata": {
        "deletable": false,
        "editable": false,
        "nbgrader": {
          "cell_type": "code",
          "checksum": "cfcc2b405c8895bd3191c9725173824d",
          "grade": true,
          "grade_id": "cell-b331e2be0d0e31be",
          "locked": true,
          "points": 5,
          "schema_version": 3,
          "solution": false
        },
        "id": "kvNOvkJ0XeBh"
      },
      "source": [
        "assert isinstance(rfe_transformer, RFE)\n",
        "assert rfe_transformer.step == 2\n",
        "assert len(rfe_transformer.support_) == 8\n",
        "assert rfe_X_train.shape == (16512, k)\n",
        "assert rfe_X_test.shape == (4128, k)"
      ],
      "execution_count": 18,
      "outputs": []
    },
    {
      "cell_type": "code",
      "metadata": {
        "deletable": false,
        "editable": false,
        "nbgrader": {
          "cell_type": "code",
          "checksum": "6283063afef2e82cb6df0894829545fd",
          "grade": false,
          "grade_id": "cell-8b5e64094fc56786",
          "locked": true,
          "schema_version": 3,
          "solution": false
        },
        "id": "fekhb5RsXeBi"
      },
      "source": [
        "rfeEst = LinearRegression().fit(rfe_X_train, y_train)"
      ],
      "execution_count": 19,
      "outputs": []
    },
    {
      "cell_type": "code",
      "metadata": {
        "deletable": false,
        "editable": false,
        "nbgrader": {
          "cell_type": "code",
          "checksum": "81b00a41ae73c9232a441194c0d96ca1",
          "grade": false,
          "grade_id": "cell-23d00cc293b154f8",
          "locked": true,
          "schema_version": 3,
          "solution": false
        },
        "id": "cmJ5srJQXeBj",
        "outputId": "28538d6c-8a35-47ef-824f-539d5c6a46f4",
        "colab": {
          "base_uri": "https://localhost:8080/",
          "height": 51
        }
      },
      "source": [
        "print(f\"The mean squared error when training on the RFE selected features is {mean_squared_error(y_train, rfeEst.predict(rfe_X_train))}.\")\n",
        "print(f\"When testing on the test data, the mean squared error is {mean_squared_error(y_test, rfeEst.predict(rfe_X_test))}\")"
      ],
      "execution_count": 20,
      "outputs": [
        {
          "output_type": "stream",
          "text": [
            "The mean squared error when training on the RFE selected features is 0.5451672299133382.\n",
            "When testing on the test data, the mean squared error is 0.5580832992075773\n"
          ],
          "name": "stdout"
        }
      ]
    },
    {
      "cell_type": "markdown",
      "metadata": {
        "deletable": false,
        "editable": false,
        "nbgrader": {
          "cell_type": "markdown",
          "checksum": "2fab1553b908cc0d0f9f47e5de40bfb9",
          "grade": false,
          "grade_id": "cell-b851aa52ef728d9f",
          "locked": true,
          "schema_version": 3,
          "solution": false
        },
        "id": "3iLTa-E2XeBl"
      },
      "source": [
        "## Embedded Methods\n",
        "\n",
        "For the embedded methods feature selection example, we will use Lasso. For this task you should use [LassoCV](http://scikit-learn.org/stable/modules/generated/sklearn.linear_model.LassoCV.html#sklearn.linear_model.LassoCV) and **not** [Lasso](http://scikit-learn.org/stable/modules/generated/sklearn.linear_model.Lasso.html) so that it trains with various values for alpha.\n",
        "\n",
        "Since this is an embedded method, the feature selection will occur directly in the model."
      ]
    },
    {
      "cell_type": "code",
      "metadata": {
        "deletable": false,
        "nbgrader": {
          "cell_type": "code",
          "checksum": "3c0ea00f1a333384c39b6c54026db57c",
          "grade": false,
          "grade_id": "cell-1cedfcb1fb61f7ff",
          "locked": false,
          "schema_version": 3,
          "solution": true
        },
        "id": "btkDNHwoXeBl"
      },
      "source": [
        "# Create a LassoCV model trained with 10 alphas and save it to lassoClf\n",
        "lassoClf = LassoCV(n_alphas = 10).fit(X_train, y_train)"
      ],
      "execution_count": 21,
      "outputs": []
    },
    {
      "cell_type": "code",
      "metadata": {
        "deletable": false,
        "editable": false,
        "nbgrader": {
          "cell_type": "code",
          "checksum": "6c25b457315d92952d60a972bdf3d3f8",
          "grade": false,
          "grade_id": "cell-e0ef99dd29a079d0",
          "locked": true,
          "schema_version": 3,
          "solution": false
        },
        "id": "qE0C00cbXeBn",
        "outputId": "f0ca203d-6759-4045-8436-5f2f6bd72bc1",
        "colab": {
          "base_uri": "https://localhost:8080/",
          "height": 51
        }
      },
      "source": [
        "lassoClf.coef_"
      ],
      "execution_count": 22,
      "outputs": [
        {
          "output_type": "execute_result",
          "data": {
            "text/plain": [
              "array([ 3.83899283e-01,  1.13979529e-02,  1.56884471e-03,  0.00000000e+00,\n",
              "       -4.07469366e-07, -4.61025303e-03, -3.24168177e-01, -3.23939467e-01])"
            ]
          },
          "metadata": {
            "tags": []
          },
          "execution_count": 22
        }
      ]
    },
    {
      "cell_type": "code",
      "metadata": {
        "deletable": false,
        "editable": false,
        "nbgrader": {
          "cell_type": "code",
          "checksum": "793adcaf747fdf56ed8fd07e49132d78",
          "grade": false,
          "grade_id": "cell-13ec10079ead686f",
          "locked": true,
          "schema_version": 3,
          "solution": false
        },
        "id": "SdtIN2qOXeBp",
        "outputId": "8572d5e4-c635-48b5-f8b2-201dd6e35973",
        "colab": {
          "base_uri": "https://localhost:8080/",
          "height": 34
        }
      },
      "source": [
        "lassoClf.alpha_"
      ],
      "execution_count": 23,
      "outputs": [
        {
          "output_type": "execute_result",
          "data": {
            "text/plain": [
              "0.03577400513173515"
            ]
          },
          "metadata": {
            "tags": []
          },
          "execution_count": 23
        }
      ]
    },
    {
      "cell_type": "code",
      "metadata": {
        "deletable": false,
        "editable": false,
        "nbgrader": {
          "cell_type": "code",
          "checksum": "ef05bf66f40dc577fc39a38a27421750",
          "grade": true,
          "grade_id": "cell-14338e2d22cac6c8",
          "locked": true,
          "points": 5,
          "schema_version": 3,
          "solution": false
        },
        "id": "HxO8L_JLXeBr"
      },
      "source": [
        "assert lassoClf\n",
        "assert isinstance(lassoClf, LassoCV)\n",
        "assert len(lassoClf.coef_) == 8"
      ],
      "execution_count": 24,
      "outputs": []
    },
    {
      "cell_type": "code",
      "metadata": {
        "deletable": false,
        "editable": false,
        "nbgrader": {
          "cell_type": "code",
          "checksum": "ee80b87046399b2ec0ec95970603bb1d",
          "grade": false,
          "grade_id": "cell-a658fc6cce0c662e",
          "locked": true,
          "schema_version": 3,
          "solution": false
        },
        "id": "4Fg48fTIXeBt",
        "outputId": "aa75cf77-8dcd-4154-d01f-8a9a10242942",
        "colab": {
          "base_uri": "https://localhost:8080/",
          "height": 51
        }
      },
      "source": [
        "print(f\"The mean squared error when training using lasso is {mean_squared_error(y_train, lassoClf.predict(X_train))}.\")\n",
        "print(f\"When testing on the test data, the mean squared error is {mean_squared_error(y_test, lassoClf.predict(X_test))}\")"
      ],
      "execution_count": 25,
      "outputs": [
        {
          "output_type": "stream",
          "text": [
            "The mean squared error when training using lasso is 0.5447589792844251.\n",
            "When testing on the test data, the mean squared error is 0.5594157721934994\n"
          ],
          "name": "stdout"
        }
      ]
    },
    {
      "cell_type": "markdown",
      "metadata": {
        "deletable": false,
        "editable": false,
        "nbgrader": {
          "cell_type": "markdown",
          "checksum": "9168c5ee3b8ae091921313503dc97dd5",
          "grade": false,
          "grade_id": "cell-4ecba6679dfc69af",
          "locked": true,
          "schema_version": 3,
          "solution": false
        },
        "id": "t2PSs7alXeBu"
      },
      "source": [
        "## Feature Extraction\n",
        "\n",
        "Here we'll use [PCA](http://scikit-learn.org/stable/modules/generated/sklearn.decomposition.PCA.html) to extract features from the data."
      ]
    },
    {
      "cell_type": "code",
      "metadata": {
        "deletable": false,
        "nbgrader": {
          "cell_type": "code",
          "checksum": "668881dea502f0bad19790f241bf92b8",
          "grade": false,
          "grade_id": "cell-3a808f14f3df2364",
          "locked": false,
          "schema_version": 3,
          "solution": true
        },
        "id": "M59y6JhIXeBv"
      },
      "source": [
        "# Select the best k features using PCA\n",
        "# Save the PCA transformer object as pca_transformer\n",
        "# Transform X_train and X_test into the new shape and save to pca_X_train and pca_X_test\n",
        "\n",
        "pca_transformer = PCA(n_components = k).fit(X_train, y_train)\n",
        "pca_X_train = pca_transformer.transform(X_train)\n",
        "pca_X_test = pca_transformer.transform(X_test)"
      ],
      "execution_count": 26,
      "outputs": []
    },
    {
      "cell_type": "code",
      "metadata": {
        "deletable": false,
        "editable": false,
        "nbgrader": {
          "cell_type": "code",
          "checksum": "1e43773f70b00e2146b5b4bc51e984d8",
          "grade": true,
          "grade_id": "cell-24fe227022674d69",
          "locked": true,
          "points": 5,
          "schema_version": 3,
          "solution": false
        },
        "id": "5M7MNitiXeBw"
      },
      "source": [
        "assert pca_transformer \n",
        "assert isinstance(pca_transformer, PCA)\n",
        "assert pca_transformer.n_components == k\n",
        "assert pca_X_train.shape == (16512, k)\n",
        "assert pca_X_test.shape == (4128, k)"
      ],
      "execution_count": 27,
      "outputs": []
    },
    {
      "cell_type": "code",
      "metadata": {
        "deletable": false,
        "editable": false,
        "nbgrader": {
          "cell_type": "code",
          "checksum": "0c5cdad74e679b9aa582920cb104269a",
          "grade": false,
          "grade_id": "cell-4914fe3dff0d5ffd",
          "locked": true,
          "schema_version": 3,
          "solution": false
        },
        "id": "0Hjwno5rXeBx",
        "outputId": "24db8f6e-50d0-43f1-f0ca-12e3ec8342ec",
        "colab": {
          "base_uri": "https://localhost:8080/",
          "height": 34
        }
      },
      "source": [
        "pcaEst = LinearRegression()\n",
        "pcaEst.fit(pca_X_train, y_train)"
      ],
      "execution_count": 28,
      "outputs": [
        {
          "output_type": "execute_result",
          "data": {
            "text/plain": [
              "LinearRegression(copy_X=True, fit_intercept=True, n_jobs=None, normalize=False)"
            ]
          },
          "metadata": {
            "tags": []
          },
          "execution_count": 28
        }
      ]
    },
    {
      "cell_type": "code",
      "metadata": {
        "deletable": false,
        "editable": false,
        "nbgrader": {
          "cell_type": "code",
          "checksum": "e51209892d8ee308252d7718a0e4795d",
          "grade": false,
          "grade_id": "cell-671ca4e23f127618",
          "locked": true,
          "schema_version": 3,
          "solution": false
        },
        "id": "T9S8Oq5bXeBz",
        "outputId": "9785d0cf-cd8a-4a9d-9fa9-80fffcf884b7",
        "colab": {
          "base_uri": "https://localhost:8080/",
          "height": 51
        }
      },
      "source": [
        "print(f\"The mean squared error when training using PCA is {mean_squared_error(y_train, pcaEst.predict(pca_X_train))}.\")\n",
        "print(f\"When testing on the test data, the mean squared error is {mean_squared_error(y_test, pcaEst.predict(pca_X_test))}\")"
      ],
      "execution_count": 29,
      "outputs": [
        {
          "output_type": "stream",
          "text": [
            "The mean squared error when training using PCA is 1.3225357633272015.\n",
            "When testing on the test data, the mean squared error is 1.299454026822007\n"
          ],
          "name": "stdout"
        }
      ]
    },
    {
      "cell_type": "code",
      "metadata": {
        "deletable": false,
        "editable": false,
        "nbgrader": {
          "cell_type": "code",
          "checksum": "4fdeb951dfab628fde133d2ffb52c550",
          "grade": false,
          "grade_id": "cell-e8c34edca3f89d4b",
          "locked": true,
          "schema_version": 3,
          "solution": false
        },
        "id": "IWQyI701XeB2",
        "outputId": "cf0ceb43-9db6-476a-8464-c6ad130aae4e",
        "colab": {
          "base_uri": "https://localhost:8080/",
          "height": 430
        }
      },
      "source": [
        "pca_transformer.get_covariance()"
      ],
      "execution_count": 30,
      "outputs": [
        {
          "output_type": "execute_result",
          "data": {
            "text/plain": [
              "array([[ 2.59881878e+00, -2.85404338e+00,  1.69458762e-01,\n",
              "         2.02649494e-02,  9.88022268e+00,  2.12524850e-02,\n",
              "         1.77252627e-01, -1.13858541e-01],\n",
              "       [-2.85404338e+00,  1.58777213e+02, -4.81380579e+00,\n",
              "        -4.69596878e-01, -4.30539684e+03,  1.01359303e+00,\n",
              "         4.93684706e-01, -2.87568750e+00],\n",
              "       [ 1.69458762e-01, -4.81380579e+00,  3.15500331e+00,\n",
              "         8.25054593e-02, -1.92964965e+02,  7.47416667e-02,\n",
              "         1.11027923e+00, -9.23849732e-01],\n",
              "       [ 2.02649494e-02, -4.69596878e-01,  8.25054593e-02,\n",
              "         2.54365791e+00, -3.40875068e+01, -6.12764836e-03,\n",
              "         1.60142020e-01, -1.36806830e-01],\n",
              "       [ 9.88022268e+00, -4.30539684e+03, -1.92964965e+02,\n",
              "        -3.40875068e+01,  1.30659246e+06,  5.35350485e+02,\n",
              "        -2.80412604e+02,  2.40965884e+02],\n",
              "       [ 2.12524850e-02,  1.01359303e+00,  7.47416667e-02,\n",
              "        -6.12764836e-03,  5.35350485e+02,  4.14906644e+01,\n",
              "        -7.41569408e-02,  1.75039261e-01],\n",
              "       [ 1.77252627e-01,  4.93684706e-01,  1.11027923e+00,\n",
              "         1.60142020e-01, -2.80412604e+02, -7.41569408e-02,\n",
              "         5.48211455e+00, -2.70516546e+00],\n",
              "       [-1.13858541e-01, -2.87568750e+00, -9.23849732e-01,\n",
              "        -1.36806830e-01,  2.40965884e+02,  1.75039261e-01,\n",
              "        -2.70516546e+00,  5.05752166e+00]])"
            ]
          },
          "metadata": {
            "tags": []
          },
          "execution_count": 30
        }
      ]
    },
    {
      "cell_type": "markdown",
      "metadata": {
        "deletable": false,
        "editable": false,
        "nbgrader": {
          "cell_type": "markdown",
          "checksum": "4f7c422c7c6c0a0a2e7b090779fae9d6",
          "grade": false,
          "grade_id": "cell-4b75632b6e8bb9c2",
          "locked": true,
          "schema_version": 3,
          "solution": false
        },
        "id": "EU1xaHE0XeB3"
      },
      "source": [
        "Sometimes PCA may perform poorly for regression cases. See [this answer](https://stats.stackexchange.com/a/52798) on StackExchange for more info. In the next lecture, we will cover other methods of feature extraction and show examples where PCA is even more effective."
      ]
    },
    {
      "cell_type": "markdown",
      "metadata": {
        "deletable": false,
        "editable": false,
        "nbgrader": {
          "cell_type": "markdown",
          "checksum": "1f7640f916f64aeac4af3ec318d3b9cd",
          "grade": false,
          "grade_id": "cell-a1034774d762a001",
          "locked": true,
          "schema_version": 3,
          "solution": false
        },
        "id": "SCnB6tGGXeB3"
      },
      "source": [
        "## Feedback"
      ]
    },
    {
      "cell_type": "code",
      "metadata": {
        "deletable": false,
        "nbgrader": {
          "cell_type": "code",
          "checksum": "ed936ab53a1391c5e6af8df699a1dbf5",
          "grade": false,
          "grade_id": "feedback",
          "locked": false,
          "schema_version": 3,
          "solution": true
        },
        "id": "azIY8sG6XeB3"
      },
      "source": [
        "def feedback():\n",
        "    \"\"\"Provide feedback on the contents of this exercise\n",
        "    \n",
        "    Returns:\n",
        "        string\n",
        "    \"\"\"\n",
        "    return \"All good!\""
      ],
      "execution_count": 32,
      "outputs": []
    },
    {
      "cell_type": "code",
      "metadata": {
        "deletable": false,
        "editable": false,
        "nbgrader": {
          "cell_type": "code",
          "checksum": "f39f6185a54850c2f1f9b5b2a17b7543",
          "grade": true,
          "grade_id": "feedback-tests",
          "locked": true,
          "points": 0,
          "schema_version": 3,
          "solution": false
        },
        "id": "rmJNtrxnXeB5",
        "outputId": "2a940ff0-3177-41a4-c7fc-f0ea185ca44e",
        "colab": {
          "base_uri": "https://localhost:8080/",
          "height": 34
        }
      },
      "source": [
        "print(feedback())"
      ],
      "execution_count": 33,
      "outputs": [
        {
          "output_type": "stream",
          "text": [
            "All good!\n"
          ],
          "name": "stdout"
        }
      ]
    }
  ]
}