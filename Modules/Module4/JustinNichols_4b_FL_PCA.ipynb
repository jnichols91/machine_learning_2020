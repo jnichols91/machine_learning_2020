{
  "nbformat": 4,
  "nbformat_minor": 0,
  "metadata": {
    "kernelspec": {
      "name": "python3",
      "display_name": "Python 3"
    },
    "colab": {
      "name": "JustinNichols_4b_FL_PCA.ipynb",
      "provenance": [],
      "collapsed_sections": []
    }
  },
  "cells": [
    {
      "cell_type": "markdown",
      "metadata": {
        "id": "_viGWG6afQ7U"
      },
      "source": [
        "## CSCI 470 Activities and Case Studies\n",
        "\n",
        "1. For all activities, you are allowed to collaborate with a partner. \n",
        "1. For case studies, you should work individually and are **not** allowed to collaborate.\n",
        "\n",
        "By filling out this notebook and submitting it, you acknowledge that you are aware of the above policies and are agreeing to comply with them."
      ]
    },
    {
      "cell_type": "markdown",
      "metadata": {
        "id": "vnJgkVXffQ7U"
      },
      "source": [
        "Some considerations with regard to how these notebooks will be graded:\n",
        "\n",
        "1. You can add more notebook cells or edit existing notebook cells other than \"# YOUR CODE HERE\" to test out or debug your code. We actually highly recommend you do so to gain a better understanding of what is happening. However, during grading, **these changes are ignored**. \n",
        "2. You must ensure that all your code for the particular task is available in the cells that say \"# YOUR CODE HERE\"\n",
        "3. Every cell that says \"# YOUR CODE HERE\" is followed by a \"raise NotImplementedError\". You need to remove that line. During grading, if an error occurs then you will not receive points for your work in that section.\n",
        "4. If your code passes the \"assert\" statements, then no output will result. If your code fails the \"assert\" statements, you will get an \"AssertionError\". Getting an assertion error means you will not receive points for that particular task.\n",
        "5. If you edit the \"assert\" statements to make your code pass, they will still fail when they are graded since the \"assert\" statements will revert to the original. Make sure you don't edit the assert statements.\n",
        "6. We may sometimes have \"hidden\" tests for grading. This means that passing the visible \"assert\" statements is not sufficient. The \"assert\" statements are there as a guide but you need to make sure you understand what you're required to do and ensure that you are doing it correctly. Passing the visible tests is necessary but not sufficient to get the grade for that cell.\n",
        "7. When you are asked to define a function, make sure you **don't** use any variables outside of the parameters passed to the function. You can think of the parameters being passed to the function as a hint. Make sure you're using all of those variables.\n",
        "8. Finally, **make sure you run \"Kernel > Restart and Run All\"** and pass all the asserts before submitting. If you don't restart the kernel, there may be some code that you ran and deleted that is still being used and that was why your asserts were passing."
      ]
    },
    {
      "cell_type": "markdown",
      "metadata": {
        "deletable": false,
        "editable": false,
        "nbgrader": {
          "cell_type": "markdown",
          "checksum": "4bf192666f69f686b70a1dfc64372525",
          "grade": false,
          "grade_id": "cell-2eb849ddd339bce1",
          "locked": true,
          "schema_version": 3,
          "solution": false
        },
        "id": "1b-yi4c9fQ7V"
      },
      "source": [
        "# Feature Learning - Dimensionality Reduction"
      ]
    },
    {
      "cell_type": "code",
      "metadata": {
        "deletable": false,
        "editable": false,
        "nbgrader": {
          "cell_type": "code",
          "checksum": "ce23ad076c31823dea3a20131bbe1e20",
          "grade": false,
          "grade_id": "cell-e0ec0f8f447b542e",
          "locked": true,
          "schema_version": 3,
          "solution": false
        },
        "id": "urwa_i9HfQ7V"
      },
      "source": [
        "import numpy as np\n",
        "import matplotlib\n",
        "import matplotlib.pyplot as plt\n",
        "import pandas as pd\n",
        "import sklearn as sk\n",
        "\n",
        "np.random.seed(0)\n",
        "\n",
        "plt.style.use(\"ggplot\")"
      ],
      "execution_count": 1,
      "outputs": []
    },
    {
      "cell_type": "code",
      "metadata": {
        "deletable": false,
        "editable": false,
        "nbgrader": {
          "cell_type": "code",
          "checksum": "5f99836b20c319448e48945769bf48cb",
          "grade": false,
          "grade_id": "cell-722a013a2398dd8b",
          "locked": true,
          "schema_version": 3,
          "solution": false
        },
        "id": "WBwaQTiGfQ7X"
      },
      "source": [
        "from sklearn.datasets import load_wine\n",
        "from sklearn.model_selection import train_test_split\n",
        "from sklearn.decomposition import PCA, KernelPCA\n",
        "from sklearn.svm import LinearSVC\n",
        "from sklearn.metrics import f1_score, mean_squared_error\n",
        "from sklearn.datasets import make_circles"
      ],
      "execution_count": 2,
      "outputs": []
    },
    {
      "cell_type": "code",
      "metadata": {
        "deletable": false,
        "editable": false,
        "nbgrader": {
          "cell_type": "code",
          "checksum": "6e7e15208109fe171e7c6dc0610f0b85",
          "grade": false,
          "grade_id": "cell-c164e07f6a3938e7",
          "locked": true,
          "schema_version": 3,
          "solution": false
        },
        "id": "62GkkikXfQ7Z"
      },
      "source": [
        "wine_data = load_wine()"
      ],
      "execution_count": 3,
      "outputs": []
    },
    {
      "cell_type": "code",
      "metadata": {
        "deletable": false,
        "editable": false,
        "nbgrader": {
          "cell_type": "code",
          "checksum": "a5d5b840d10281c33f9f96410eda6e17",
          "grade": false,
          "grade_id": "cell-0bd17e977c414993",
          "locked": true,
          "schema_version": 3,
          "solution": false
        },
        "id": "FKduOHLgfQ7b",
        "outputId": "b4076b9c-d044-4753-bdff-075ca74bd75d",
        "colab": {
          "base_uri": "https://localhost:8080/"
        }
      },
      "source": [
        "wine_features = pd.DataFrame(wine_data[\"data\"], columns=wine_data[\"feature_names\"])\n",
        "wine_targets = pd.DataFrame(wine_data[\"target\"], columns=[\"class\"])\n",
        "print(wine_data[\"DESCR\"])"
      ],
      "execution_count": 4,
      "outputs": [
        {
          "output_type": "stream",
          "text": [
            ".. _wine_dataset:\n",
            "\n",
            "Wine recognition dataset\n",
            "------------------------\n",
            "\n",
            "**Data Set Characteristics:**\n",
            "\n",
            "    :Number of Instances: 178 (50 in each of three classes)\n",
            "    :Number of Attributes: 13 numeric, predictive attributes and the class\n",
            "    :Attribute Information:\n",
            " \t\t- Alcohol\n",
            " \t\t- Malic acid\n",
            " \t\t- Ash\n",
            "\t\t- Alcalinity of ash  \n",
            " \t\t- Magnesium\n",
            "\t\t- Total phenols\n",
            " \t\t- Flavanoids\n",
            " \t\t- Nonflavanoid phenols\n",
            " \t\t- Proanthocyanins\n",
            "\t\t- Color intensity\n",
            " \t\t- Hue\n",
            " \t\t- OD280/OD315 of diluted wines\n",
            " \t\t- Proline\n",
            "\n",
            "    - class:\n",
            "            - class_0\n",
            "            - class_1\n",
            "            - class_2\n",
            "\t\t\n",
            "    :Summary Statistics:\n",
            "    \n",
            "    ============================= ==== ===== ======= =====\n",
            "                                   Min   Max   Mean     SD\n",
            "    ============================= ==== ===== ======= =====\n",
            "    Alcohol:                      11.0  14.8    13.0   0.8\n",
            "    Malic Acid:                   0.74  5.80    2.34  1.12\n",
            "    Ash:                          1.36  3.23    2.36  0.27\n",
            "    Alcalinity of Ash:            10.6  30.0    19.5   3.3\n",
            "    Magnesium:                    70.0 162.0    99.7  14.3\n",
            "    Total Phenols:                0.98  3.88    2.29  0.63\n",
            "    Flavanoids:                   0.34  5.08    2.03  1.00\n",
            "    Nonflavanoid Phenols:         0.13  0.66    0.36  0.12\n",
            "    Proanthocyanins:              0.41  3.58    1.59  0.57\n",
            "    Colour Intensity:              1.3  13.0     5.1   2.3\n",
            "    Hue:                          0.48  1.71    0.96  0.23\n",
            "    OD280/OD315 of diluted wines: 1.27  4.00    2.61  0.71\n",
            "    Proline:                       278  1680     746   315\n",
            "    ============================= ==== ===== ======= =====\n",
            "\n",
            "    :Missing Attribute Values: None\n",
            "    :Class Distribution: class_0 (59), class_1 (71), class_2 (48)\n",
            "    :Creator: R.A. Fisher\n",
            "    :Donor: Michael Marshall (MARSHALL%PLU@io.arc.nasa.gov)\n",
            "    :Date: July, 1988\n",
            "\n",
            "This is a copy of UCI ML Wine recognition datasets.\n",
            "https://archive.ics.uci.edu/ml/machine-learning-databases/wine/wine.data\n",
            "\n",
            "The data is the results of a chemical analysis of wines grown in the same\n",
            "region in Italy by three different cultivators. There are thirteen different\n",
            "measurements taken for different constituents found in the three types of\n",
            "wine.\n",
            "\n",
            "Original Owners: \n",
            "\n",
            "Forina, M. et al, PARVUS - \n",
            "An Extendible Package for Data Exploration, Classification and Correlation. \n",
            "Institute of Pharmaceutical and Food Analysis and Technologies,\n",
            "Via Brigata Salerno, 16147 Genoa, Italy.\n",
            "\n",
            "Citation:\n",
            "\n",
            "Lichman, M. (2013). UCI Machine Learning Repository\n",
            "[https://archive.ics.uci.edu/ml]. Irvine, CA: University of California,\n",
            "School of Information and Computer Science. \n",
            "\n",
            ".. topic:: References\n",
            "\n",
            "  (1) S. Aeberhard, D. Coomans and O. de Vel, \n",
            "  Comparison of Classifiers in High Dimensional Settings, \n",
            "  Tech. Rep. no. 92-02, (1992), Dept. of Computer Science and Dept. of  \n",
            "  Mathematics and Statistics, James Cook University of North Queensland. \n",
            "  (Also submitted to Technometrics). \n",
            "\n",
            "  The data was used with many others for comparing various \n",
            "  classifiers. The classes are separable, though only RDA \n",
            "  has achieved 100% correct classification. \n",
            "  (RDA : 100%, QDA 99.4%, LDA 98.9%, 1NN 96.1% (z-transformed data)) \n",
            "  (All results using the leave-one-out technique) \n",
            "\n",
            "  (2) S. Aeberhard, D. Coomans and O. de Vel, \n",
            "  \"THE CLASSIFICATION PERFORMANCE OF RDA\" \n",
            "  Tech. Rep. no. 92-01, (1992), Dept. of Computer Science and Dept. of \n",
            "  Mathematics and Statistics, James Cook University of North Queensland. \n",
            "  (Also submitted to Journal of Chemometrics).\n",
            "\n"
          ],
          "name": "stdout"
        }
      ]
    },
    {
      "cell_type": "code",
      "metadata": {
        "deletable": false,
        "editable": false,
        "nbgrader": {
          "cell_type": "code",
          "checksum": "0edb962c62d1de77ecb088d32166afd2",
          "grade": false,
          "grade_id": "cell-fa314af975b62de5",
          "locked": true,
          "schema_version": 3,
          "solution": false
        },
        "id": "oKElI0BxfQ7d",
        "outputId": "9ed07ec4-b3a4-4972-ff32-28a80cd09256",
        "colab": {
          "base_uri": "https://localhost:8080/",
          "height": 201
        }
      },
      "source": [
        "wine_features.head()"
      ],
      "execution_count": 5,
      "outputs": [
        {
          "output_type": "execute_result",
          "data": {
            "text/html": [
              "<div>\n",
              "<style scoped>\n",
              "    .dataframe tbody tr th:only-of-type {\n",
              "        vertical-align: middle;\n",
              "    }\n",
              "\n",
              "    .dataframe tbody tr th {\n",
              "        vertical-align: top;\n",
              "    }\n",
              "\n",
              "    .dataframe thead th {\n",
              "        text-align: right;\n",
              "    }\n",
              "</style>\n",
              "<table border=\"1\" class=\"dataframe\">\n",
              "  <thead>\n",
              "    <tr style=\"text-align: right;\">\n",
              "      <th></th>\n",
              "      <th>alcohol</th>\n",
              "      <th>malic_acid</th>\n",
              "      <th>ash</th>\n",
              "      <th>alcalinity_of_ash</th>\n",
              "      <th>magnesium</th>\n",
              "      <th>total_phenols</th>\n",
              "      <th>flavanoids</th>\n",
              "      <th>nonflavanoid_phenols</th>\n",
              "      <th>proanthocyanins</th>\n",
              "      <th>color_intensity</th>\n",
              "      <th>hue</th>\n",
              "      <th>od280/od315_of_diluted_wines</th>\n",
              "      <th>proline</th>\n",
              "    </tr>\n",
              "  </thead>\n",
              "  <tbody>\n",
              "    <tr>\n",
              "      <th>0</th>\n",
              "      <td>14.23</td>\n",
              "      <td>1.71</td>\n",
              "      <td>2.43</td>\n",
              "      <td>15.6</td>\n",
              "      <td>127.0</td>\n",
              "      <td>2.80</td>\n",
              "      <td>3.06</td>\n",
              "      <td>0.28</td>\n",
              "      <td>2.29</td>\n",
              "      <td>5.64</td>\n",
              "      <td>1.04</td>\n",
              "      <td>3.92</td>\n",
              "      <td>1065.0</td>\n",
              "    </tr>\n",
              "    <tr>\n",
              "      <th>1</th>\n",
              "      <td>13.20</td>\n",
              "      <td>1.78</td>\n",
              "      <td>2.14</td>\n",
              "      <td>11.2</td>\n",
              "      <td>100.0</td>\n",
              "      <td>2.65</td>\n",
              "      <td>2.76</td>\n",
              "      <td>0.26</td>\n",
              "      <td>1.28</td>\n",
              "      <td>4.38</td>\n",
              "      <td>1.05</td>\n",
              "      <td>3.40</td>\n",
              "      <td>1050.0</td>\n",
              "    </tr>\n",
              "    <tr>\n",
              "      <th>2</th>\n",
              "      <td>13.16</td>\n",
              "      <td>2.36</td>\n",
              "      <td>2.67</td>\n",
              "      <td>18.6</td>\n",
              "      <td>101.0</td>\n",
              "      <td>2.80</td>\n",
              "      <td>3.24</td>\n",
              "      <td>0.30</td>\n",
              "      <td>2.81</td>\n",
              "      <td>5.68</td>\n",
              "      <td>1.03</td>\n",
              "      <td>3.17</td>\n",
              "      <td>1185.0</td>\n",
              "    </tr>\n",
              "    <tr>\n",
              "      <th>3</th>\n",
              "      <td>14.37</td>\n",
              "      <td>1.95</td>\n",
              "      <td>2.50</td>\n",
              "      <td>16.8</td>\n",
              "      <td>113.0</td>\n",
              "      <td>3.85</td>\n",
              "      <td>3.49</td>\n",
              "      <td>0.24</td>\n",
              "      <td>2.18</td>\n",
              "      <td>7.80</td>\n",
              "      <td>0.86</td>\n",
              "      <td>3.45</td>\n",
              "      <td>1480.0</td>\n",
              "    </tr>\n",
              "    <tr>\n",
              "      <th>4</th>\n",
              "      <td>13.24</td>\n",
              "      <td>2.59</td>\n",
              "      <td>2.87</td>\n",
              "      <td>21.0</td>\n",
              "      <td>118.0</td>\n",
              "      <td>2.80</td>\n",
              "      <td>2.69</td>\n",
              "      <td>0.39</td>\n",
              "      <td>1.82</td>\n",
              "      <td>4.32</td>\n",
              "      <td>1.04</td>\n",
              "      <td>2.93</td>\n",
              "      <td>735.0</td>\n",
              "    </tr>\n",
              "  </tbody>\n",
              "</table>\n",
              "</div>"
            ],
            "text/plain": [
              "   alcohol  malic_acid   ash  ...   hue  od280/od315_of_diluted_wines  proline\n",
              "0    14.23        1.71  2.43  ...  1.04                          3.92   1065.0\n",
              "1    13.20        1.78  2.14  ...  1.05                          3.40   1050.0\n",
              "2    13.16        2.36  2.67  ...  1.03                          3.17   1185.0\n",
              "3    14.37        1.95  2.50  ...  0.86                          3.45   1480.0\n",
              "4    13.24        2.59  2.87  ...  1.04                          2.93    735.0\n",
              "\n",
              "[5 rows x 13 columns]"
            ]
          },
          "metadata": {
            "tags": []
          },
          "execution_count": 5
        }
      ]
    },
    {
      "cell_type": "code",
      "metadata": {
        "deletable": false,
        "editable": false,
        "nbgrader": {
          "cell_type": "code",
          "checksum": "7447342f99fb6c1fd0484086323cd211",
          "grade": false,
          "grade_id": "cell-c46ce657a0e7386e",
          "locked": true,
          "schema_version": 3,
          "solution": false
        },
        "id": "XW4WV8FufQ7f",
        "outputId": "88f53201-5a73-4f24-ba99-57e0aede8fc6",
        "colab": {
          "base_uri": "https://localhost:8080/",
          "height": 293
        }
      },
      "source": [
        "wine_features.describe()"
      ],
      "execution_count": 6,
      "outputs": [
        {
          "output_type": "execute_result",
          "data": {
            "text/html": [
              "<div>\n",
              "<style scoped>\n",
              "    .dataframe tbody tr th:only-of-type {\n",
              "        vertical-align: middle;\n",
              "    }\n",
              "\n",
              "    .dataframe tbody tr th {\n",
              "        vertical-align: top;\n",
              "    }\n",
              "\n",
              "    .dataframe thead th {\n",
              "        text-align: right;\n",
              "    }\n",
              "</style>\n",
              "<table border=\"1\" class=\"dataframe\">\n",
              "  <thead>\n",
              "    <tr style=\"text-align: right;\">\n",
              "      <th></th>\n",
              "      <th>alcohol</th>\n",
              "      <th>malic_acid</th>\n",
              "      <th>ash</th>\n",
              "      <th>alcalinity_of_ash</th>\n",
              "      <th>magnesium</th>\n",
              "      <th>total_phenols</th>\n",
              "      <th>flavanoids</th>\n",
              "      <th>nonflavanoid_phenols</th>\n",
              "      <th>proanthocyanins</th>\n",
              "      <th>color_intensity</th>\n",
              "      <th>hue</th>\n",
              "      <th>od280/od315_of_diluted_wines</th>\n",
              "      <th>proline</th>\n",
              "    </tr>\n",
              "  </thead>\n",
              "  <tbody>\n",
              "    <tr>\n",
              "      <th>count</th>\n",
              "      <td>178.000000</td>\n",
              "      <td>178.000000</td>\n",
              "      <td>178.000000</td>\n",
              "      <td>178.000000</td>\n",
              "      <td>178.000000</td>\n",
              "      <td>178.000000</td>\n",
              "      <td>178.000000</td>\n",
              "      <td>178.000000</td>\n",
              "      <td>178.000000</td>\n",
              "      <td>178.000000</td>\n",
              "      <td>178.000000</td>\n",
              "      <td>178.000000</td>\n",
              "      <td>178.000000</td>\n",
              "    </tr>\n",
              "    <tr>\n",
              "      <th>mean</th>\n",
              "      <td>13.000618</td>\n",
              "      <td>2.336348</td>\n",
              "      <td>2.366517</td>\n",
              "      <td>19.494944</td>\n",
              "      <td>99.741573</td>\n",
              "      <td>2.295112</td>\n",
              "      <td>2.029270</td>\n",
              "      <td>0.361854</td>\n",
              "      <td>1.590899</td>\n",
              "      <td>5.058090</td>\n",
              "      <td>0.957449</td>\n",
              "      <td>2.611685</td>\n",
              "      <td>746.893258</td>\n",
              "    </tr>\n",
              "    <tr>\n",
              "      <th>std</th>\n",
              "      <td>0.811827</td>\n",
              "      <td>1.117146</td>\n",
              "      <td>0.274344</td>\n",
              "      <td>3.339564</td>\n",
              "      <td>14.282484</td>\n",
              "      <td>0.625851</td>\n",
              "      <td>0.998859</td>\n",
              "      <td>0.124453</td>\n",
              "      <td>0.572359</td>\n",
              "      <td>2.318286</td>\n",
              "      <td>0.228572</td>\n",
              "      <td>0.709990</td>\n",
              "      <td>314.907474</td>\n",
              "    </tr>\n",
              "    <tr>\n",
              "      <th>min</th>\n",
              "      <td>11.030000</td>\n",
              "      <td>0.740000</td>\n",
              "      <td>1.360000</td>\n",
              "      <td>10.600000</td>\n",
              "      <td>70.000000</td>\n",
              "      <td>0.980000</td>\n",
              "      <td>0.340000</td>\n",
              "      <td>0.130000</td>\n",
              "      <td>0.410000</td>\n",
              "      <td>1.280000</td>\n",
              "      <td>0.480000</td>\n",
              "      <td>1.270000</td>\n",
              "      <td>278.000000</td>\n",
              "    </tr>\n",
              "    <tr>\n",
              "      <th>25%</th>\n",
              "      <td>12.362500</td>\n",
              "      <td>1.602500</td>\n",
              "      <td>2.210000</td>\n",
              "      <td>17.200000</td>\n",
              "      <td>88.000000</td>\n",
              "      <td>1.742500</td>\n",
              "      <td>1.205000</td>\n",
              "      <td>0.270000</td>\n",
              "      <td>1.250000</td>\n",
              "      <td>3.220000</td>\n",
              "      <td>0.782500</td>\n",
              "      <td>1.937500</td>\n",
              "      <td>500.500000</td>\n",
              "    </tr>\n",
              "    <tr>\n",
              "      <th>50%</th>\n",
              "      <td>13.050000</td>\n",
              "      <td>1.865000</td>\n",
              "      <td>2.360000</td>\n",
              "      <td>19.500000</td>\n",
              "      <td>98.000000</td>\n",
              "      <td>2.355000</td>\n",
              "      <td>2.135000</td>\n",
              "      <td>0.340000</td>\n",
              "      <td>1.555000</td>\n",
              "      <td>4.690000</td>\n",
              "      <td>0.965000</td>\n",
              "      <td>2.780000</td>\n",
              "      <td>673.500000</td>\n",
              "    </tr>\n",
              "    <tr>\n",
              "      <th>75%</th>\n",
              "      <td>13.677500</td>\n",
              "      <td>3.082500</td>\n",
              "      <td>2.557500</td>\n",
              "      <td>21.500000</td>\n",
              "      <td>107.000000</td>\n",
              "      <td>2.800000</td>\n",
              "      <td>2.875000</td>\n",
              "      <td>0.437500</td>\n",
              "      <td>1.950000</td>\n",
              "      <td>6.200000</td>\n",
              "      <td>1.120000</td>\n",
              "      <td>3.170000</td>\n",
              "      <td>985.000000</td>\n",
              "    </tr>\n",
              "    <tr>\n",
              "      <th>max</th>\n",
              "      <td>14.830000</td>\n",
              "      <td>5.800000</td>\n",
              "      <td>3.230000</td>\n",
              "      <td>30.000000</td>\n",
              "      <td>162.000000</td>\n",
              "      <td>3.880000</td>\n",
              "      <td>5.080000</td>\n",
              "      <td>0.660000</td>\n",
              "      <td>3.580000</td>\n",
              "      <td>13.000000</td>\n",
              "      <td>1.710000</td>\n",
              "      <td>4.000000</td>\n",
              "      <td>1680.000000</td>\n",
              "    </tr>\n",
              "  </tbody>\n",
              "</table>\n",
              "</div>"
            ],
            "text/plain": [
              "          alcohol  malic_acid  ...  od280/od315_of_diluted_wines      proline\n",
              "count  178.000000  178.000000  ...                    178.000000   178.000000\n",
              "mean    13.000618    2.336348  ...                      2.611685   746.893258\n",
              "std      0.811827    1.117146  ...                      0.709990   314.907474\n",
              "min     11.030000    0.740000  ...                      1.270000   278.000000\n",
              "25%     12.362500    1.602500  ...                      1.937500   500.500000\n",
              "50%     13.050000    1.865000  ...                      2.780000   673.500000\n",
              "75%     13.677500    3.082500  ...                      3.170000   985.000000\n",
              "max     14.830000    5.800000  ...                      4.000000  1680.000000\n",
              "\n",
              "[8 rows x 13 columns]"
            ]
          },
          "metadata": {
            "tags": []
          },
          "execution_count": 6
        }
      ]
    },
    {
      "cell_type": "code",
      "metadata": {
        "deletable": false,
        "editable": false,
        "nbgrader": {
          "cell_type": "code",
          "checksum": "7784e4577251b80a6b74c29e90812eab",
          "grade": false,
          "grade_id": "cell-a7795daf552d66a3",
          "locked": true,
          "schema_version": 3,
          "solution": false
        },
        "id": "KOA-qc1kfQ7h",
        "outputId": "92450a39-d2f3-4bf8-b291-2c81036acd00",
        "colab": {
          "base_uri": "https://localhost:8080/",
          "height": 201
        }
      },
      "source": [
        "wine_targets.head()"
      ],
      "execution_count": 7,
      "outputs": [
        {
          "output_type": "execute_result",
          "data": {
            "text/html": [
              "<div>\n",
              "<style scoped>\n",
              "    .dataframe tbody tr th:only-of-type {\n",
              "        vertical-align: middle;\n",
              "    }\n",
              "\n",
              "    .dataframe tbody tr th {\n",
              "        vertical-align: top;\n",
              "    }\n",
              "\n",
              "    .dataframe thead th {\n",
              "        text-align: right;\n",
              "    }\n",
              "</style>\n",
              "<table border=\"1\" class=\"dataframe\">\n",
              "  <thead>\n",
              "    <tr style=\"text-align: right;\">\n",
              "      <th></th>\n",
              "      <th>class</th>\n",
              "    </tr>\n",
              "  </thead>\n",
              "  <tbody>\n",
              "    <tr>\n",
              "      <th>0</th>\n",
              "      <td>0</td>\n",
              "    </tr>\n",
              "    <tr>\n",
              "      <th>1</th>\n",
              "      <td>0</td>\n",
              "    </tr>\n",
              "    <tr>\n",
              "      <th>2</th>\n",
              "      <td>0</td>\n",
              "    </tr>\n",
              "    <tr>\n",
              "      <th>3</th>\n",
              "      <td>0</td>\n",
              "    </tr>\n",
              "    <tr>\n",
              "      <th>4</th>\n",
              "      <td>0</td>\n",
              "    </tr>\n",
              "  </tbody>\n",
              "</table>\n",
              "</div>"
            ],
            "text/plain": [
              "   class\n",
              "0      0\n",
              "1      0\n",
              "2      0\n",
              "3      0\n",
              "4      0"
            ]
          },
          "metadata": {
            "tags": []
          },
          "execution_count": 7
        }
      ]
    },
    {
      "cell_type": "code",
      "metadata": {
        "deletable": false,
        "editable": false,
        "nbgrader": {
          "cell_type": "code",
          "checksum": "48e853912720c043ee9d4c1c8f162cd6",
          "grade": false,
          "grade_id": "cell-aaced91ab20065fe",
          "locked": true,
          "schema_version": 3,
          "solution": false
        },
        "id": "CxbDDQVifQ7j",
        "outputId": "aa952dfc-d779-441f-8126-8095328cdbf2",
        "colab": {
          "base_uri": "https://localhost:8080/"
        }
      },
      "source": [
        "wine_targets[\"class\"].value_counts()"
      ],
      "execution_count": 8,
      "outputs": [
        {
          "output_type": "execute_result",
          "data": {
            "text/plain": [
              "1    71\n",
              "0    59\n",
              "2    48\n",
              "Name: class, dtype: int64"
            ]
          },
          "metadata": {
            "tags": []
          },
          "execution_count": 8
        }
      ]
    },
    {
      "cell_type": "code",
      "metadata": {
        "deletable": false,
        "editable": false,
        "nbgrader": {
          "cell_type": "code",
          "checksum": "5dd2a62fa6948c0325c5c535a5cef889",
          "grade": false,
          "grade_id": "cell-8e7d11fb42a903ef",
          "locked": true,
          "schema_version": 3,
          "solution": false
        },
        "id": "2TmFppIFfQ7l"
      },
      "source": [
        "X_train, X_test, y_train, y_test = train_test_split(wine_features, wine_targets, test_size=0.2, random_state=0)"
      ],
      "execution_count": 9,
      "outputs": []
    },
    {
      "cell_type": "markdown",
      "metadata": {
        "deletable": false,
        "editable": false,
        "nbgrader": {
          "cell_type": "markdown",
          "checksum": "fff9c74890f151a73874ac0c5185d78a",
          "grade": false,
          "grade_id": "cell-6857edd399553b80",
          "locked": true,
          "schema_version": 3,
          "solution": false
        },
        "id": "9WasybZLfQ7m"
      },
      "source": [
        "With the wine data, we will apply [PCA](http://scikit-learn.org/stable/modules/generated/sklearn.decomposition.PCA.html) to 2 components to be able to visualize the data and then run a linear regression on the original data as well as PCA and compare their performances."
      ]
    },
    {
      "cell_type": "code",
      "metadata": {
        "deletable": false,
        "nbgrader": {
          "cell_type": "code",
          "checksum": "5292bd6944b71da9cead0235721fa04c",
          "grade": false,
          "grade_id": "cell-b23fa403dd2dddbf",
          "locked": false,
          "schema_version": 3,
          "solution": true
        },
        "id": "7b84_mavfQ7n"
      },
      "source": [
        "# Set pca_tf to the PCA transformer using 2 components (case matters)\n",
        "# Fit and transform X_train and save to X_train_pca\n",
        "# Transform X_test and save to X_test\n",
        "pca_tf = PCA(n_components = 2).fit(X_train, y_train)\n",
        "X_train_pca = pca_tf.transform(X_train)\n",
        "X_test_pca = pca_tf.transform(X_test)"
      ],
      "execution_count": 10,
      "outputs": []
    },
    {
      "cell_type": "code",
      "metadata": {
        "deletable": false,
        "editable": false,
        "nbgrader": {
          "cell_type": "code",
          "checksum": "8737a72501fe7579b136d5adf715047b",
          "grade": true,
          "grade_id": "cell-a74af3b16b14e1f2",
          "locked": true,
          "points": 5,
          "schema_version": 3,
          "solution": false
        },
        "id": "de3nCz4OfQ7o"
      },
      "source": [
        "assert pca_tf\n",
        "assert X_train_pca.shape == (142, 2)\n",
        "assert X_test_pca.shape == (36,2)"
      ],
      "execution_count": 11,
      "outputs": []
    },
    {
      "cell_type": "code",
      "metadata": {
        "deletable": false,
        "editable": false,
        "nbgrader": {
          "cell_type": "code",
          "checksum": "71f1c3ea16596f8539beab3283599f1e",
          "grade": false,
          "grade_id": "cell-8df7f3e1cb6f4061",
          "locked": true,
          "schema_version": 3,
          "solution": false
        },
        "id": "20Bb5XA7fQ7q",
        "outputId": "00a7a0ed-ac79-4d8d-aa1d-cf0cb3bcd41a",
        "colab": {
          "base_uri": "https://localhost:8080/",
          "height": 265
        }
      },
      "source": [
        "c0 = plt.scatter(X_train_pca[:,0].reshape(-1,1)[y_train == 0], X_train_pca[:,1].reshape(-1,1)[y_train == 0], color=\"r\")\n",
        "c1 = plt.scatter(X_train_pca[:,0].reshape(-1,1)[y_train == 1], X_train_pca[:,1].reshape(-1,1)[y_train == 1], color=\"g\")\n",
        "c2 = plt.scatter(X_train_pca[:,0].reshape(-1,1)[y_train == 2], X_train_pca[:,1].reshape(-1,1)[y_train == 2], color=\"b\")\n",
        "plt.legend((c0, c1, c2), (\"Class 0\", \"Class 1\", \"Class 2\"))\n",
        "plt.show()"
      ],
      "execution_count": 12,
      "outputs": [
        {
          "output_type": "display_data",
          "data": {
            "image/png": "[encoded data removed]",
            "text/plain": [
              "<Figure size 432x288 with 1 Axes>"
            ]
          },
          "metadata": {
            "tags": [],
            "needs_background": "light"
          }
        }
      ]
    },
    {
      "cell_type": "code",
      "metadata": {
        "deletable": false,
        "nbgrader": {
          "cell_type": "code",
          "checksum": "603b17d6200b36a17733b5282cc9452f",
          "grade": false,
          "grade_id": "cell-a4adffb912fdf080",
          "locked": false,
          "schema_version": 3,
          "solution": true
        },
        "id": "AuzLWXGJfQ7t"
      },
      "source": [
        "# Fit 2 linear svm classifiers, lm and lm_pca on the X_train and X_train_pca data respectively.\n",
        "lm = LinearSVC(dual = False).fit(X_train, y_train.squeeze())\n",
        "lm_pca = LinearSVC(dual = False).fit(X_train_pca, y_train.squeeze())"
      ],
      "execution_count": 13,
      "outputs": []
    },
    {
      "cell_type": "code",
      "metadata": {
        "deletable": false,
        "editable": false,
        "nbgrader": {
          "cell_type": "code",
          "checksum": "ce88c4b7f31eefec517edfbbee995394",
          "grade": true,
          "grade_id": "cell-72007eed2cc9d505",
          "locked": true,
          "points": 5,
          "schema_version": 3,
          "solution": false
        },
        "id": "xuBms0lxfQ7v"
      },
      "source": [
        "assert lm\n",
        "assert isinstance(lm, LinearSVC)\n",
        "assert lm.coef_.shape == (3, 13)\n",
        "assert lm_pca\n",
        "assert isinstance(lm_pca, LinearSVC)\n",
        "assert lm_pca.coef_.shape == (3, 2)"
      ],
      "execution_count": 14,
      "outputs": []
    },
    {
      "cell_type": "code",
      "metadata": {
        "deletable": false,
        "editable": false,
        "nbgrader": {
          "cell_type": "code",
          "checksum": "10c597b5927702c958087e580df1010e",
          "grade": false,
          "grade_id": "cell-533521b0be66e5ee",
          "locked": true,
          "schema_version": 3,
          "solution": false
        },
        "id": "wZdSN5N2fQ7x",
        "outputId": "5f6e99a5-f88f-4fbe-baa5-b19748a5808c",
        "colab": {
          "base_uri": "https://localhost:8080/"
        }
      },
      "source": [
        "print(f\"The f1 weighted score using LM is {f1_score(y_test, lm.predict(X_test), average='weighted')}.\")\n",
        "print(f\"The f1_weighted score using LM PCA is {f1_score(y_test, lm_pca.predict(X_test_pca), average='weighted')}.\")"
      ],
      "execution_count": 15,
      "outputs": [
        {
          "output_type": "stream",
          "text": [
            "The f1 weighted score using LM is 0.9152765497593083.\n",
            "The f1_weighted score using LM PCA is 0.7978395061728395.\n"
          ],
          "name": "stdout"
        }
      ]
    },
    {
      "cell_type": "markdown",
      "metadata": {
        "deletable": false,
        "editable": false,
        "nbgrader": {
          "cell_type": "markdown",
          "checksum": "c173344f1a5e8d72bc6c9b32d990b8df",
          "grade": false,
          "grade_id": "cell-89c74f66fc539ac9",
          "locked": true,
          "schema_version": 3,
          "solution": false
        },
        "id": "vi5bMsQifQ7z"
      },
      "source": [
        "PCA can help us visualize the data but it can come at a cost when we apply a machine learning model to its components. Often, the results are still worth the reduction in computation time when we have extremely large datasets. And sometimes we may achieve better results with PCA because it may remove noise in the data."
      ]
    },
    {
      "cell_type": "markdown",
      "metadata": {
        "id": "pU57pCSXfQ7z"
      },
      "source": [
        "Another important aspect that we covered about PCA is that it minimizes the reconstruction error. One key useful attribute of PCA is we can transform the data and then transform it back. Let's walk through that. In scikit-learn we can reverse a transformation by running `.inverse_transform()` whenever it's available."
      ]
    },
    {
      "cell_type": "code",
      "metadata": {
        "id": "QWnDvqbHfQ70",
        "outputId": "d03beec0-65b6-427c-f1a4-be4b16052573",
        "colab": {
          "base_uri": "https://localhost:8080/"
        }
      },
      "source": [
        "original_data = X_train\n",
        "transformed_then_inverse_transformed_data = pca_tf.inverse_transform(X_train_pca)\n",
        "\n",
        "print(original_data.shape, transformed_then_inverse_transformed_data.shape)"
      ],
      "execution_count": 16,
      "outputs": [
        {
          "output_type": "stream",
          "text": [
            "(142, 13) (142, 13)\n"
          ],
          "name": "stdout"
        }
      ]
    },
    {
      "cell_type": "code",
      "metadata": {
        "id": "ISFFPW9QfQ71",
        "outputId": "899e754d-0564-4c6e-e301-c6581fc63c28",
        "colab": {
          "base_uri": "https://localhost:8080/"
        }
      },
      "source": [
        "reconstruction_error = mean_squared_error(original_data, transformed_then_inverse_transformed_data)\n",
        "print(reconstruction_error)"
      ],
      "execution_count": 17,
      "outputs": [
        {
          "output_type": "stream",
          "text": [
            "1.3868575432660468\n"
          ],
          "name": "stdout"
        }
      ]
    },
    {
      "cell_type": "markdown",
      "metadata": {
        "id": "QhieDKEmfQ73"
      },
      "source": [
        "What happens when we use more components? Do you expect the reconstruction error to increase or decrease? Try it out!"
      ]
    },
    {
      "cell_type": "markdown",
      "metadata": {
        "deletable": false,
        "editable": false,
        "nbgrader": {
          "cell_type": "markdown",
          "checksum": "045bcab7db155dd01070479af8340a20",
          "grade": false,
          "grade_id": "cell-ce8cfc5dbdcb23e7",
          "locked": true,
          "schema_version": 3,
          "solution": false
        },
        "id": "rBS9WYXAfQ73"
      },
      "source": [
        "## Kernel PCA"
      ]
    },
    {
      "cell_type": "code",
      "metadata": {
        "deletable": false,
        "editable": false,
        "nbgrader": {
          "cell_type": "code",
          "checksum": "29bdb9ecd41f55350a41ad88edc15963",
          "grade": false,
          "grade_id": "cell-b74412aa658a7225",
          "locked": true,
          "schema_version": 3,
          "solution": false
        },
        "id": "_Q23pOJnfQ74"
      },
      "source": [
        "X, y = make_circles(n_samples=400, factor=.3, noise=.05)\n",
        "reds = y == 0\n",
        "blues = y == 1"
      ],
      "execution_count": 18,
      "outputs": []
    },
    {
      "cell_type": "code",
      "metadata": {
        "deletable": false,
        "editable": false,
        "nbgrader": {
          "cell_type": "code",
          "checksum": "9840e9d88f7382f2c63631a743ba09c0",
          "grade": false,
          "grade_id": "cell-60b1f7647e2d2417",
          "locked": true,
          "schema_version": 3,
          "solution": false
        },
        "id": "qDmY-n8FfQ76",
        "outputId": "5fb1f495-1d44-4ef8-dda4-9b8bee5998f2",
        "colab": {
          "base_uri": "https://localhost:8080/",
          "height": 282
        }
      },
      "source": [
        "plt.scatter(X[reds, 0], X[reds, 1], c=\"r\", s=20)\n",
        "plt.scatter(X[blues, 0], X[blues, 1], c=\"b\", s=20)\n",
        "plt.xlabel(\"$x_1$\")\n",
        "plt.ylabel(\"$x_2$\")\n",
        "plt.show()"
      ],
      "execution_count": 19,
      "outputs": [
        {
          "output_type": "display_data",
          "data": {
            "image/png": "[encoded data removed]",
            "text/plain": [
              "<Figure size 432x288 with 1 Axes>"
            ]
          },
          "metadata": {
            "tags": [],
            "needs_background": "light"
          }
        }
      ]
    },
    {
      "cell_type": "code",
      "metadata": {
        "deletable": false,
        "nbgrader": {
          "cell_type": "code",
          "checksum": "7b09d351e4be6569e91e2e11505e3c3f",
          "grade": false,
          "grade_id": "cell-54e6fb8148eb1bb8",
          "locked": false,
          "schema_version": 3,
          "solution": true
        },
        "id": "8bqScRXXfQ77"
      },
      "source": [
        "# Apply a PCA transformation on X with 2 components\n",
        "# Save the PCA transformer to pca_tf\n",
        "# Save the transformed values of X to X_pca\n",
        "\n",
        "pca_tf = PCA(n_components = 2).fit(X,y)\n",
        "X_pca = pca_tf.transform(X)"
      ],
      "execution_count": 20,
      "outputs": []
    },
    {
      "cell_type": "code",
      "metadata": {
        "deletable": false,
        "editable": false,
        "nbgrader": {
          "cell_type": "code",
          "checksum": "67b4be3a91c194a35ec6cec71b242365",
          "grade": true,
          "grade_id": "cell-1b2e59300a5665c9",
          "locked": true,
          "points": 5,
          "schema_version": 3,
          "solution": false
        },
        "id": "u7oDpkI9fQ79"
      },
      "source": [
        "assert pca_tf\n",
        "assert X_pca.shape == (400,2)"
      ],
      "execution_count": 21,
      "outputs": []
    },
    {
      "cell_type": "code",
      "metadata": {
        "deletable": false,
        "editable": false,
        "nbgrader": {
          "cell_type": "code",
          "checksum": "0b96064f0213f43b97c541b09960f038",
          "grade": false,
          "grade_id": "cell-85c88b175acc68ad",
          "locked": true,
          "schema_version": 3,
          "solution": false
        },
        "id": "dExPMu9OfQ7-",
        "outputId": "25fec759-190a-484c-ce65-c94104cf4eb2",
        "colab": {
          "base_uri": "https://localhost:8080/",
          "height": 282
        }
      },
      "source": [
        "plt.scatter(X_pca[reds, 0], X_pca[reds, 1], c=\"r\", s=20)\n",
        "plt.scatter(X_pca[blues, 0], X_pca[blues, 1], c=\"b\", s=20)\n",
        "plt.xlabel(\"PC1\")\n",
        "plt.ylabel(\"PC2\")\n",
        "plt.show()"
      ],
      "execution_count": 22,
      "outputs": [
        {
          "output_type": "display_data",
          "data": {
            "image/png": "[encoded data removed]",
            "text/plain": [
              "<Figure size 432x288 with 1 Axes>"
            ]
          },
          "metadata": {
            "tags": [],
            "needs_background": "light"
          }
        }
      ]
    },
    {
      "cell_type": "markdown",
      "metadata": {
        "deletable": false,
        "editable": false,
        "nbgrader": {
          "cell_type": "markdown",
          "checksum": "d78bbd455382bde89bf880efeb209701",
          "grade": false,
          "grade_id": "cell-2c4b1a99d7437998",
          "locked": true,
          "schema_version": 3,
          "solution": false
        },
        "id": "j1V-6YV7fQ8A"
      },
      "source": [
        "We can see that there isn't much value in using traditional PCA. Let's try [kernel PCA](http://scikit-learn.org/stable/modules/generated/sklearn.decomposition.KernelPCA.html#sklearn.decomposition.KernelPCA). We'll use the RBF kernel and a gamma of 10. Also, set `fit_inverse_transform=True`."
      ]
    },
    {
      "cell_type": "code",
      "metadata": {
        "deletable": false,
        "nbgrader": {
          "cell_type": "code",
          "checksum": "388b76b8cfe5983be78405c1d73e933c",
          "grade": false,
          "grade_id": "cell-b8ccd7d77bf0d6bd",
          "locked": false,
          "schema_version": 3,
          "solution": true
        },
        "id": "FLMJwWimfQ8A"
      },
      "source": [
        "# Apply a Kernel PCA transformation on X with 2 components\n",
        "# Save the Kernel PCA transformer to kpca_tf\n",
        "# Save the transformed values of X to X_pca\n",
        "\n",
        "kpca_tf = KernelPCA(n_components = 2, gamma = 10, kernel = 'rbf', fit_inverse_transform = True).fit(X,y)\n",
        "X_kpca = kpca_tf.transform(X)"
      ],
      "execution_count": 23,
      "outputs": []
    },
    {
      "cell_type": "code",
      "metadata": {
        "deletable": false,
        "editable": false,
        "nbgrader": {
          "cell_type": "code",
          "checksum": "081e3b679d9deda0a60fc158dea73187",
          "grade": true,
          "grade_id": "cell-7c84c81a07e9fb6d",
          "locked": true,
          "points": 5,
          "schema_version": 3,
          "solution": false
        },
        "id": "K5fa4AxYfQ8C"
      },
      "source": [
        "assert kpca_tf\n",
        "assert X_kpca.shape == (400,2)"
      ],
      "execution_count": 24,
      "outputs": []
    },
    {
      "cell_type": "code",
      "metadata": {
        "deletable": false,
        "editable": false,
        "nbgrader": {
          "cell_type": "code",
          "checksum": "6a4e27b73e3ae4b8f43f137e60f3c503",
          "grade": false,
          "grade_id": "cell-97c0792c16cd6f1c",
          "locked": true,
          "schema_version": 3,
          "solution": false
        },
        "id": "k9uAgFFAfQ8G",
        "outputId": "837847c3-0719-4852-8b2c-d2faed089fd9",
        "colab": {
          "base_uri": "https://localhost:8080/",
          "height": 282
        }
      },
      "source": [
        "plt.scatter(X_kpca[reds, 0], X_kpca[reds, 1], c=\"r\", s=20)\n",
        "plt.scatter(X_kpca[blues, 0], X_kpca[blues, 1], c=\"b\", s=20)\n",
        "plt.xlabel(\"Kernel PC1\")\n",
        "plt.ylabel(\"Kernel PC2\")\n",
        "plt.show()"
      ],
      "execution_count": 25,
      "outputs": [
        {
          "output_type": "display_data",
          "data": {
            "image/png": "[encoded data removed]",
            "text/plain": [
              "<Figure size 432x288 with 1 Axes>"
            ]
          },
          "metadata": {
            "tags": [],
            "needs_background": "light"
          }
        }
      ]
    },
    {
      "cell_type": "markdown",
      "metadata": {
        "id": "RNtQXdb2fQ8H"
      },
      "source": [
        "In this next section we will run an inverse transformation on the Kernel PCA to try and bring it back to the original space. This is done by learning a _linear_ model since we can't really model the kernel exactly. Since our data heavily uses the non-linear patterns in the data, let's see how good/bad this inverse transformation is."
      ]
    },
    {
      "cell_type": "code",
      "metadata": {
        "id": "OPzDtDF0fQ8I",
        "outputId": "fc172c54-8fff-4aee-a3a2-bfb6f16b0853",
        "colab": {
          "base_uri": "https://localhost:8080/",
          "height": 302
        }
      },
      "source": [
        "X_inverse = kpca_tf.inverse_transform(X_kpca)\n",
        "plt.scatter(X_inverse[reds, 0], X_inverse[reds, 1], c=\"r\", s=20)\n",
        "plt.scatter(X_inverse[blues, 0], X_inverse[blues, 1], c=\"b\", s=20)\n",
        "plt.xlabel(\"Returned $x_1$ \")\n",
        "plt.ylabel(\"Returned $x_2$\")\n",
        "plt.title(\"The inverse transformed original dimensions\")\n",
        "plt.show()"
      ],
      "execution_count": 26,
      "outputs": [
        {
          "output_type": "display_data",
          "data": {
            "image/png": "[encoded data removed]",
            "text/plain": [
              "<Figure size 432x288 with 1 Axes>"
            ]
          },
          "metadata": {
            "tags": [],
            "needs_background": "light"
          }
        }
      ]
    },
    {
      "cell_type": "markdown",
      "metadata": {
        "id": "h9oanoZbfQ8J"
      },
      "source": [
        "It is important to note that while one of PCA's goals is to minimize reconstruction error, that **doesn't mean that it is able to reduce it to 0.** Minimum possible does not necessarily mean 0. "
      ]
    },
    {
      "cell_type": "markdown",
      "metadata": {
        "deletable": false,
        "editable": false,
        "nbgrader": {
          "cell_type": "markdown",
          "checksum": "bc710d4da2e8a059e3f3233d306246fc",
          "grade": false,
          "grade_id": "cell-b942cad4cb865f2c",
          "locked": true,
          "schema_version": 3,
          "solution": false
        },
        "id": "8_QCOBHJfQ8J"
      },
      "source": [
        "## Feedback"
      ]
    },
    {
      "cell_type": "code",
      "metadata": {
        "deletable": false,
        "nbgrader": {
          "cell_type": "code",
          "checksum": "ed936ab53a1391c5e6af8df699a1dbf5",
          "grade": false,
          "grade_id": "feedback",
          "locked": false,
          "schema_version": 3,
          "solution": true
        },
        "id": "EAnCaSIbfQ8K"
      },
      "source": [
        "def feedback():\n",
        "    \"\"\"Provide feedback on the contents of this exercise\n",
        "    \n",
        "    Returns:\n",
        "        string\n",
        "    \"\"\"\n",
        "    return \"All good!\""
      ],
      "execution_count": 27,
      "outputs": []
    },
    {
      "cell_type": "code",
      "metadata": {
        "deletable": false,
        "editable": false,
        "nbgrader": {
          "cell_type": "code",
          "checksum": "f39f6185a54850c2f1f9b5b2a17b7543",
          "grade": true,
          "grade_id": "feedback-tests",
          "locked": true,
          "points": 0,
          "schema_version": 3,
          "solution": false
        },
        "id": "eoyfroyzfQ8L",
        "outputId": "55a8e34a-0e20-45ae-bb0e-6e4afb364259",
        "colab": {
          "base_uri": "https://localhost:8080/"
        }
      },
      "source": [
        "print(feedback())"
      ],
      "execution_count": 28,
      "outputs": [
        {
          "output_type": "stream",
          "text": [
            "All good!\n"
          ],
          "name": "stdout"
        }
      ]
    }
  ]
}