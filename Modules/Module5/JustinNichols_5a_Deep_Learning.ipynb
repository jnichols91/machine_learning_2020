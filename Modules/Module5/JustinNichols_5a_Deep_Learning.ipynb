{
  "nbformat": 4,
  "nbformat_minor": 0,
  "metadata": {
    "kernelspec": {
      "name": "python3",
      "display_name": "Python 3"
    },
    "colab": {
      "name": "JustinNichols_5a_Deep_Learning.ipynb",
      "provenance": [],
      "collapsed_sections": []
    }
  },
  "cells": [
    {
      "cell_type": "markdown",
      "metadata": {
        "id": "ZRLGybhhrtRs"
      },
      "source": [
        "## CSCI 470 Activities and Case Studies\n",
        "\n",
        "1. For all activities, you are allowed to collaborate with a partner. \n",
        "1. For case studies, you should work individually and are **not** allowed to collaborate.\n",
        "\n",
        "By filling out this notebook and submitting it, you acknowledge that you are aware of the above policies and are agreeing to comply with them."
      ]
    },
    {
      "cell_type": "markdown",
      "metadata": {
        "id": "y8gfgyPdrtRt"
      },
      "source": [
        "Some considerations with regard to how these notebooks will be graded:\n",
        "\n",
        "1. You can add more notebook cells or edit existing notebook cells other than \"# YOUR CODE HERE\" to test out or debug your code. We actually highly recommend you do so to gain a better understanding of what is happening. However, during grading, **these changes are ignored**. \n",
        "2. You must ensure that all your code for the particular task is available in the cells that say \"# YOUR CODE HERE\"\n",
        "3. Every cell that says \"# YOUR CODE HERE\" is followed by a \"raise NotImplementedError\". You need to remove that line. During grading, if an error occurs then you will not receive points for your work in that section.\n",
        "4. If your code passes the \"assert\" statements, then no output will result. If your code fails the \"assert\" statements, you will get an \"AssertionError\". Getting an assertion error means you will not receive points for that particular task.\n",
        "5. If you edit the \"assert\" statements to make your code pass, they will still fail when they are graded since the \"assert\" statements will revert to the original. Make sure you don't edit the assert statements.\n",
        "6. We may sometimes have \"hidden\" tests for grading. This means that passing the visible \"assert\" statements is not sufficient. The \"assert\" statements are there as a guide but you need to make sure you understand what you're required to do and ensure that you are doing it correctly. Passing the visible tests is necessary but not sufficient to get the grade for that cell.\n",
        "7. When you are asked to define a function, make sure you **don't** use any variables outside of the parameters passed to the function. You can think of the parameters being passed to the function as a hint. Make sure you're using all of those variables.\n",
        "8. Finally, **make sure you run \"Kernel > Restart and Run All\"** and pass all the asserts before submitting. If you don't restart the kernel, there may be some code that you ran and deleted that is still being used and that was why your asserts were passing."
      ]
    },
    {
      "cell_type": "markdown",
      "metadata": {
        "deletable": false,
        "editable": false,
        "nbgrader": {
          "cell_type": "markdown",
          "checksum": "f527c20692dbdf09018e4f5bc32e637a",
          "grade": false,
          "grade_id": "cell-4fb3a6f3d58fd28b",
          "locked": true,
          "schema_version": 3,
          "solution": false
        },
        "id": "-2xGTXaortRu"
      },
      "source": [
        "# Deep Learning\n",
        "\n",
        "In this exercise, you will use a deep neural network to predict the values of houses based on some provided input data. You will use keras to build the model. Below is a description of how the keras models are set up.\n",
        "\n",
        "**Please read more about the data [here](https://www.cs.toronto.edu/~delve/data/boston/bostonDetail.html).**"
      ]
    },
    {
      "cell_type": "code",
      "metadata": {
        "deletable": false,
        "editable": false,
        "nbgrader": {
          "cell_type": "code",
          "checksum": "c39e29d77d1a419d614ec45f1cb64f75",
          "grade": false,
          "grade_id": "cell-d07727b5ced87bf2",
          "locked": true,
          "schema_version": 3,
          "solution": false
        },
        "id": "atP7zqIWrtRu"
      },
      "source": [
        "import tensorflow as tf\n",
        "import tensorflow.keras as keras\n",
        "import numpy as np\n",
        "from tensorflow.keras import Sequential\n",
        "from tensorflow.keras.layers import Dense, Dropout\n",
        "\n",
        "np.random.seed(0)"
      ],
      "execution_count": 1,
      "outputs": []
    },
    {
      "cell_type": "code",
      "metadata": {
        "deletable": false,
        "editable": false,
        "nbgrader": {
          "cell_type": "code",
          "checksum": "9671de294010d6b1c7292a418de83b6e",
          "grade": false,
          "grade_id": "cell-9b0245844d72bf80",
          "locked": true,
          "schema_version": 3,
          "solution": false
        },
        "id": "onBGG_2rrtRy"
      },
      "source": [
        "(x_train, y_train), (x_test, y_test) = tf.keras.datasets.boston_housing.load_data()"
      ],
      "execution_count": 2,
      "outputs": []
    },
    {
      "cell_type": "code",
      "metadata": {
        "deletable": false,
        "editable": false,
        "nbgrader": {
          "cell_type": "code",
          "checksum": "3527a9c335ebfaef9a7e5705a051f3e7",
          "grade": false,
          "grade_id": "cell-e2de7844f2c7f49e",
          "locked": true,
          "schema_version": 3,
          "solution": false
        },
        "id": "L2Q9TmHHrtR0",
        "outputId": "49b96feb-3971-48a7-9701-624c7b773137",
        "colab": {
          "base_uri": "https://localhost:8080/",
          "height": 34
        }
      },
      "source": [
        "x_train.shape"
      ],
      "execution_count": 3,
      "outputs": [
        {
          "output_type": "execute_result",
          "data": {
            "text/plain": [
              "(404, 13)"
            ]
          },
          "metadata": {
            "tags": []
          },
          "execution_count": 3
        }
      ]
    },
    {
      "cell_type": "code",
      "metadata": {
        "deletable": false,
        "editable": false,
        "nbgrader": {
          "cell_type": "code",
          "checksum": "77b73fcd17ac138c678b9c355259bb7f",
          "grade": false,
          "grade_id": "cell-33b45d559f48738f",
          "locked": true,
          "schema_version": 3,
          "solution": false
        },
        "id": "gDTUHRh0rtR3",
        "outputId": "d4871e6d-a5c7-4b0a-afb7-4cbdfb75cc60",
        "colab": {
          "base_uri": "https://localhost:8080/",
          "height": 34
        }
      },
      "source": [
        "y_train.shape"
      ],
      "execution_count": 4,
      "outputs": [
        {
          "output_type": "execute_result",
          "data": {
            "text/plain": [
              "(404,)"
            ]
          },
          "metadata": {
            "tags": []
          },
          "execution_count": 4
        }
      ]
    },
    {
      "cell_type": "code",
      "metadata": {
        "deletable": false,
        "editable": false,
        "nbgrader": {
          "cell_type": "code",
          "checksum": "f8d293a6e2d86c0ca74af9b20b395d2a",
          "grade": false,
          "grade_id": "cell-831e0268417ab95a",
          "locked": true,
          "schema_version": 3,
          "solution": false
        },
        "id": "NYYQucPurtR5",
        "outputId": "650ac6d8-807c-42cd-d7d9-9c0bf0fc36cc",
        "colab": {
          "base_uri": "https://localhost:8080/",
          "height": 34
        }
      },
      "source": [
        "y_train.mean(), y_train.std()"
      ],
      "execution_count": 5,
      "outputs": [
        {
          "output_type": "execute_result",
          "data": {
            "text/plain": [
              "(22.395049504950492, 9.199035423364862)"
            ]
          },
          "metadata": {
            "tags": []
          },
          "execution_count": 5
        }
      ]
    },
    {
      "cell_type": "markdown",
      "metadata": {
        "deletable": false,
        "editable": false,
        "nbgrader": {
          "cell_type": "markdown",
          "checksum": "014ebf37af531587765a98e35734641e",
          "grade": false,
          "grade_id": "cell-2f0fe3b3a560d952",
          "locked": true,
          "schema_version": 3,
          "solution": false
        },
        "id": "cZLRqXgmrtR8"
      },
      "source": [
        "The keras model consists of multiple parts:\n",
        "\n",
        "1. Construct the model layers, neurons per layer, activation function\n",
        "1. Determine the loss function, metrics and optimization method\n",
        "1. Fit the model to some data\n",
        "1. Evaluate the model using the same metric\n",
        "\n",
        "Some relevant docs:\n",
        " - [initializers](https://keras.io/initializers/)\n",
        " - [loss functions](https://www.tensorflow.org/api_docs/python/tf/keras/losses)\n",
        " - [regularizations](https://keras.io/regularizers/)\n",
        " - [optimizers](https://keras.io/optimizers/)\n",
        " - [metrics](https://www.tensorflow.org/api_docs/python/tf/keras/metrics)\n"
      ]
    },
    {
      "cell_type": "markdown",
      "metadata": {
        "deletable": false,
        "editable": false,
        "nbgrader": {
          "cell_type": "markdown",
          "checksum": "f3dd5f5299a0c880478d542d5ac8cea0",
          "grade": false,
          "grade_id": "cell-cae21934fa064b47",
          "locked": true,
          "schema_version": 3,
          "solution": false
        },
        "id": "JHS7gXm7rtR8"
      },
      "source": [
        "First, to construct a model, use the [Sequential](https://keras.io/getting-started/sequential-model-guide/) object. You can pass multiple layers to the sequential object. For this exercise, we will only be using the [Dense](https://keras.io/layers/core/#dense) layers."
      ]
    },
    {
      "cell_type": "code",
      "metadata": {
        "deletable": false,
        "nbgrader": {
          "cell_type": "code",
          "checksum": "30c401a9efed33c3b0c84047c730fd3a",
          "grade": false,
          "grade_id": "cell-51879de7032d8823",
          "locked": false,
          "schema_version": 3,
          "solution": true
        },
        "id": "RZHH-XPgrtR8"
      },
      "source": [
        "# Create 3 hidden layers with 10 neurons each, and an output layer with 1 neuron. Store the layers\n",
        "# in a list with the variable name \"layers\". Pass the list to keras.Sequential and save the\n",
        "# retuned model to the variable name \"model\".\n",
        "#\n",
        "# Use any activation you like such as \"relu\" or \"tanh\", you can alternate for each layer\n",
        "# For your first run, try using the linear activation and then see if modifying the activations improved the result.\n",
        "# Optional - give each layer a name and see how that shows up in the summary.\n",
        "layers = []\n",
        "layers.append(Dense(10, activation = 'relu', input_shape = (13,) ,name = 'layer1'))\n",
        "layers.append(Dense(10, activation = 'relu', name = 'layer2'))\n",
        "layers.append(Dense(10, activation = 'relu', name = 'layer3'))\n",
        "layers.append(Dense(1, activation = 'relu', name = 'out'))\n",
        "model = keras.Sequential(layers)\n"
      ],
      "execution_count": 6,
      "outputs": []
    },
    {
      "cell_type": "code",
      "metadata": {
        "deletable": false,
        "editable": false,
        "nbgrader": {
          "cell_type": "code",
          "checksum": "be513e95dd1be407b5869167910389cc",
          "grade": true,
          "grade_id": "cell-ee74eff075f222ed",
          "locked": true,
          "points": 5,
          "schema_version": 3,
          "solution": false
        },
        "id": "02Tje5lSrtR_"
      },
      "source": [
        "assert isinstance(model, Sequential)\n",
        "assert len(layers) == 4\n",
        "for i,layer in enumerate(layers):\n",
        "    assert isinstance(layers[i], Dense) \n",
        "    assert layer.weights[1].shape == [10,10,10,1][i]"
      ],
      "execution_count": 7,
      "outputs": []
    },
    {
      "cell_type": "markdown",
      "metadata": {
        "id": "R03ewNVzrtSB"
      },
      "source": [
        "In TensorFlow, models are \"compiled\" before training. Compiling specifies the type of optimizer (e.g., gradient descent) and loss function, and creates code that will run efficiently on your hardware during training and model prediction.\n",
        "\n",
        "Review the models' .compile() methods to create code in the cell below.\n",
        "https://www.tensorflow.org/api_docs/python/tf/keras/Model#compile\n"
      ]
    },
    {
      "cell_type": "code",
      "metadata": {
        "deletable": false,
        "nbgrader": {
          "cell_type": "code",
          "checksum": "32893448483c519b62e7ceb898272725",
          "grade": false,
          "grade_id": "cell-9c5dcca57115d02a",
          "locked": false,
          "schema_version": 3,
          "solution": true
        },
        "id": "eUle-R99rtSC"
      },
      "source": [
        "# Apply the model's .compile() method to set it up for training.\n",
        "\n",
        "# Set up the model to do the following:\n",
        "# - use stochastic gradient descent to fit the model\n",
        "# - use mean absolute error as its loss function\n",
        "# - use mean absolute error as one of its metrics\n",
        "# - use mean squared error as one of its metrics\n",
        "model.compile(optimizer = 'SGD', loss = 'mae', metrics = ['mae','mse'])"
      ],
      "execution_count": 8,
      "outputs": []
    },
    {
      "cell_type": "code",
      "metadata": {
        "deletable": false,
        "editable": false,
        "nbgrader": {
          "cell_type": "code",
          "checksum": "7834482fb4dcda0fbfd736e59ef85ab7",
          "grade": true,
          "grade_id": "cell-0746e29c34118826",
          "locked": true,
          "points": 5,
          "schema_version": 3,
          "solution": false
        },
        "id": "gJmPam0srtSE"
      },
      "source": [
        "assert isinstance(model.optimizer, keras.optimizers.SGD)\n",
        "assert model.loss in [\"mae\", \"mean_absolute_error\"]"
      ],
      "execution_count": 9,
      "outputs": []
    },
    {
      "cell_type": "code",
      "metadata": {
        "deletable": false,
        "editable": false,
        "nbgrader": {
          "cell_type": "code",
          "checksum": "dc613baef143a2dfc90e3ff7222be5e6",
          "grade": false,
          "grade_id": "cell-d8bbd77fa779d371",
          "locked": true,
          "schema_version": 3,
          "solution": false
        },
        "id": "pZtFmScirtSG",
        "outputId": "5956220d-7727-43db-b69c-cf58e38fc0d3",
        "colab": {
          "base_uri": "https://localhost:8080/",
          "height": 1000
        }
      },
      "source": [
        "# Now fit the model\n",
        "model.fit(x_train, y_train, epochs=50)"
      ],
      "execution_count": 10,
      "outputs": [
        {
          "output_type": "stream",
          "text": [
            "Epoch 1/50\n",
            "13/13 [==============================] - 0s 1ms/step - loss: 22.3950 - mae: 22.3950 - mse: 586.1605\n",
            "Epoch 2/50\n",
            "13/13 [==============================] - 0s 1ms/step - loss: 22.3950 - mae: 22.3950 - mse: 586.1605\n",
            "Epoch 3/50\n",
            "13/13 [==============================] - 0s 1ms/step - loss: 22.3951 - mae: 22.3951 - mse: 586.1605\n",
            "Epoch 4/50\n",
            "13/13 [==============================] - 0s 2ms/step - loss: 22.3950 - mae: 22.3950 - mse: 586.1605\n",
            "Epoch 5/50\n",
            "13/13 [==============================] - 0s 1ms/step - loss: 22.3950 - mae: 22.3950 - mse: 586.1606\n",
            "Epoch 6/50\n",
            "13/13 [==============================] - 0s 1ms/step - loss: 22.3950 - mae: 22.3950 - mse: 586.1605\n",
            "Epoch 7/50\n",
            "13/13 [==============================] - 0s 1ms/step - loss: 22.3951 - mae: 22.3951 - mse: 586.1605\n",
            "Epoch 8/50\n",
            "13/13 [==============================] - 0s 1ms/step - loss: 22.3950 - mae: 22.3950 - mse: 586.1605\n",
            "Epoch 9/50\n",
            "13/13 [==============================] - 0s 1ms/step - loss: 22.3950 - mae: 22.3950 - mse: 586.1605\n",
            "Epoch 10/50\n",
            "13/13 [==============================] - 0s 1ms/step - loss: 22.3951 - mae: 22.3951 - mse: 586.1605\n",
            "Epoch 11/50\n",
            "13/13 [==============================] - 0s 2ms/step - loss: 22.3951 - mae: 22.3951 - mse: 586.1605\n",
            "Epoch 12/50\n",
            "13/13 [==============================] - 0s 1ms/step - loss: 22.3950 - mae: 22.3950 - mse: 586.1605\n",
            "Epoch 13/50\n",
            "13/13 [==============================] - 0s 1ms/step - loss: 22.3951 - mae: 22.3951 - mse: 586.1605\n",
            "Epoch 14/50\n",
            "13/13 [==============================] - 0s 1ms/step - loss: 22.3951 - mae: 22.3951 - mse: 586.1605\n",
            "Epoch 15/50\n",
            "13/13 [==============================] - 0s 1ms/step - loss: 22.3950 - mae: 22.3950 - mse: 586.1605\n",
            "Epoch 16/50\n",
            "13/13 [==============================] - 0s 1ms/step - loss: 22.3950 - mae: 22.3950 - mse: 586.1605\n",
            "Epoch 17/50\n",
            "13/13 [==============================] - 0s 1ms/step - loss: 22.3950 - mae: 22.3950 - mse: 586.1605\n",
            "Epoch 18/50\n",
            "13/13 [==============================] - 0s 1ms/step - loss: 22.3950 - mae: 22.3950 - mse: 586.1605\n",
            "Epoch 19/50\n",
            "13/13 [==============================] - 0s 1ms/step - loss: 22.3951 - mae: 22.3951 - mse: 586.1605\n",
            "Epoch 20/50\n",
            "13/13 [==============================] - 0s 1ms/step - loss: 22.3950 - mae: 22.3950 - mse: 586.1605\n",
            "Epoch 21/50\n",
            "13/13 [==============================] - 0s 1ms/step - loss: 22.3951 - mae: 22.3951 - mse: 586.1605\n",
            "Epoch 22/50\n",
            "13/13 [==============================] - 0s 1ms/step - loss: 22.3951 - mae: 22.3951 - mse: 586.1605\n",
            "Epoch 23/50\n",
            "13/13 [==============================] - 0s 1ms/step - loss: 22.3950 - mae: 22.3950 - mse: 586.1605\n",
            "Epoch 24/50\n",
            "13/13 [==============================] - 0s 1ms/step - loss: 22.3950 - mae: 22.3950 - mse: 586.1605\n",
            "Epoch 25/50\n",
            "13/13 [==============================] - 0s 1ms/step - loss: 22.3951 - mae: 22.3951 - mse: 586.1605\n",
            "Epoch 26/50\n",
            "13/13 [==============================] - 0s 1ms/step - loss: 22.3950 - mae: 22.3950 - mse: 586.1605\n",
            "Epoch 27/50\n",
            "13/13 [==============================] - 0s 1ms/step - loss: 22.3951 - mae: 22.3951 - mse: 586.1605\n",
            "Epoch 28/50\n",
            "13/13 [==============================] - 0s 1ms/step - loss: 22.3951 - mae: 22.3951 - mse: 586.1604\n",
            "Epoch 29/50\n",
            "13/13 [==============================] - 0s 1ms/step - loss: 22.3951 - mae: 22.3951 - mse: 586.1605\n",
            "Epoch 30/50\n",
            "13/13 [==============================] - 0s 1ms/step - loss: 22.3950 - mae: 22.3950 - mse: 586.1605\n",
            "Epoch 31/50\n",
            "13/13 [==============================] - 0s 1ms/step - loss: 22.3951 - mae: 22.3951 - mse: 586.1605\n",
            "Epoch 32/50\n",
            "13/13 [==============================] - 0s 1ms/step - loss: 22.3950 - mae: 22.3950 - mse: 586.1604\n",
            "Epoch 33/50\n",
            "13/13 [==============================] - 0s 1ms/step - loss: 22.3951 - mae: 22.3951 - mse: 586.1605\n",
            "Epoch 34/50\n",
            "13/13 [==============================] - 0s 1ms/step - loss: 22.3950 - mae: 22.3950 - mse: 586.1605\n",
            "Epoch 35/50\n",
            "13/13 [==============================] - 0s 1ms/step - loss: 22.3950 - mae: 22.3950 - mse: 586.1605\n",
            "Epoch 36/50\n",
            "13/13 [==============================] - 0s 1ms/step - loss: 22.3950 - mae: 22.3950 - mse: 586.1605\n",
            "Epoch 37/50\n",
            "13/13 [==============================] - 0s 1ms/step - loss: 22.3950 - mae: 22.3950 - mse: 586.1605\n",
            "Epoch 38/50\n",
            "13/13 [==============================] - 0s 1ms/step - loss: 22.3951 - mae: 22.3951 - mse: 586.1606\n",
            "Epoch 39/50\n",
            "13/13 [==============================] - 0s 1ms/step - loss: 22.3951 - mae: 22.3951 - mse: 586.1605\n",
            "Epoch 40/50\n",
            "13/13 [==============================] - 0s 2ms/step - loss: 22.3950 - mae: 22.3950 - mse: 586.1605\n",
            "Epoch 41/50\n",
            "13/13 [==============================] - 0s 1ms/step - loss: 22.3950 - mae: 22.3950 - mse: 586.1605\n",
            "Epoch 42/50\n",
            "13/13 [==============================] - 0s 1ms/step - loss: 22.3951 - mae: 22.3951 - mse: 586.1605\n",
            "Epoch 43/50\n",
            "13/13 [==============================] - 0s 1ms/step - loss: 22.3950 - mae: 22.3950 - mse: 586.1606\n",
            "Epoch 44/50\n",
            "13/13 [==============================] - 0s 1ms/step - loss: 22.3950 - mae: 22.3950 - mse: 586.1605\n",
            "Epoch 45/50\n",
            "13/13 [==============================] - 0s 1ms/step - loss: 22.3951 - mae: 22.3951 - mse: 586.1605\n",
            "Epoch 46/50\n",
            "13/13 [==============================] - 0s 1ms/step - loss: 22.3951 - mae: 22.3951 - mse: 586.1605\n",
            "Epoch 47/50\n",
            "13/13 [==============================] - 0s 1ms/step - loss: 22.3950 - mae: 22.3950 - mse: 586.1605\n",
            "Epoch 48/50\n",
            "13/13 [==============================] - 0s 1ms/step - loss: 22.3950 - mae: 22.3950 - mse: 586.1605\n",
            "Epoch 49/50\n",
            "13/13 [==============================] - 0s 2ms/step - loss: 22.3950 - mae: 22.3950 - mse: 586.1605\n",
            "Epoch 50/50\n",
            "13/13 [==============================] - 0s 2ms/step - loss: 22.3951 - mae: 22.3951 - mse: 586.1605\n"
          ],
          "name": "stdout"
        },
        {
          "output_type": "execute_result",
          "data": {
            "text/plain": [
              "<tensorflow.python.keras.callbacks.History at 0x7f41e0f0fc50>"
            ]
          },
          "metadata": {
            "tags": []
          },
          "execution_count": 10
        }
      ]
    },
    {
      "cell_type": "code",
      "metadata": {
        "id": "ONDc5Xo-rtSI",
        "outputId": "ce2933c4-60eb-490c-a5b2-2b8d6bdc0550",
        "colab": {
          "base_uri": "https://localhost:8080/",
          "height": 289
        }
      },
      "source": [
        "model.summary()"
      ],
      "execution_count": 11,
      "outputs": [
        {
          "output_type": "stream",
          "text": [
            "Model: \"sequential\"\n",
            "_________________________________________________________________\n",
            "Layer (type)                 Output Shape              Param #   \n",
            "=================================================================\n",
            "layer1 (Dense)               (None, 10)                140       \n",
            "_________________________________________________________________\n",
            "layer2 (Dense)               (None, 10)                110       \n",
            "_________________________________________________________________\n",
            "layer3 (Dense)               (None, 10)                110       \n",
            "_________________________________________________________________\n",
            "out (Dense)                  (None, 1)                 11        \n",
            "=================================================================\n",
            "Total params: 371\n",
            "Trainable params: 371\n",
            "Non-trainable params: 0\n",
            "_________________________________________________________________\n"
          ],
          "name": "stdout"
        }
      ]
    },
    {
      "cell_type": "code",
      "metadata": {
        "deletable": false,
        "editable": false,
        "nbgrader": {
          "cell_type": "code",
          "checksum": "5979703b794f01a2821f23e974076f93",
          "grade": false,
          "grade_id": "cell-d280c00c6cabc586",
          "locked": true,
          "schema_version": 3,
          "solution": false
        },
        "id": "LL_Q4QFMrtSK",
        "outputId": "45d676dd-939a-4eeb-cf1d-eee4ccb5652a",
        "colab": {
          "base_uri": "https://localhost:8080/",
          "height": 51
        }
      },
      "source": [
        "# Here we can evaluate how our model does based on the test data\n",
        "model.evaluate(x_test, y_test)"
      ],
      "execution_count": 12,
      "outputs": [
        {
          "output_type": "stream",
          "text": [
            "4/4 [==============================] - 0s 2ms/step - loss: 23.0784 - mae: 23.0784 - mse: 615.8578\n"
          ],
          "name": "stdout"
        },
        {
          "output_type": "execute_result",
          "data": {
            "text/plain": [
              "[23.078432083129883, 23.078432083129883, 615.8577880859375]"
            ]
          },
          "metadata": {
            "tags": []
          },
          "execution_count": 12
        }
      ]
    },
    {
      "cell_type": "markdown",
      "metadata": {
        "deletable": false,
        "editable": false,
        "nbgrader": {
          "cell_type": "markdown",
          "checksum": "326bc26a2d582914d7afc0a6aef3f52a",
          "grade": false,
          "grade_id": "cell-f88eeeebe2137b4d",
          "locked": true,
          "schema_version": 3,
          "solution": false
        },
        "id": "yqX1eCkhrtSM"
      },
      "source": [
        "Now let's try another optimizer instead of stochastic gradient descent (SGD). [Adam](https://keras.io/optimizers/#adam) is the recommended default for training neural networks since it usually performs quite well. In the next cell, compile the model with Adam instead of SGD and use the same loss and metrics. After compiling, fit the data for as many epochs as you think it takes to see the value start to converge."
      ]
    },
    {
      "cell_type": "code",
      "metadata": {
        "deletable": false,
        "nbgrader": {
          "cell_type": "code",
          "checksum": "ebe7f5ae7c9c23c466944038b6a4ff39",
          "grade": false,
          "grade_id": "cell-bee688f3d919be61",
          "locked": false,
          "schema_version": 3,
          "solution": true
        },
        "id": "tCbsKKQartSN"
      },
      "source": [
        "# Compile the model using Adam\n",
        "model.compile(optimizer = 'adam', loss = 'mae', metrics = ['mae','mse'])"
      ],
      "execution_count": 13,
      "outputs": []
    },
    {
      "cell_type": "code",
      "metadata": {
        "id": "n1w62RVsrtSP",
        "outputId": "89953911-a9e6-4fa9-e785-624489df7f69",
        "colab": {
          "base_uri": "https://localhost:8080/",
          "height": 289
        }
      },
      "source": [
        "model.summary()"
      ],
      "execution_count": 14,
      "outputs": [
        {
          "output_type": "stream",
          "text": [
            "Model: \"sequential\"\n",
            "_________________________________________________________________\n",
            "Layer (type)                 Output Shape              Param #   \n",
            "=================================================================\n",
            "layer1 (Dense)               (None, 10)                140       \n",
            "_________________________________________________________________\n",
            "layer2 (Dense)               (None, 10)                110       \n",
            "_________________________________________________________________\n",
            "layer3 (Dense)               (None, 10)                110       \n",
            "_________________________________________________________________\n",
            "out (Dense)                  (None, 1)                 11        \n",
            "=================================================================\n",
            "Total params: 371\n",
            "Trainable params: 371\n",
            "Non-trainable params: 0\n",
            "_________________________________________________________________\n"
          ],
          "name": "stdout"
        }
      ]
    },
    {
      "cell_type": "code",
      "metadata": {
        "deletable": false,
        "editable": false,
        "nbgrader": {
          "cell_type": "code",
          "checksum": "526079ba3785fa572cc21eb9fd5fb7af",
          "grade": true,
          "grade_id": "cell-fe8cd91b8b780964",
          "locked": true,
          "points": 5,
          "schema_version": 3,
          "solution": false
        },
        "id": "uMFYXhnkrtSR"
      },
      "source": [
        "assert isinstance(model.optimizer, keras.optimizers.Adam)\n",
        "assert model.loss in [\"mae\", \"mean_absolute_error\"]"
      ],
      "execution_count": 15,
      "outputs": []
    },
    {
      "cell_type": "code",
      "metadata": {
        "deletable": false,
        "editable": false,
        "nbgrader": {
          "cell_type": "code",
          "checksum": "7c0fd9f800dd0097d1fc6f8f231066ff",
          "grade": false,
          "grade_id": "cell-d5b63d6e873e152e",
          "locked": true,
          "schema_version": 3,
          "solution": false
        },
        "id": "q-1sQZ2yrtST",
        "outputId": "806251fd-90da-4d4d-91a1-6af43774c97d",
        "colab": {
          "base_uri": "https://localhost:8080/",
          "height": 51
        }
      },
      "source": [
        "model.evaluate(x_test, y_test)"
      ],
      "execution_count": 16,
      "outputs": [
        {
          "output_type": "stream",
          "text": [
            "4/4 [==============================] - 0s 2ms/step - loss: 23.0784 - mae: 23.0784 - mse: 615.8578\n"
          ],
          "name": "stdout"
        },
        {
          "output_type": "execute_result",
          "data": {
            "text/plain": [
              "[23.078432083129883, 23.078432083129883, 615.8577880859375]"
            ]
          },
          "metadata": {
            "tags": []
          },
          "execution_count": 16
        }
      ]
    },
    {
      "cell_type": "markdown",
      "metadata": {
        "deletable": false,
        "editable": false,
        "nbgrader": {
          "cell_type": "markdown",
          "checksum": "6259b7620b4b9cdb901c2488bd8ca929",
          "grade": false,
          "grade_id": "cell-9ce06e7b86737575",
          "locked": true,
          "schema_version": 3,
          "solution": false
        },
        "id": "YLEhJzNxrtSV"
      },
      "source": [
        "Now recreate the model with dropout layers. Add two dropout layers, one after the first layers of neurons and one after the second layer of neurons.\n",
        "You may use your existing ```layers``` list and insert the new layers, or create a new list of layers from scratch. Then construct the model as before.\n",
        "Select a low value of dropout (say, <0.1) that results in a good score."
      ]
    },
    {
      "cell_type": "code",
      "metadata": {
        "deletable": false,
        "nbgrader": {
          "cell_type": "code",
          "checksum": "ca42da446de9cd5ef51379f0974f9f3b",
          "grade": false,
          "grade_id": "cell-d5040e44398f8dc9",
          "locked": false,
          "schema_version": 3,
          "solution": true
        },
        "id": "VCohx0rPrtSV"
      },
      "source": [
        "layers.insert(1, Dropout(0.08, name = 'drop1'))\n",
        "layers.insert(3, Dropout(0.08, name = 'drop2'))\n",
        "model = keras.Sequential(layers)"
      ],
      "execution_count": 17,
      "outputs": []
    },
    {
      "cell_type": "code",
      "metadata": {
        "deletable": false,
        "editable": false,
        "nbgrader": {
          "cell_type": "code",
          "checksum": "721a17ce3e9c60bb177460e91fb5dbf9",
          "grade": true,
          "grade_id": "cell-b6c7e6e2ddc6742a",
          "locked": true,
          "points": 5,
          "schema_version": 3,
          "solution": false
        },
        "id": "oMXBefiBrtSX"
      },
      "source": [
        "assert len(layers) == 6\n",
        "assert isinstance(layers[1], Dropout)\n",
        "assert isinstance(layers[3], Dropout)\n",
        "for i,layer in enumerate(layers):\n",
        "    if i not in [1,3]:\n",
        "        assert isinstance(layers[i], keras.layers.Dense) \n",
        "        assert layer.weights[1].shape == [10,0,10,0,10,1][i]"
      ],
      "execution_count": 18,
      "outputs": []
    },
    {
      "cell_type": "code",
      "metadata": {
        "deletable": false,
        "editable": false,
        "nbgrader": {
          "cell_type": "code",
          "checksum": "f9966c8415ea47dd929702ca4e9e962d",
          "grade": false,
          "grade_id": "cell-6179f8d29fe18a67",
          "locked": true,
          "schema_version": 3,
          "solution": false
        },
        "id": "tQYXkkD9rtSa",
        "outputId": "ee56760a-75ca-481c-a0b1-90096bd7ab6b",
        "colab": {
          "base_uri": "https://localhost:8080/",
          "height": 357
        }
      },
      "source": [
        "model.compile(optimizer='adam', loss='mae', metrics=['mae', \"mse\"])\n",
        "model.fit(x_train, y_train, epochs=500, verbose=0)\n",
        "model.summary()"
      ],
      "execution_count": 19,
      "outputs": [
        {
          "output_type": "stream",
          "text": [
            "Model: \"sequential_1\"\n",
            "_________________________________________________________________\n",
            "Layer (type)                 Output Shape              Param #   \n",
            "=================================================================\n",
            "layer1 (Dense)               (None, 10)                140       \n",
            "_________________________________________________________________\n",
            "drop1 (Dropout)              (None, 10)                0         \n",
            "_________________________________________________________________\n",
            "layer2 (Dense)               (None, 10)                110       \n",
            "_________________________________________________________________\n",
            "drop2 (Dropout)              (None, 10)                0         \n",
            "_________________________________________________________________\n",
            "layer3 (Dense)               (None, 10)                110       \n",
            "_________________________________________________________________\n",
            "out (Dense)                  (None, 1)                 11        \n",
            "=================================================================\n",
            "Total params: 371\n",
            "Trainable params: 371\n",
            "Non-trainable params: 0\n",
            "_________________________________________________________________\n"
          ],
          "name": "stdout"
        }
      ]
    },
    {
      "cell_type": "code",
      "metadata": {
        "deletable": false,
        "editable": false,
        "nbgrader": {
          "cell_type": "code",
          "checksum": "fb0913cba0c0963d9bbea2016ac4f5b3",
          "grade": false,
          "grade_id": "cell-9ed3ec168ee4a1e5",
          "locked": true,
          "schema_version": 3,
          "solution": false
        },
        "id": "CIRn1mTDrtSc",
        "outputId": "0fd66f42-7df4-4282-8aa0-edc843007a5a",
        "colab": {
          "base_uri": "https://localhost:8080/",
          "height": 68
        }
      },
      "source": [
        "model.evaluate(x_test, y_test)\n",
        "model.evaluate(x_test, y_test)"
      ],
      "execution_count": 20,
      "outputs": [
        {
          "output_type": "stream",
          "text": [
            "4/4 [==============================] - 0s 2ms/step - loss: 4.6383 - mae: 4.6383 - mse: 40.8839\n",
            "4/4 [==============================] - 0s 2ms/step - loss: 4.6383 - mae: 4.6383 - mse: 40.8839\n"
          ],
          "name": "stdout"
        },
        {
          "output_type": "execute_result",
          "data": {
            "text/plain": [
              "[4.638320446014404, 4.638320446014404, 40.88386154174805]"
            ]
          },
          "metadata": {
            "tags": []
          },
          "execution_count": 20
        }
      ]
    },
    {
      "cell_type": "markdown",
      "metadata": {
        "deletable": false,
        "editable": false,
        "nbgrader": {
          "cell_type": "markdown",
          "checksum": "92cd81b54e6431d104554eef1db546f4",
          "grade": false,
          "grade_id": "cell-06909b3cd0248748",
          "locked": true,
          "schema_version": 3,
          "solution": false
        },
        "id": "BeAJzfmDrtSe"
      },
      "source": [
        "Select a dropout rate that gets an okay score."
      ]
    },
    {
      "cell_type": "code",
      "metadata": {
        "deletable": false,
        "editable": false,
        "nbgrader": {
          "cell_type": "code",
          "checksum": "481af2c92de02457e006cf2856c16c17",
          "grade": true,
          "grade_id": "cell-538bede4947fe364",
          "locked": true,
          "points": 0,
          "schema_version": 3,
          "solution": false
        },
        "id": "rN4gXJnBrtSe",
        "outputId": "ef3e6a53-e8f8-47fc-db22-bf2d4784b501",
        "colab": {
          "base_uri": "https://localhost:8080/",
          "height": 34
        }
      },
      "source": [
        "assert model.evaluate(x_test, y_test)[0] < 7"
      ],
      "execution_count": 21,
      "outputs": [
        {
          "output_type": "stream",
          "text": [
            "4/4 [==============================] - 0s 2ms/step - loss: 4.6383 - mae: 4.6383 - mse: 40.8839\n"
          ],
          "name": "stdout"
        }
      ]
    },
    {
      "cell_type": "markdown",
      "metadata": {
        "deletable": false,
        "editable": false,
        "nbgrader": {
          "cell_type": "markdown",
          "checksum": "23648526b4581cb6ea5df76b63c45274",
          "grade": false,
          "grade_id": "cell-bdd8daf85b096db9",
          "locked": true,
          "schema_version": 3,
          "solution": false
        },
        "id": "GCj5I7_wrtSh"
      },
      "source": [
        "## Feedback"
      ]
    },
    {
      "cell_type": "code",
      "metadata": {
        "deletable": false,
        "nbgrader": {
          "cell_type": "code",
          "checksum": "ed936ab53a1391c5e6af8df699a1dbf5",
          "grade": false,
          "grade_id": "feedback",
          "locked": false,
          "schema_version": 3,
          "solution": true
        },
        "id": "YiEQ0M63rtSh"
      },
      "source": [
        "def feedback():\n",
        "    \"\"\"Provide feedback on the contents of this exercise\n",
        "    \n",
        "    Returns:\n",
        "        string\n",
        "    \"\"\"\n",
        "    return \"All good!\"  "
      ],
      "execution_count": 22,
      "outputs": []
    },
    {
      "cell_type": "code",
      "metadata": {
        "deletable": false,
        "editable": false,
        "nbgrader": {
          "cell_type": "code",
          "checksum": "f39f6185a54850c2f1f9b5b2a17b7543",
          "grade": true,
          "grade_id": "feedback-tests",
          "locked": true,
          "points": 0,
          "schema_version": 3,
          "solution": false
        },
        "id": "66LHvLkIrtSj",
        "outputId": "20bd2924-7dc7-42b5-a571-dbe8aea888fc",
        "colab": {
          "base_uri": "https://localhost:8080/",
          "height": 34
        }
      },
      "source": [
        "print(feedback())"
      ],
      "execution_count": 23,
      "outputs": [
        {
          "output_type": "stream",
          "text": [
            "All good!\n"
          ],
          "name": "stdout"
        }
      ]
    }
  ]
}