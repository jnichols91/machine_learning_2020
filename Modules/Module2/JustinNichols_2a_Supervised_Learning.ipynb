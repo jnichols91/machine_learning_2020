{
  "nbformat": 4,
  "nbformat_minor": 0,
  "metadata": {
    "kernelspec": {
      "name": "python3",
      "display_name": "Python 3"
    },
    "colab": {
      "name": "JustinNichols_2a_Supervised_Learning.ipynb",
      "provenance": [],
      "collapsed_sections": []
    }
  },
  "cells": [
    {
      "cell_type": "markdown",
      "metadata": {
        "id": "kCkX0_V7AtuQ",
        "colab_type": "text"
      },
      "source": [
        "## CSCI 470 Activities and Case Studies\n",
        "\n",
        "1. For all activities, you are allowed to collaborate with a partner. \n",
        "1. For case studies, you should work individually and are **not** allowed to collaborate.\n",
        "\n",
        "By filling out this notebook and submitting it, you acknowledge that you are aware of the above policies and are agreeing to comply with them."
      ]
    },
    {
      "cell_type": "markdown",
      "metadata": {
        "deletable": false,
        "editable": false,
        "nbgrader": {
          "cell_type": "markdown",
          "checksum": "b94da4c7910b59344c92b135174cf920",
          "grade": false,
          "grade_id": "cell-0361b9973e53f77d",
          "locked": true,
          "schema_version": 3,
          "solution": false
        },
        "id": "FZfZZo7AAtuQ",
        "colab_type": "text"
      },
      "source": [
        "# Supervised Learning\n",
        "\n",
        "Supervised learning is broken up into two main types, _classification_ and _regression_. We'll go over a couple examples using $k$NN using scikit-learn (sklearn).\n",
        "\n",
        "## scikit-learn API\n",
        "\n",
        "We'll be using scikit-learn throughout the introductory portion of the class and so it's important to understand the basic API that models in that library implement. Models in scikit-learn are called _Estimators_ and the steps to use some of them are:\n",
        "\n",
        "1. Initialize the model by setting its parameters `model = Model(param_1=val, param_2=val)`\n",
        "1. Fit the model using `model.fit(features, labels)`\n",
        "1. Predict using the model `model.predict(features)`\n"
      ]
    },
    {
      "cell_type": "code",
      "metadata": {
        "deletable": false,
        "editable": false,
        "nbgrader": {
          "cell_type": "code",
          "checksum": "0850f2eaf17710e4a002e06927f75303",
          "grade": false,
          "grade_id": "cell-c1fcbda05adad19e",
          "locked": true,
          "schema_version": 3,
          "solution": false
        },
        "id": "qh3HHHv3AtuR",
        "colab_type": "code",
        "colab": {}
      },
      "source": [
        "import numpy as np\n",
        "import pandas as pd\n",
        "import matplotlib\n",
        "import matplotlib.pyplot as plt\n",
        "import sklearn as sk\n",
        "\n",
        "%matplotlib inline\n",
        "plt.style.use(\"ggplot\")"
      ],
      "execution_count": null,
      "outputs": []
    },
    {
      "cell_type": "code",
      "metadata": {
        "deletable": false,
        "editable": false,
        "nbgrader": {
          "cell_type": "code",
          "checksum": "aae1d8cb864dea7cad4c8d3fa451af9e",
          "grade": false,
          "grade_id": "cell-b6a1d870746bf9f8",
          "locked": true,
          "schema_version": 3,
          "solution": false
        },
        "id": "DC4zV7AkAtuT",
        "colab_type": "code",
        "colab": {}
      },
      "source": [
        "from sklearn.datasets import make_blobs\n",
        "from sklearn.model_selection import train_test_split"
      ],
      "execution_count": null,
      "outputs": []
    },
    {
      "cell_type": "markdown",
      "metadata": {
        "deletable": false,
        "editable": false,
        "nbgrader": {
          "cell_type": "markdown",
          "checksum": "03cf0b6d9a49f33ce32da03c9da4f0f8",
          "grade": false,
          "grade_id": "cell-c6914ce60f45dbc3",
          "locked": true,
          "schema_version": 3,
          "solution": false
        },
        "id": "XLo1MJ5gAtuV",
        "colab_type": "text"
      },
      "source": [
        "We're going to start by making some synthetic data that we can use to train some models."
      ]
    },
    {
      "cell_type": "code",
      "metadata": {
        "deletable": false,
        "editable": false,
        "nbgrader": {
          "cell_type": "code",
          "checksum": "5161bdf97174f56798af34c0f9354f47",
          "grade": false,
          "grade_id": "cell-e57869fa6babe658",
          "locked": true,
          "schema_version": 3,
          "solution": false
        },
        "id": "2-r0ouxoAtuW",
        "colab_type": "code",
        "colab": {}
      },
      "source": [
        "X, y = make_blobs(n_samples=1000,random_state=0)"
      ],
      "execution_count": null,
      "outputs": []
    },
    {
      "cell_type": "code",
      "metadata": {
        "deletable": false,
        "editable": false,
        "nbgrader": {
          "cell_type": "code",
          "checksum": "f061c4e5c8cca3116ce2e9e6630d9e22",
          "grade": false,
          "grade_id": "cell-e017f1df2dd0ec14",
          "locked": true,
          "schema_version": 3,
          "solution": false
        },
        "id": "KMo00PryAtuY",
        "colab_type": "code",
        "colab": {
          "base_uri": "https://localhost:8080/",
          "height": 299
        },
        "outputId": "b0f1e55e-1561-44d6-bd91-6ea013ae59d1"
      },
      "source": [
        "plt.scatter(X[:, 0], X[:, 1], marker='o', c=y, s=25, edgecolor='k')\n",
        "plt.title(\"3 classes of data\")\n",
        "plt.xlabel(\"X\")\n",
        "plt.ylabel(\"Y\")\n",
        "plt.show()"
      ],
      "execution_count": null,
      "outputs": [
        {
          "output_type": "display_data",
          "data": {
            "image/png": "[encoded data removed]",
            "text/plain": [
              "<Figure size 432x288 with 1 Axes>"
            ]
          },
          "metadata": {
            "tags": [],
            "needs_background": "light"
          }
        }
      ]
    },
    {
      "cell_type": "markdown",
      "metadata": {
        "deletable": false,
        "editable": false,
        "nbgrader": {
          "cell_type": "markdown",
          "checksum": "9dcdab2243a3f4a4859caecd1a99878d",
          "grade": false,
          "grade_id": "cell-f635451e3489c023",
          "locked": true,
          "schema_version": 3,
          "solution": false
        },
        "id": "S_D_MRjKAtua",
        "colab_type": "text"
      },
      "source": [
        "Next we're going to split all our data into train and test sets then split the train set into model and validation.\n",
        "We do so using sklearn's [`train_test_split`](https://scikit-learn.org/stable/modules/generated/sklearn.model_selection.train_test_split.html) function."
      ]
    },
    {
      "cell_type": "code",
      "metadata": {
        "deletable": false,
        "editable": false,
        "nbgrader": {
          "cell_type": "code",
          "checksum": "fd301f15fe3a63a95c602d64fa5d59cb",
          "grade": false,
          "grade_id": "cell-07993a428812c86d",
          "locked": true,
          "schema_version": 3,
          "solution": false
        },
        "id": "KtyFznRuAtua",
        "colab_type": "code",
        "colab": {
          "base_uri": "https://localhost:8080/",
          "height": 102
        },
        "outputId": "e6ed3306-f546-484b-f1a6-fc97c8b5d2f3"
      },
      "source": [
        "X_train, X_test, y_train, y_test = train_test_split(X, y, random_state=0, test_size=0.2)\n",
        "X_model, X_valid, y_model, y_valid = train_test_split(X_train, y_train, random_state=0, test_size=0.2)\n",
        "\n",
        "print(f\"All Data:        {len(X)} points\")\n",
        "print(f\"Training data:   {len(X_train)} points\")\n",
        "print(f\"Testing data:    {len(X_test)} points\")\n",
        "print(f\"Modeling data:   {len(X_model)} points\")\n",
        "print(f\"Validation data: {len(X_valid)} points\")"
      ],
      "execution_count": null,
      "outputs": [
        {
          "output_type": "stream",
          "text": [
            "All Data:        1000 points\n",
            "Training data:   800 points\n",
            "Testing data:    200 points\n",
            "Modeling data:   640 points\n",
            "Validation data: 160 points\n"
          ],
          "name": "stdout"
        }
      ]
    },
    {
      "cell_type": "markdown",
      "metadata": {
        "deletable": false,
        "editable": false,
        "nbgrader": {
          "cell_type": "markdown",
          "checksum": "f907b422f69272911fc8b4e1c841ea05",
          "grade": false,
          "grade_id": "cell-9ab6c8cc8c2544e0",
          "locked": true,
          "schema_version": 3,
          "solution": false
        },
        "id": "nO3g62dEAtuc",
        "colab_type": "text"
      },
      "source": [
        "Now we will load the models that we're going to use to fit this data. We will use sklearn's [$k$NN classifier](https://scikit-learn.org/stable/modules/generated/sklearn.neighbors.KNeighborsClassifier.html). "
      ]
    },
    {
      "cell_type": "code",
      "metadata": {
        "deletable": false,
        "editable": false,
        "nbgrader": {
          "cell_type": "code",
          "checksum": "a73913a60fa228cce1cda0f095a330c0",
          "grade": false,
          "grade_id": "cell-f5795899913b48fd",
          "locked": true,
          "schema_version": 3,
          "solution": false
        },
        "id": "5v1bpNqhAtud",
        "colab_type": "code",
        "colab": {}
      },
      "source": [
        "from sklearn.neighbors import KNeighborsClassifier"
      ],
      "execution_count": null,
      "outputs": []
    },
    {
      "cell_type": "code",
      "metadata": {
        "deletable": false,
        "editable": false,
        "nbgrader": {
          "cell_type": "code",
          "checksum": "6e6164777e2280f83cb72624fc373dd6",
          "grade": false,
          "grade_id": "cell-c540185e79f2bd1a",
          "locked": true,
          "schema_version": 3,
          "solution": false
        },
        "id": "KpDQEInwAtuf",
        "colab_type": "code",
        "colab": {}
      },
      "source": [
        "k = 5"
      ],
      "execution_count": null,
      "outputs": []
    },
    {
      "cell_type": "code",
      "metadata": {
        "deletable": false,
        "editable": false,
        "nbgrader": {
          "cell_type": "code",
          "checksum": "04d2eb0e06827f9fc8f65c43f719e7d5",
          "grade": false,
          "grade_id": "cell-ae356332a6393ce5",
          "locked": true,
          "schema_version": 3,
          "solution": false
        },
        "id": "CIUsvoZ4Atuh",
        "colab_type": "code",
        "colab": {}
      },
      "source": [
        "# Step 1 - Initialize model with parameters\n",
        "knn = KNeighborsClassifier(n_neighbors=k)\n",
        "# Step 2 - Fit the model data\n",
        "knn.fit(X_model, y_model)\n",
        "# Step 3 - Predict the validation data\n",
        "validationPredictions = knn.predict(X_valid)"
      ],
      "execution_count": null,
      "outputs": []
    },
    {
      "cell_type": "markdown",
      "metadata": {
        "deletable": false,
        "editable": false,
        "nbgrader": {
          "cell_type": "markdown",
          "checksum": "72fa60269af8f597e50e96d2258c94e2",
          "grade": false,
          "grade_id": "cell-c5e4646ff572993e",
          "locked": true,
          "schema_version": 3,
          "solution": false
        },
        "id": "XSaAjj9wAtul",
        "colab_type": "text"
      },
      "source": [
        "Now that we have a model trained, we'll need to evaluate it. We'll load some classification metrics:\n",
        "\n",
        "1. [Classification Report](https://scikit-learn.org/stable/modules/generated/sklearn.metrics.classification_report.html)\n",
        "1. [Confusion matrix](https://scikit-learn.org/stable/modules/generated/sklearn.metrics.confusion_matrix.html)\n",
        "1. [F1 score](https://scikit-learn.org/stable/modules/generated/sklearn.metrics.f1_score.html)"
      ]
    },
    {
      "cell_type": "code",
      "metadata": {
        "deletable": false,
        "editable": false,
        "nbgrader": {
          "cell_type": "code",
          "checksum": "2c10016692a4911f86be7000a111674e",
          "grade": false,
          "grade_id": "cell-cb7f2528a5567bd7",
          "locked": true,
          "schema_version": 3,
          "solution": false
        },
        "id": "XDhuw3FzAtul",
        "colab_type": "code",
        "colab": {}
      },
      "source": [
        "from sklearn.metrics import classification_report, confusion_matrix, f1_score"
      ],
      "execution_count": null,
      "outputs": []
    },
    {
      "cell_type": "code",
      "metadata": {
        "deletable": false,
        "editable": false,
        "nbgrader": {
          "cell_type": "code",
          "checksum": "968e79adec7e50665ee46a4f9a5ed6b9",
          "grade": false,
          "grade_id": "cell-7484932823b580a0",
          "locked": true,
          "schema_version": 3,
          "solution": false
        },
        "id": "gMx_6OLpAtun",
        "colab_type": "code",
        "colab": {
          "base_uri": "https://localhost:8080/",
          "height": 68
        },
        "outputId": "f4ab1d90-e2b1-41f6-c454-87f14c3f2b93"
      },
      "source": [
        "print(confusion_matrix(y_valid, validationPredictions))"
      ],
      "execution_count": null,
      "outputs": [
        {
          "output_type": "stream",
          "text": [
            "[[50  5  3]\n",
            " [ 1 40  1]\n",
            " [ 5  3 52]]\n"
          ],
          "name": "stdout"
        }
      ]
    },
    {
      "cell_type": "code",
      "metadata": {
        "deletable": false,
        "editable": false,
        "nbgrader": {
          "cell_type": "code",
          "checksum": "8805925cbfb6dcd848b7a722c236db96",
          "grade": false,
          "grade_id": "cell-5e391c5c23b58d60",
          "locked": true,
          "schema_version": 3,
          "solution": false
        },
        "id": "ku2liqkLAtup",
        "colab_type": "code",
        "colab": {
          "base_uri": "https://localhost:8080/",
          "height": 187
        },
        "outputId": "048257cd-852b-4a96-dd15-286d2250e0a3"
      },
      "source": [
        "print(classification_report(y_valid,validationPredictions))"
      ],
      "execution_count": null,
      "outputs": [
        {
          "output_type": "stream",
          "text": [
            "              precision    recall  f1-score   support\n",
            "\n",
            "           0       0.89      0.86      0.88        58\n",
            "           1       0.83      0.95      0.89        42\n",
            "           2       0.93      0.87      0.90        60\n",
            "\n",
            "    accuracy                           0.89       160\n",
            "   macro avg       0.88      0.89      0.89       160\n",
            "weighted avg       0.89      0.89      0.89       160\n",
            "\n"
          ],
          "name": "stdout"
        }
      ]
    },
    {
      "cell_type": "code",
      "metadata": {
        "deletable": false,
        "editable": false,
        "nbgrader": {
          "cell_type": "code",
          "checksum": "5337b5784088a082994aa46108d0b8fd",
          "grade": false,
          "grade_id": "cell-101bb55694b0ead2",
          "locked": true,
          "schema_version": 3,
          "solution": false
        },
        "id": "9PxnMeAOAtur",
        "colab_type": "code",
        "colab": {
          "base_uri": "https://localhost:8080/",
          "height": 34
        },
        "outputId": "7cd08416-6afe-4d20-95ae-e661308c0ce8"
      },
      "source": [
        "f1_score(y_valid, validationPredictions, average=\"weighted\")"
      ],
      "execution_count": null,
      "outputs": [
        {
          "output_type": "execute_result",
          "data": {
            "text/plain": [
              "0.8875226860254084"
            ]
          },
          "metadata": {
            "tags": []
          },
          "execution_count": 13
        }
      ]
    },
    {
      "cell_type": "markdown",
      "metadata": {
        "deletable": false,
        "editable": false,
        "nbgrader": {
          "cell_type": "markdown",
          "checksum": "9a79a958625d876a2d634d8ede3f556c",
          "grade": false,
          "grade_id": "cell-c4f3d4b0ef20586e",
          "locked": true,
          "schema_version": 3,
          "solution": false
        },
        "id": "c-Le53gCAtus",
        "colab_type": "text"
      },
      "source": [
        "Let's use the weighted F-1 score as the metric to measure how good a model is and use the validation set to determine the best value for `k` neighbors."
      ]
    },
    {
      "cell_type": "code",
      "metadata": {
        "deletable": false,
        "nbgrader": {
          "cell_type": "code",
          "checksum": "82fa0019aa5fae94d2e7938d6147a825",
          "grade": false,
          "grade_id": "getKnnTraining",
          "locked": false,
          "schema_version": 3,
          "solution": true
        },
        "id": "pPqcCfM8Atus",
        "colab_type": "code",
        "colab": {}
      },
      "source": [
        "def get_knn_training_scores(ks, model_features, model_labels):\n",
        "    \"\"\"Determine the f1-score of k values for kNN on a given data set\n",
        "    Args:\n",
        "        ks (int iterable): iterable of all the k values to apply\n",
        "        model_features (iterable): the features from the model set to train on\n",
        "        model_labels (iterable): the labels from the model set to train on\n",
        "        \n",
        "    Returns:\n",
        "        dictionary: key is the k value and value is the weighted f1_score on the training set\n",
        "    \"\"\"\n",
        "    scores = {}\n",
        "    for k in ks:\n",
        "      knn = KNeighborsClassifier(n_neighbors = k)\n",
        "      knn.fit(model_features, model_labels)\n",
        "      trainingPredictions = knn.predict(model_features)\n",
        "      scores[k] = f1_score(model_labels, trainingPredictions, average = \"weighted\")\n",
        "    return scores"
      ],
      "execution_count": null,
      "outputs": []
    },
    {
      "cell_type": "code",
      "metadata": {
        "deletable": false,
        "editable": false,
        "nbgrader": {
          "cell_type": "code",
          "checksum": "e2c0795780dbf00fb9d2f83aa603d8a3",
          "grade": true,
          "grade_id": "getKnnTrainingTests",
          "locked": true,
          "points": 5,
          "schema_version": 3,
          "solution": false
        },
        "id": "D6P5MtIyAtuu",
        "colab_type": "code",
        "colab": {
          "base_uri": "https://localhost:8080/",
          "height": 34
        },
        "outputId": "7ef1f4f3-46a9-4a22-8bac-0bae54fc3fcc"
      },
      "source": [
        "ks = [1,2,3]\n",
        "test_knn_train = get_knn_training_scores(ks, X_model, y_model)\n",
        "print(test_knn_train)\n",
        "assert list(test_knn_train.keys()) == ks\n",
        "assert len(test_knn_train.keys()) == 3\n",
        "assert np.array(list(test_knn_train.values())).all() <= 1\n",
        "assert np.array(list(test_knn_train.values())).all() > 0"
      ],
      "execution_count": null,
      "outputs": [
        {
          "output_type": "stream",
          "text": [
            "{1: 1.0, 2: 0.9424149278170167, 3: 0.9391139179386385}\n"
          ],
          "name": "stdout"
        }
      ]
    },
    {
      "cell_type": "code",
      "metadata": {
        "deletable": false,
        "nbgrader": {
          "cell_type": "code",
          "checksum": "9c59b2739815f43cc9ee376e3d51c0ce",
          "grade": false,
          "grade_id": "getKnnValidation",
          "locked": false,
          "schema_version": 3,
          "solution": true
        },
        "id": "8gqlnhqpAtuw",
        "colab_type": "code",
        "colab": {}
      },
      "source": [
        "def get_knn_validation_scores(ks, model_features, model_labels, validation_features, validation_labels):\n",
        "    \"\"\"Train a model on a dataset then return the F-1 score on another set\n",
        "    Args:\n",
        "        ks (int iterable): iterable of all the k values to apply\n",
        "        model_features (iterable): the features from the model set to train on\n",
        "        model_labels (iterable): the labels from the model set to train on\n",
        "        validation_features (iterable): the features from the validation set to test on\n",
        "        validation_labels (iterable): the labels from the validation set to test on\n",
        "        \n",
        "    Returns:\n",
        "        dictionary: key is the k value and value is the weighted f1_score on the validation set\n",
        "    \"\"\"\n",
        "    scores = {}\n",
        "    for k in ks:\n",
        "      knn = KNeighborsClassifier(n_neighbors = k)\n",
        "      knn.fit(model_features, model_labels)\n",
        "      validationPredictions = knn.predict(validation_features)\n",
        "      scores[k] = f1_score(validation_labels, validationPredictions, average = \"weighted\")\n",
        "    return scores"
      ],
      "execution_count": null,
      "outputs": []
    },
    {
      "cell_type": "code",
      "metadata": {
        "deletable": false,
        "editable": false,
        "nbgrader": {
          "cell_type": "code",
          "checksum": "fd098501382e00365305e7c304e987e7",
          "grade": true,
          "grade_id": "getKnnValidationTests",
          "locked": true,
          "points": 10,
          "schema_version": 3,
          "solution": false
        },
        "id": "9EOAgA0BAtuy",
        "colab_type": "code",
        "colab": {}
      },
      "source": [
        "ks = [1,2,3]\n",
        "test_knn_valid = get_knn_validation_scores(ks, X_model, y_model, X_valid, y_valid)\n",
        "assert list(test_knn_train.keys()) == ks\n",
        "assert len(test_knn_train.keys()) == 3\n",
        "assert np.array(list(test_knn_train.values())).all() <= 1\n",
        "assert np.array(list(test_knn_train.values())).all() > 0\n",
        "assert test_knn_valid != test_knn_train"
      ],
      "execution_count": null,
      "outputs": []
    },
    {
      "cell_type": "markdown",
      "metadata": {
        "deletable": false,
        "editable": false,
        "nbgrader": {
          "cell_type": "markdown",
          "checksum": "04d6a5b340d2dcf0d666a11cb9803007",
          "grade": false,
          "grade_id": "cell-61e2cbfa15e77043",
          "locked": true,
          "schema_version": 3,
          "solution": false
        },
        "id": "ORGAUzadAtuz",
        "colab_type": "text"
      },
      "source": [
        "Now let's use these functions to determine the best value for $k$."
      ]
    },
    {
      "cell_type": "code",
      "metadata": {
        "deletable": false,
        "editable": false,
        "nbgrader": {
          "cell_type": "code",
          "checksum": "b3c02388cf0df4797c19395c6c01e6a2",
          "grade": false,
          "grade_id": "cell-289c4bd35e7663f7",
          "locked": true,
          "schema_version": 3,
          "solution": false
        },
        "id": "cNzf59PVAtu0",
        "colab_type": "code",
        "colab": {}
      },
      "source": [
        "ksToTest = [1,3,5,7,10,20,50,100]\n",
        "training_scores = get_knn_training_scores(ksToTest, X_model, y_model)\n",
        "validation_scores = get_knn_validation_scores(ksToTest, X_model, y_model, X_valid, y_valid)"
      ],
      "execution_count": null,
      "outputs": []
    },
    {
      "cell_type": "markdown",
      "metadata": {
        "deletable": false,
        "editable": false,
        "nbgrader": {
          "cell_type": "markdown",
          "checksum": "b8a0629143d1b9b875d69617ec1f45ec",
          "grade": false,
          "grade_id": "cell-43acba8d25afb64f",
          "locked": true,
          "schema_version": 3,
          "solution": false
        },
        "id": "UMvFfPlNAtu2",
        "colab_type": "text"
      },
      "source": [
        "Here, we'll plot the training and validation scores that were returned from the functions. "
      ]
    },
    {
      "cell_type": "code",
      "metadata": {
        "deletable": false,
        "editable": false,
        "nbgrader": {
          "cell_type": "code",
          "checksum": "1e12c738aad24f9107cb69b55ce433b5",
          "grade": false,
          "grade_id": "cell-f256f6eadabf3367",
          "locked": true,
          "schema_version": 3,
          "solution": false
        },
        "id": "D7TqkVNgAtu2",
        "colab_type": "code",
        "colab": {
          "base_uri": "https://localhost:8080/",
          "height": 282
        },
        "outputId": "ad177167-d4fa-49ae-e430-38476ea10334"
      },
      "source": [
        "pd.Series(training_scores, name=\"Training\").plot(kind=\"line\")\n",
        "pd.Series(validation_scores, name=\"Validation\").plot(kind=\"line\", label=\"Validation\")\n",
        "plt.legend()\n",
        "plt.xlabel(\"k\")\n",
        "plt.ylabel(\"F1-score\")\n",
        "plt.show()"
      ],
      "execution_count": null,
      "outputs": [
        {
          "output_type": "display_data",
          "data": {
            "image/png": "[encoded data removed]",
            "text/plain": [
              "<Figure size 432x288 with 1 Axes>"
            ]
          },
          "metadata": {
            "tags": [],
            "needs_background": "light"
          }
        }
      ]
    },
    {
      "cell_type": "code",
      "metadata": {
        "deletable": false,
        "nbgrader": {
          "cell_type": "code",
          "checksum": "20746c9d8b4d8f4052af573e0bd280f5",
          "grade": false,
          "grade_id": "cell-f2f1760e17a22d65",
          "locked": false,
          "schema_version": 3,
          "solution": true
        },
        "id": "41nSydyNAtu4",
        "colab_type": "code",
        "colab": {
          "base_uri": "https://localhost:8080/",
          "height": 34
        },
        "outputId": "3340cd2b-8187-4fd7-be9d-b97a1adc8c43"
      },
      "source": [
        "# Select the best value for k and set it to bestK\n",
        "bestK = max(validation_scores, key = validation_scores.get)"
      ],
      "execution_count": null,
      "outputs": [
        {
          "output_type": "execute_result",
          "data": {
            "text/plain": [
              "5"
            ]
          },
          "metadata": {
            "tags": []
          },
          "execution_count": 24
        }
      ]
    },
    {
      "cell_type": "code",
      "metadata": {
        "deletable": false,
        "editable": false,
        "nbgrader": {
          "cell_type": "code",
          "checksum": "f5f7b88379dc89e0420eb6f2ad00d792",
          "grade": false,
          "grade_id": "cell-6ad6e795b7c768b3",
          "locked": true,
          "schema_version": 3,
          "solution": false
        },
        "id": "QqPTOy2TAtu5",
        "colab_type": "code",
        "colab": {}
      },
      "source": [
        "clf = KNeighborsClassifier(bestK)\n",
        "clf.fit(X_train, y_train)\n",
        "testPredictions = clf.predict(X_test)"
      ],
      "execution_count": null,
      "outputs": []
    },
    {
      "cell_type": "markdown",
      "metadata": {
        "deletable": false,
        "editable": false,
        "nbgrader": {
          "cell_type": "markdown",
          "checksum": "78d78c58a2b1e1af49942d357214d072",
          "grade": false,
          "grade_id": "cell-2775822417759272",
          "locked": true,
          "schema_version": 3,
          "solution": false
        },
        "id": "14nO1d1tAtu7",
        "colab_type": "text"
      },
      "source": [
        "After selecting the best hyperparameter, we see how well it does on the test dataset as a sanity check. This is our final check after training the models to confirm that our validation was sufficient. "
      ]
    },
    {
      "cell_type": "code",
      "metadata": {
        "deletable": false,
        "editable": false,
        "nbgrader": {
          "cell_type": "code",
          "checksum": "54a2654cfbc8f7a4c352b7e622c34162",
          "grade": false,
          "grade_id": "cell-c8e450019fff3edb",
          "locked": true,
          "schema_version": 3,
          "solution": false
        },
        "id": "omgMf4CeAtu8",
        "colab_type": "code",
        "colab": {
          "base_uri": "https://localhost:8080/",
          "height": 340
        },
        "outputId": "58666c78-1080-4155-efd6-6c55ea3fe382"
      },
      "source": [
        "print(\"Confusion Matrix: \\n\")\n",
        "print(confusion_matrix(y_test, testPredictions))\n",
        "print(\"\\n\\nClassification Report:\\n\")\n",
        "print(classification_report(y_test, testPredictions))"
      ],
      "execution_count": null,
      "outputs": [
        {
          "output_type": "stream",
          "text": [
            "Confusion Matrix: \n",
            "\n",
            "[[50  3  5]\n",
            " [ 3 67  1]\n",
            " [ 5  1 65]]\n",
            "\n",
            "\n",
            "Classification Report:\n",
            "\n",
            "              precision    recall  f1-score   support\n",
            "\n",
            "           0       0.86      0.86      0.86        58\n",
            "           1       0.94      0.94      0.94        71\n",
            "           2       0.92      0.92      0.92        71\n",
            "\n",
            "    accuracy                           0.91       200\n",
            "   macro avg       0.91      0.91      0.91       200\n",
            "weighted avg       0.91      0.91      0.91       200\n",
            "\n"
          ],
          "name": "stdout"
        }
      ]
    },
    {
      "cell_type": "code",
      "metadata": {
        "deletable": false,
        "editable": false,
        "nbgrader": {
          "cell_type": "code",
          "checksum": "adfe5f31265f082c72064fc421586881",
          "grade": true,
          "grade_id": "cell-2dd3fc76c64352de",
          "locked": true,
          "points": 5,
          "schema_version": 3,
          "solution": false
        },
        "id": "_tULbO6VAtu-",
        "colab_type": "code",
        "colab": {}
      },
      "source": [
        "assert f1_score(y_test, testPredictions, average=\"weighted\") > 0.9"
      ],
      "execution_count": null,
      "outputs": []
    },
    {
      "cell_type": "markdown",
      "metadata": {
        "id": "kQqUH8vOAtu_",
        "colab_type": "text"
      },
      "source": [
        "## Feedback"
      ]
    },
    {
      "cell_type": "code",
      "metadata": {
        "deletable": false,
        "nbgrader": {
          "cell_type": "code",
          "checksum": "ed936ab53a1391c5e6af8df699a1dbf5",
          "grade": false,
          "grade_id": "feedback",
          "locked": false,
          "schema_version": 3,
          "solution": true
        },
        "id": "V1hPTaBgAtvA",
        "colab_type": "code",
        "colab": {}
      },
      "source": [
        "def feedback():\n",
        "    \"\"\"Provide feedback on the contents of this exercise\n",
        "    \n",
        "    Returns:\n",
        "        string\n",
        "    \"\"\"\n",
        "    return \"This lab was nice to see. I had never gone through a validation set, so that was useful\""
      ],
      "execution_count": null,
      "outputs": []
    },
    {
      "cell_type": "code",
      "metadata": {
        "deletable": false,
        "editable": false,
        "nbgrader": {
          "cell_type": "code",
          "checksum": "f39f6185a54850c2f1f9b5b2a17b7543",
          "grade": true,
          "grade_id": "feedback-tests",
          "locked": true,
          "points": 0,
          "schema_version": 3,
          "solution": false
        },
        "id": "EZt8fCZ6AtvC",
        "colab_type": "code",
        "colab": {}
      },
      "source": [
        "print(feedback())"
      ],
      "execution_count": null,
      "outputs": []
    }
  ]
}