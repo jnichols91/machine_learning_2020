{
  "nbformat": 4,
  "nbformat_minor": 0,
  "metadata": {
    "kernelspec": {
      "name": "python3",
      "display_name": "Python 3"
    },
    "colab": {
      "name": "JustinNichols_6e_Transfer_Learning.ipynb",
      "provenance": []
    }
  },
  "cells": [
    {
      "cell_type": "markdown",
      "metadata": {
        "id": "Z5DuuGAWM6dN"
      },
      "source": [
        "## CSCI 470 Activities and Case Studies\n",
        "\n",
        "1. For all activities, you are allowed to collaborate with a partner. \n",
        "1. For case studies, you should work individually and are **not** allowed to collaborate.\n",
        "\n",
        "By filling out this notebook and submitting it, you acknowledge that you are aware of the above policies and are agreeing to comply with them."
      ]
    },
    {
      "cell_type": "markdown",
      "metadata": {
        "id": "Ckj3IMklM6dO"
      },
      "source": [
        "Some considerations with regard to how these notebooks will be graded:\n",
        "\n",
        "1. You can add more notebook cells or edit existing notebook cells other than \"# YOUR CODE HERE\" to test out or debug your code. We actually highly recommend you do so to gain a better understanding of what is happening. However, during grading, **these changes are ignored**. \n",
        "2. You must ensure that all your code for the particular task is available in the cells that say \"# YOUR CODE HERE\"\n",
        "3. Every cell that says \"# YOUR CODE HERE\" is followed by a \"raise NotImplementedError\". You need to remove that line. During grading, if an error occurs then you will not receive points for your work in that section.\n",
        "4. If your code passes the \"assert\" statements, then no output will result. If your code fails the \"assert\" statements, you will get an \"AssertionError\". Getting an assertion error means you will not receive points for that particular task.\n",
        "5. If you edit the \"assert\" statements to make your code pass, they will still fail when they are graded since the \"assert\" statements will revert to the original. Make sure you don't edit the assert statements.\n",
        "6. We may sometimes have \"hidden\" tests for grading. This means that passing the visible \"assert\" statements is not sufficient. The \"assert\" statements are there as a guide but you need to make sure you understand what you're required to do and ensure that you are doing it correctly. Passing the visible tests is necessary but not sufficient to get the grade for that cell.\n",
        "7. When you are asked to define a function, make sure you **don't** use any variables outside of the parameters passed to the function. You can think of the parameters being passed to the function as a hint. Make sure you're using all of those variables.\n",
        "8. Finally, **make sure you run \"Kernel > Restart and Run All\"** and pass all the asserts before submitting. If you don't restart the kernel, there may be some code that you ran and deleted that is still being used and that was why your asserts were passing."
      ]
    },
    {
      "cell_type": "markdown",
      "metadata": {
        "deletable": false,
        "editable": false,
        "nbgrader": {
          "cell_type": "markdown",
          "checksum": "d273675751b20a3e1e69a353fc227cfc",
          "grade": false,
          "grade_id": "cell-c9d79ad28495f780",
          "locked": true,
          "schema_version": 3,
          "solution": false
        },
        "id": "sNYccbXxM6dP"
      },
      "source": [
        "# Transfer Learning\n",
        "\n",
        "We've already looked an example of transfer learning when working with application in Natural Language Processing. For sentiment classification, we used various feature representations including using GloVe representations as the chosen word embedding. That was one example of transfer learning where the approach we used was a feature representation transfer.\n",
        "\n",
        "In this exercise we will apply transfer learning to computer vision where we will incorporate both parameter transfer as well as feature representation transfer. You can take a look at the available pre-trained models in keras on the [applications page](https://keras.io/applications) in the documentation. In practice, we rarely build a model from scratch and instead use transfer learning to gain the benefit of state of the art models.\n",
        "\n",
        "For thie exercise, we will use the [CIFAR10 dataset](https://keras.io/datasets/#cifar10-small-image-classification)."
      ]
    },
    {
      "cell_type": "code",
      "metadata": {
        "deletable": false,
        "editable": false,
        "nbgrader": {
          "cell_type": "code",
          "checksum": "c6baa89a1f6e8a324a2c0f73b424c3fd",
          "grade": false,
          "grade_id": "cell-efba043cb3f09871",
          "locked": true,
          "schema_version": 3,
          "solution": false
        },
        "id": "qlYAkkKnM6dQ"
      },
      "source": [
        "import numpy as np\n",
        "import matplotlib\n",
        "import matplotlib.pyplot as plt\n",
        "\n",
        "import tensorflow as tf\n",
        "import tensorflow.keras as keras\n",
        "\n",
        "from tensorflow.keras.datasets import cifar10\n",
        "from tensorflow.keras.applications.vgg16 import VGG16\n",
        "from tensorflow.keras.layers import Dense, Flatten\n",
        "from tensorflow.keras import Model\n",
        "\n",
        "\n",
        "(x_train, y_train), (x_test, y_test) = cifar10.load_data()\n",
        "num_classes=10"
      ],
      "execution_count": 1,
      "outputs": []
    },
    {
      "cell_type": "code",
      "metadata": {
        "id": "CHmS5Rx8M6dW"
      },
      "source": [
        "from tensorflow.python.client import device_lib\n",
        "device_lib.list_local_devices()"
      ],
      "execution_count": null,
      "outputs": []
    },
    {
      "cell_type": "code",
      "metadata": {
        "deletable": false,
        "editable": false,
        "nbgrader": {
          "cell_type": "code",
          "checksum": "0a085a3e907fd22237f828179d8e90eb",
          "grade": false,
          "grade_id": "cell-da2aa308afa6cd45",
          "locked": true,
          "schema_version": 3,
          "solution": false
        },
        "id": "2nVIV0CNM6da"
      },
      "source": [
        "x_train.shape, y_train.shape"
      ],
      "execution_count": null,
      "outputs": []
    },
    {
      "cell_type": "code",
      "metadata": {
        "id": "rxDCgmKaM6de"
      },
      "source": [
        "y_train.min(), y_train.max()"
      ],
      "execution_count": null,
      "outputs": []
    },
    {
      "cell_type": "code",
      "metadata": {
        "deletable": false,
        "editable": false,
        "nbgrader": {
          "cell_type": "code",
          "checksum": "00cf449dc4d14f90fff998cd9a087ef3",
          "grade": false,
          "grade_id": "cell-00565449f93db419",
          "locked": true,
          "schema_version": 3,
          "solution": false
        },
        "id": "N5CwDEBcM6dh"
      },
      "source": [
        "x_test.shape, y_test.shape"
      ],
      "execution_count": null,
      "outputs": []
    },
    {
      "cell_type": "code",
      "metadata": {
        "id": "3446YlGdM6dj"
      },
      "source": [
        "y_train = keras.utils.to_categorical(y_train, num_classes)\n",
        "y_test = keras.utils.to_categorical(y_test, num_classes)\n",
        "\n",
        "y_train.shape, y_test.shape, y_train.min(), y_train.max()"
      ],
      "execution_count": null,
      "outputs": []
    },
    {
      "cell_type": "markdown",
      "metadata": {
        "deletable": false,
        "editable": false,
        "nbgrader": {
          "cell_type": "markdown",
          "checksum": "6142f6b53a1c2fef034113ebd40cfdd2",
          "grade": false,
          "grade_id": "cell-46a3e8197a25e135",
          "locked": true,
          "schema_version": 3,
          "solution": false
        },
        "id": "_whJB8fPM6dm"
      },
      "source": [
        "First, we will use a VGG-16 model to extract features from a sample. The VGG-16 model without the fully connected layers is equivalent to just the pretrained convolutional layers. By passing data through the model we are able to extract features based on the knowledge from the pretrained imagenet dataset."
      ]
    },
    {
      "cell_type": "code",
      "metadata": {
        "deletable": false,
        "nbgrader": {
          "cell_type": "code",
          "checksum": "4d0f572ffafa7ad9be978fb6832282f6",
          "grade": false,
          "grade_id": "cell-cbf2a8f1fde34aa8",
          "locked": false,
          "schema_version": 3,
          "solution": true
        },
        "id": "c6-S_3JAM6dm"
      },
      "source": [
        "# Load a VGG16 model with imagenet weights, without the fully connected layers, and with the adjusted input shape for our data\n",
        "# Save the model as vgg_model\n",
        "\n",
        "vgg_model = VGG16(include_top=False, weights='imagenet', input_shape=x_train.shape[1:])"
      ],
      "execution_count": 7,
      "outputs": []
    },
    {
      "cell_type": "code",
      "metadata": {
        "deletable": false,
        "editable": false,
        "nbgrader": {
          "cell_type": "code",
          "checksum": "c0ef0c7b96d2bce168920de695e896d4",
          "grade": true,
          "grade_id": "cell-7cc41b089035d39a",
          "locked": true,
          "points": 5,
          "schema_version": 3,
          "solution": false
        },
        "id": "njtBRvGgM6dq"
      },
      "source": [
        "assert vgg_model"
      ],
      "execution_count": 8,
      "outputs": []
    },
    {
      "cell_type": "code",
      "metadata": {
        "id": "9O8bRP9FM6dr"
      },
      "source": [
        "example = x_train[10]\n",
        "example.shape"
      ],
      "execution_count": null,
      "outputs": []
    },
    {
      "cell_type": "code",
      "metadata": {
        "id": "50NtIU3HM6dt"
      },
      "source": [
        "plt.imshow(example)\n",
        "plt.show()"
      ],
      "execution_count": null,
      "outputs": []
    },
    {
      "cell_type": "code",
      "metadata": {
        "deletable": false,
        "nbgrader": {
          "cell_type": "code",
          "checksum": "738a81836e1e43319cea901589117ca8",
          "grade": false,
          "grade_id": "cell-9efc493f08237ae8",
          "locked": false,
          "schema_version": 3,
          "solution": true
        },
        "id": "JA0VdikYM6dv"
      },
      "source": [
        "# Use the vgg_model you loaded to extract the features for the example image\n",
        "# save the output to example_vgg\n",
        "\n",
        "example_temp = tf.expand_dims(example, axis=0)\n",
        "example_temp = tf.keras.applications.vgg16.preprocess_input(example_temp) # delete this line if wanted us not to process\n",
        "example_vgg = vgg_model.predict(example_temp)"
      ],
      "execution_count": 11,
      "outputs": []
    },
    {
      "cell_type": "code",
      "metadata": {
        "deletable": false,
        "editable": false,
        "nbgrader": {
          "cell_type": "code",
          "checksum": "5a354bd81201b8539fa818c87b10bd40",
          "grade": true,
          "grade_id": "cell-0c7351fe695136f1",
          "locked": true,
          "points": 5,
          "schema_version": 3,
          "solution": false
        },
        "id": "WE9xo9H3M6dw"
      },
      "source": [
        "assert np.squeeze(example_vgg).shape == (512,)"
      ],
      "execution_count": 12,
      "outputs": []
    },
    {
      "cell_type": "markdown",
      "metadata": {
        "deletable": false,
        "editable": false,
        "nbgrader": {
          "cell_type": "markdown",
          "checksum": "8d73ebb92599fa82a0100ee73fdd2880",
          "grade": false,
          "grade_id": "cell-8d58e4bfcd6581ec",
          "locked": true,
          "schema_version": 3,
          "solution": false
        },
        "id": "0m_AAUsjM6dy"
      },
      "source": [
        "Now let's create our own fully connected layers and add those after the `vgg_model`. We can then predict train our model on the CIFAR10 dataset and predict its classes. In the following code, you'll want to use Keras' [functional API](https://www.tensorflow.org/guide/keras/functional) that we've used before. \n",
        "\n"
      ]
    },
    {
      "cell_type": "code",
      "metadata": {
        "deletable": false,
        "nbgrader": {
          "cell_type": "code",
          "checksum": "8ee531a956af34e77fbcec998bac3138",
          "grade": false,
          "grade_id": "cell-2dbbcd51c1a9bcf5",
          "locked": false,
          "schema_version": 3,
          "solution": true
        },
        "id": "ZURU2ggnM6dy"
      },
      "source": [
        "# Flatten the Convolutional layers' output then\n",
        "# Add 3 Dense layers with 256 units each followed by the output layer\n",
        "# Use the functional API to do this\n",
        "# Save the final output from the layers as `predictions`\n",
        "\n",
        "x = vgg_model.output\n",
        "x = Flatten()(x)\n",
        "x = Dense(256, activation='relu')(x)\n",
        "x = Dense(256, activation='relu')(x)\n",
        "x = Dense(256, activation='relu')(x)\n",
        "predictions = Dense(y_train.shape[1], activation='softmax')(x)\n",
        "\n",
        "vgg_complete = Model(vgg_model.input, predictions)"
      ],
      "execution_count": 13,
      "outputs": []
    },
    {
      "cell_type": "code",
      "metadata": {
        "deletable": false,
        "editable": false,
        "nbgrader": {
          "cell_type": "code",
          "checksum": "97cf91aa294f3ffbbab690eebec68821",
          "grade": true,
          "grade_id": "cell-ccdc0af6567cf083",
          "locked": true,
          "points": 5,
          "schema_version": 3,
          "solution": false
        },
        "id": "VtxhmAEkM6d0"
      },
      "source": [
        "assert len(vgg_complete.layers) - len(vgg_model.layers) == 5\n",
        "assert vgg_complete.layers[-2].units == 256\n",
        "assert vgg_complete.layers[-3].units == 256\n",
        "assert vgg_complete.layers[-4].units == 256"
      ],
      "execution_count": 14,
      "outputs": []
    },
    {
      "cell_type": "code",
      "metadata": {
        "id": "qqOrwaGHM6d2"
      },
      "source": [
        "vgg_complete.summary()"
      ],
      "execution_count": null,
      "outputs": []
    },
    {
      "cell_type": "code",
      "metadata": {
        "id": "8HyAsT7NM6d4"
      },
      "source": [
        "# Keep the feature extraction weights as is from the trained ImageNet\n",
        "# This will reduce the time it takes to train the model\n",
        "# Try setting the value to True instead and run the next cell to look at the difference in ETA.\n",
        "for layer in vgg_model.layers:\n",
        "    layer.trainable=False"
      ],
      "execution_count": 16,
      "outputs": []
    },
    {
      "cell_type": "code",
      "metadata": {
        "deletable": false,
        "editable": false,
        "nbgrader": {
          "cell_type": "code",
          "checksum": "ec81d20401a4869948014ee7d7e78a64",
          "grade": false,
          "grade_id": "cell-555ef11edc47dba7",
          "locked": true,
          "schema_version": 3,
          "solution": false
        },
        "id": "kY0-bDitM6d6"
      },
      "source": [
        "# This cell will take a while. Double check your work before continuing\n",
        "vgg_complete.compile(\"adam\", loss=\"categorical_crossentropy\", metrics=[\"accuracy\"])\n",
        "vgg_complete.fit(x_train, y_train, epochs=1, batch_size=128)"
      ],
      "execution_count": null,
      "outputs": []
    },
    {
      "cell_type": "code",
      "metadata": {
        "deletable": false,
        "nbgrader": {
          "cell_type": "code",
          "checksum": "8d0e7056fc8a9484386dd38f07728bdc",
          "grade": false,
          "grade_id": "cell-ce8717f26f9f5d79",
          "locked": false,
          "schema_version": 3,
          "solution": true
        },
        "id": "4jvCCBOxM6d7"
      },
      "source": [
        "# Report the accuracy on the test set\n",
        "# Save it as acc\n",
        "\n",
        "loss, acc = vgg_complete.evaluate(x_test, y_test)"
      ],
      "execution_count": null,
      "outputs": []
    },
    {
      "cell_type": "code",
      "metadata": {
        "deletable": false,
        "editable": false,
        "nbgrader": {
          "cell_type": "code",
          "checksum": "18b16fcf9ae16b9cd14912d902f038db",
          "grade": true,
          "grade_id": "cell-eb960da5a7f7d0ab",
          "locked": true,
          "points": 5,
          "schema_version": 3,
          "solution": false
        },
        "id": "os5Ll0s9M6d9"
      },
      "source": [
        "assert acc > 0.3"
      ],
      "execution_count": 19,
      "outputs": []
    },
    {
      "cell_type": "code",
      "metadata": {
        "deletable": false,
        "editable": false,
        "nbgrader": {
          "cell_type": "code",
          "checksum": "e86f2671f8c1880306cd30d2a338be4d",
          "grade": false,
          "grade_id": "cell-7de667b2ebfee86b",
          "locked": true,
          "schema_version": 3,
          "solution": false
        },
        "id": "Pj6xOo5OM6d_"
      },
      "source": [
        "print(f\"If you were to guess just one class all the time, your accuracy would be 0.1. Your model accuracy is {acc:.3f}\")"
      ],
      "execution_count": null,
      "outputs": []
    },
    {
      "cell_type": "markdown",
      "metadata": {
        "deletable": false,
        "editable": false,
        "nbgrader": {
          "cell_type": "markdown",
          "checksum": "feac2b34a20fc9f52ac6606cac738ac9",
          "grade": false,
          "grade_id": "cell-d77ae0b5a37d13a7",
          "locked": true,
          "schema_version": 3,
          "solution": false
        },
        "id": "7Mo62iABM6eA"
      },
      "source": [
        "## Feedback"
      ]
    },
    {
      "cell_type": "code",
      "metadata": {
        "deletable": false,
        "nbgrader": {
          "cell_type": "code",
          "checksum": "ed936ab53a1391c5e6af8df699a1dbf5",
          "grade": false,
          "grade_id": "feedback",
          "locked": false,
          "schema_version": 3,
          "solution": true
        },
        "id": "41nvB1COM6eB"
      },
      "source": [
        "def feedback():\n",
        "    \"\"\"Provide feedback on the contents of this exercise\n",
        "    \n",
        "    Returns:\n",
        "        string\n",
        "    \"\"\"\n",
        "    return \"Here, even though in the first code block it doesn't say to preprocess_input, anywhere I looked as far as documentation including the 'applications page' link says to do it so that it is adjusted for the model. However\""
      ],
      "execution_count": 21,
      "outputs": []
    },
    {
      "cell_type": "code",
      "metadata": {
        "deletable": false,
        "editable": false,
        "nbgrader": {
          "cell_type": "code",
          "checksum": "f39f6185a54850c2f1f9b5b2a17b7543",
          "grade": true,
          "grade_id": "feedback-tests",
          "locked": true,
          "points": 0,
          "schema_version": 3,
          "solution": false
        },
        "id": "6J7Da9XiM6eD"
      },
      "source": [
        "print(feedback())"
      ],
      "execution_count": null,
      "outputs": []
    }
  ]
}