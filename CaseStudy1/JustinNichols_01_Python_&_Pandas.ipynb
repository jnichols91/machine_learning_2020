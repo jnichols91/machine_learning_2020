{
  "nbformat": 4,
  "nbformat_minor": 0,
  "metadata": {
    "kernelspec": {
      "name": "python3",
      "display_name": "Python 3"
    },
    "colab": {
      "name": "JustinNichols_01- Python & Pandas.ipynb",
      "provenance": [],
      "collapsed_sections": []
    }
  },
  "cells": [
    {
      "cell_type": "markdown",
      "metadata": {
        "id": "OSj4CEg11nuq",
        "colab_type": "text"
      },
      "source": [
        "## CSCI 470 Activities and Case Studies\n",
        "\n",
        "1. For all activities, you are allowed to collaborate with a partner. \n",
        "1. For case studies, you should work individually and are **not** allowed to collaborate.\n",
        "\n",
        "By filling out this notebook and submitting it, you acknowledge that you are aware of the above policies and are agreeing to comply with them."
      ]
    },
    {
      "cell_type": "markdown",
      "metadata": {
        "id": "VJLUfuck1nur",
        "colab_type": "text"
      },
      "source": [
        "# Python and Pandas\n",
        "\n",
        "In this notebook of the case study, you'll go over an overview of [Pandas](https://pandas.pydata.org/). If you're already familiar with them, this should be a good review to prepare you for the rest of the class.\n",
        "\n",
        "We'll go over the following:\n",
        "\n",
        "1. Reading data in an incorrect format\n",
        "1. `NaN`s\n",
        "1. Series and DataFrames\n",
        "1. One hot encoding\n",
        "1. Boolean indexing\n",
        "1. Applying functions to data\n",
        "1. Creating new DataFrame columns\n",
        "1. Grouping a DataFrame\n"
      ]
    },
    {
      "cell_type": "code",
      "metadata": {
        "pycharm": {
          "is_executing": false
        },
        "id": "FCbdxLHG1nur",
        "colab_type": "code",
        "colab": {}
      },
      "source": [
        "import pandas as pd"
      ],
      "execution_count": 1,
      "outputs": []
    },
    {
      "cell_type": "markdown",
      "metadata": {
        "id": "cnbfaMQS1nuu",
        "colab_type": "text"
      },
      "source": [
        "## Reading Data\n",
        "\n",
        "Pandas can read data in a variety of ways. We'll be using the titanic dataset that is available as a csv file so we will use [`read_csv`](https://pandas.pydata.org/pandas-docs/stable/generated/pandas.read_csv.html), however you should check out the [other methods](https://pandas.pydata.org/pandas-docs/stable/api.html#flat-file)."
      ]
    },
    {
      "cell_type": "code",
      "metadata": {
        "pycharm": {
          "is_executing": false
        },
        "id": "UP5YZzq71nuu",
        "colab_type": "code",
        "colab": {}
      },
      "source": [
        "df = pd.read_csv(\"http://biostat.mc.vanderbilt.edu/wiki/pub/Main/DataSets/titanic3.csv\")"
      ],
      "execution_count": 2,
      "outputs": []
    },
    {
      "cell_type": "markdown",
      "metadata": {
        "id": "eEDrc0xj1nuw",
        "colab_type": "text"
      },
      "source": [
        "Usually when we read a file in pandas, it will create a [DataFrame](https://pandas.pydata.org/pandas-docs/stable/generated/pandas.DataFrame.html) object. You can read more about dataframes in the [pandas guide](https://pandas.pydata.org/pandas-docs/stable/dsintro.html#dataframe) .You can preview the top and bottom of the data using the [head](https://pandas.pydata.org/pandas-docs/stable/generated/pandas.DataFrame.head.html) and [tail](https://pandas.pydata.org/pandas-docs/stable/generated/pandas.DataFrame.tail.html) methods of a pandas DataFrame."
      ]
    },
    {
      "cell_type": "code",
      "metadata": {
        "pycharm": {
          "is_executing": false
        },
        "id": "qJqFX56M1nuw",
        "colab_type": "code",
        "colab": {
          "base_uri": "https://localhost:8080/",
          "height": 204
        },
        "outputId": "5e6ce0af-f998-4262-bd33-9b7c16c247ff"
      },
      "source": [
        "df.head()"
      ],
      "execution_count": 3,
      "outputs": [
        {
          "output_type": "execute_result",
          "data": {
            "text/html": [
              "<div>\n",
              "<style scoped>\n",
              "    .dataframe tbody tr th:only-of-type {\n",
              "        vertical-align: middle;\n",
              "    }\n",
              "\n",
              "    .dataframe tbody tr th {\n",
              "        vertical-align: top;\n",
              "    }\n",
              "\n",
              "    .dataframe thead th {\n",
              "        text-align: right;\n",
              "    }\n",
              "</style>\n",
              "<table border=\"1\" class=\"dataframe\">\n",
              "  <thead>\n",
              "    <tr style=\"text-align: right;\">\n",
              "      <th></th>\n",
              "      <th>pclass</th>\n",
              "      <th>survived</th>\n",
              "      <th>name</th>\n",
              "      <th>sex</th>\n",
              "      <th>age</th>\n",
              "      <th>sibsp</th>\n",
              "      <th>parch</th>\n",
              "      <th>ticket</th>\n",
              "      <th>fare</th>\n",
              "      <th>cabin</th>\n",
              "      <th>embarked</th>\n",
              "      <th>boat</th>\n",
              "      <th>body</th>\n",
              "      <th>home.dest</th>\n",
              "    </tr>\n",
              "  </thead>\n",
              "  <tbody>\n",
              "    <tr>\n",
              "      <th>0</th>\n",
              "      <td>1</td>\n",
              "      <td>1</td>\n",
              "      <td>Allen, Miss. Elisabeth Walton</td>\n",
              "      <td>female</td>\n",
              "      <td>29.00</td>\n",
              "      <td>0</td>\n",
              "      <td>0</td>\n",
              "      <td>24160</td>\n",
              "      <td>211.3375</td>\n",
              "      <td>B5</td>\n",
              "      <td>S</td>\n",
              "      <td>2</td>\n",
              "      <td>NaN</td>\n",
              "      <td>St Louis, MO</td>\n",
              "    </tr>\n",
              "    <tr>\n",
              "      <th>1</th>\n",
              "      <td>1</td>\n",
              "      <td>1</td>\n",
              "      <td>Allison, Master. Hudson Trevor</td>\n",
              "      <td>male</td>\n",
              "      <td>0.92</td>\n",
              "      <td>1</td>\n",
              "      <td>2</td>\n",
              "      <td>113781</td>\n",
              "      <td>151.5500</td>\n",
              "      <td>C22 C26</td>\n",
              "      <td>S</td>\n",
              "      <td>11</td>\n",
              "      <td>NaN</td>\n",
              "      <td>Montreal, PQ / Chesterville, ON</td>\n",
              "    </tr>\n",
              "    <tr>\n",
              "      <th>2</th>\n",
              "      <td>1</td>\n",
              "      <td>0</td>\n",
              "      <td>Allison, Miss. Helen Loraine</td>\n",
              "      <td>female</td>\n",
              "      <td>2.00</td>\n",
              "      <td>1</td>\n",
              "      <td>2</td>\n",
              "      <td>113781</td>\n",
              "      <td>151.5500</td>\n",
              "      <td>C22 C26</td>\n",
              "      <td>S</td>\n",
              "      <td>NaN</td>\n",
              "      <td>NaN</td>\n",
              "      <td>Montreal, PQ / Chesterville, ON</td>\n",
              "    </tr>\n",
              "    <tr>\n",
              "      <th>3</th>\n",
              "      <td>1</td>\n",
              "      <td>0</td>\n",
              "      <td>Allison, Mr. Hudson Joshua Creighton</td>\n",
              "      <td>male</td>\n",
              "      <td>30.00</td>\n",
              "      <td>1</td>\n",
              "      <td>2</td>\n",
              "      <td>113781</td>\n",
              "      <td>151.5500</td>\n",
              "      <td>C22 C26</td>\n",
              "      <td>S</td>\n",
              "      <td>NaN</td>\n",
              "      <td>135.0</td>\n",
              "      <td>Montreal, PQ / Chesterville, ON</td>\n",
              "    </tr>\n",
              "    <tr>\n",
              "      <th>4</th>\n",
              "      <td>1</td>\n",
              "      <td>0</td>\n",
              "      <td>Allison, Mrs. Hudson J C (Bessie Waldo Daniels)</td>\n",
              "      <td>female</td>\n",
              "      <td>25.00</td>\n",
              "      <td>1</td>\n",
              "      <td>2</td>\n",
              "      <td>113781</td>\n",
              "      <td>151.5500</td>\n",
              "      <td>C22 C26</td>\n",
              "      <td>S</td>\n",
              "      <td>NaN</td>\n",
              "      <td>NaN</td>\n",
              "      <td>Montreal, PQ / Chesterville, ON</td>\n",
              "    </tr>\n",
              "  </tbody>\n",
              "</table>\n",
              "</div>"
            ],
            "text/plain": [
              "   pclass  survived  ...   body                        home.dest\n",
              "0       1         1  ...    NaN                     St Louis, MO\n",
              "1       1         1  ...    NaN  Montreal, PQ / Chesterville, ON\n",
              "2       1         0  ...    NaN  Montreal, PQ / Chesterville, ON\n",
              "3       1         0  ...  135.0  Montreal, PQ / Chesterville, ON\n",
              "4       1         0  ...    NaN  Montreal, PQ / Chesterville, ON\n",
              "\n",
              "[5 rows x 14 columns]"
            ]
          },
          "metadata": {
            "tags": []
          },
          "execution_count": 3
        }
      ]
    },
    {
      "cell_type": "code",
      "metadata": {
        "deletable": false,
        "nbgrader": {
          "cell_type": "code",
          "checksum": "c4c23ab65366e2df77f5d70e581aa9f6",
          "grade": true,
          "grade_id": "cell-c285b9edfcfbb9c8",
          "locked": false,
          "points": 10,
          "schema_version": 3,
          "solution": true
        },
        "id": "_uAJlwOV1nuz",
        "colab_type": "code",
        "colab": {
          "base_uri": "https://localhost:8080/",
          "height": 204
        },
        "outputId": "8d75e27b-51f0-489c-dfac-a5b404b134d8"
      },
      "source": [
        "# Try out the tail method here\n",
        "df.tail()"
      ],
      "execution_count": 4,
      "outputs": [
        {
          "output_type": "execute_result",
          "data": {
            "text/html": [
              "<div>\n",
              "<style scoped>\n",
              "    .dataframe tbody tr th:only-of-type {\n",
              "        vertical-align: middle;\n",
              "    }\n",
              "\n",
              "    .dataframe tbody tr th {\n",
              "        vertical-align: top;\n",
              "    }\n",
              "\n",
              "    .dataframe thead th {\n",
              "        text-align: right;\n",
              "    }\n",
              "</style>\n",
              "<table border=\"1\" class=\"dataframe\">\n",
              "  <thead>\n",
              "    <tr style=\"text-align: right;\">\n",
              "      <th></th>\n",
              "      <th>pclass</th>\n",
              "      <th>survived</th>\n",
              "      <th>name</th>\n",
              "      <th>sex</th>\n",
              "      <th>age</th>\n",
              "      <th>sibsp</th>\n",
              "      <th>parch</th>\n",
              "      <th>ticket</th>\n",
              "      <th>fare</th>\n",
              "      <th>cabin</th>\n",
              "      <th>embarked</th>\n",
              "      <th>boat</th>\n",
              "      <th>body</th>\n",
              "      <th>home.dest</th>\n",
              "    </tr>\n",
              "  </thead>\n",
              "  <tbody>\n",
              "    <tr>\n",
              "      <th>1304</th>\n",
              "      <td>3</td>\n",
              "      <td>0</td>\n",
              "      <td>Zabour, Miss. Hileni</td>\n",
              "      <td>female</td>\n",
              "      <td>14.5</td>\n",
              "      <td>1</td>\n",
              "      <td>0</td>\n",
              "      <td>2665</td>\n",
              "      <td>14.4542</td>\n",
              "      <td>NaN</td>\n",
              "      <td>C</td>\n",
              "      <td>NaN</td>\n",
              "      <td>328.0</td>\n",
              "      <td>NaN</td>\n",
              "    </tr>\n",
              "    <tr>\n",
              "      <th>1305</th>\n",
              "      <td>3</td>\n",
              "      <td>0</td>\n",
              "      <td>Zabour, Miss. Thamine</td>\n",
              "      <td>female</td>\n",
              "      <td>NaN</td>\n",
              "      <td>1</td>\n",
              "      <td>0</td>\n",
              "      <td>2665</td>\n",
              "      <td>14.4542</td>\n",
              "      <td>NaN</td>\n",
              "      <td>C</td>\n",
              "      <td>NaN</td>\n",
              "      <td>NaN</td>\n",
              "      <td>NaN</td>\n",
              "    </tr>\n",
              "    <tr>\n",
              "      <th>1306</th>\n",
              "      <td>3</td>\n",
              "      <td>0</td>\n",
              "      <td>Zakarian, Mr. Mapriededer</td>\n",
              "      <td>male</td>\n",
              "      <td>26.5</td>\n",
              "      <td>0</td>\n",
              "      <td>0</td>\n",
              "      <td>2656</td>\n",
              "      <td>7.2250</td>\n",
              "      <td>NaN</td>\n",
              "      <td>C</td>\n",
              "      <td>NaN</td>\n",
              "      <td>304.0</td>\n",
              "      <td>NaN</td>\n",
              "    </tr>\n",
              "    <tr>\n",
              "      <th>1307</th>\n",
              "      <td>3</td>\n",
              "      <td>0</td>\n",
              "      <td>Zakarian, Mr. Ortin</td>\n",
              "      <td>male</td>\n",
              "      <td>27.0</td>\n",
              "      <td>0</td>\n",
              "      <td>0</td>\n",
              "      <td>2670</td>\n",
              "      <td>7.2250</td>\n",
              "      <td>NaN</td>\n",
              "      <td>C</td>\n",
              "      <td>NaN</td>\n",
              "      <td>NaN</td>\n",
              "      <td>NaN</td>\n",
              "    </tr>\n",
              "    <tr>\n",
              "      <th>1308</th>\n",
              "      <td>3</td>\n",
              "      <td>0</td>\n",
              "      <td>Zimmerman, Mr. Leo</td>\n",
              "      <td>male</td>\n",
              "      <td>29.0</td>\n",
              "      <td>0</td>\n",
              "      <td>0</td>\n",
              "      <td>315082</td>\n",
              "      <td>7.8750</td>\n",
              "      <td>NaN</td>\n",
              "      <td>S</td>\n",
              "      <td>NaN</td>\n",
              "      <td>NaN</td>\n",
              "      <td>NaN</td>\n",
              "    </tr>\n",
              "  </tbody>\n",
              "</table>\n",
              "</div>"
            ],
            "text/plain": [
              "      pclass  survived                       name  ... boat   body  home.dest\n",
              "1304       3         0       Zabour, Miss. Hileni  ...  NaN  328.0        NaN\n",
              "1305       3         0      Zabour, Miss. Thamine  ...  NaN    NaN        NaN\n",
              "1306       3         0  Zakarian, Mr. Mapriededer  ...  NaN  304.0        NaN\n",
              "1307       3         0        Zakarian, Mr. Ortin  ...  NaN    NaN        NaN\n",
              "1308       3         0         Zimmerman, Mr. Leo  ...  NaN    NaN        NaN\n",
              "\n",
              "[5 rows x 14 columns]"
            ]
          },
          "metadata": {
            "tags": []
          },
          "execution_count": 4
        }
      ]
    },
    {
      "cell_type": "markdown",
      "metadata": {
        "id": "hmGTyJeS1nu1",
        "colab_type": "text"
      },
      "source": [
        "You can read more about the data on the [main data page](http://biostat.mc.vanderbilt.edu/wiki/pub/Main/DataSets/titanic.html) and the [version 3 data description](http://biostat.mc.vanderbilt.edu/wiki/pub/Main/DataSets/Ctitanic3.html).\n",
        "\n",
        "As a summary, here's what the column names for the data actually represent:\n",
        "\n",
        "- `pclass` - passenger class - 1st, 2nd or 3rd class\n",
        "- `survived` - whether or not the passenger survived. 1 survived, 0 did not\n",
        "- `name` - the passenger's name\n",
        "- `sex` - the passenger's sex\n",
        "- `age` - the passenger's age\n",
        "- `sibsbp` - number of siblings on board\n",
        "- `parch` - number of parents on board\n",
        "- `ticket` - ticket number\n",
        "- `fare` - how much the passenger paid for their ticket in British Pounds\n",
        "- `cabin` - the cabin number\n",
        "- `embarked` - the location they embarked - C=Cherbourg, Q=Queenstown, S=Southampton\n",
        "- `boat` - the boat number \n",
        "- `body` - body identification number\n",
        "- `home.dest` - their home followed by the destination"
      ]
    },
    {
      "cell_type": "markdown",
      "metadata": {
        "id": "mFOaCRn71nu2",
        "colab_type": "text"
      },
      "source": [
        "You may notice that a lot of values show up as `NaN`. This could mean that the values were empty or just weren't capable of being read by pandas.\n",
        "We can deal with these values in a variety of ways. We can eliminate them from our dataset or place guesstimates instead. Depending on how we will be using the data, each approach might have some value.\n",
        "We will focus on eliminating the values since that is usually the better/safer approach.\n",
        "\n",
        "If a particular feature doesn't have that many rows of data then we might want to eliminate that feature, otherwise we can delete the rows that have `NaN`s in them. First, let's find out more about our data. We can do so using the [describe](https://pandas.pydata.org/pandas-docs/stable/generated/pandas.DataFrame.describe.html) method of DataFrames."
      ]
    },
    {
      "cell_type": "code",
      "metadata": {
        "pycharm": {
          "is_executing": false
        },
        "id": "FnhHQCZe1nu2",
        "colab_type": "code",
        "colab": {
          "base_uri": "https://localhost:8080/",
          "height": 390
        },
        "outputId": "379668d8-da99-480a-b4bc-27ecf3feb317"
      },
      "source": [
        "df.describe(include=\"all\")"
      ],
      "execution_count": 5,
      "outputs": [
        {
          "output_type": "execute_result",
          "data": {
            "text/html": [
              "<div>\n",
              "<style scoped>\n",
              "    .dataframe tbody tr th:only-of-type {\n",
              "        vertical-align: middle;\n",
              "    }\n",
              "\n",
              "    .dataframe tbody tr th {\n",
              "        vertical-align: top;\n",
              "    }\n",
              "\n",
              "    .dataframe thead th {\n",
              "        text-align: right;\n",
              "    }\n",
              "</style>\n",
              "<table border=\"1\" class=\"dataframe\">\n",
              "  <thead>\n",
              "    <tr style=\"text-align: right;\">\n",
              "      <th></th>\n",
              "      <th>pclass</th>\n",
              "      <th>survived</th>\n",
              "      <th>name</th>\n",
              "      <th>sex</th>\n",
              "      <th>age</th>\n",
              "      <th>sibsp</th>\n",
              "      <th>parch</th>\n",
              "      <th>ticket</th>\n",
              "      <th>fare</th>\n",
              "      <th>cabin</th>\n",
              "      <th>embarked</th>\n",
              "      <th>boat</th>\n",
              "      <th>body</th>\n",
              "      <th>home.dest</th>\n",
              "    </tr>\n",
              "  </thead>\n",
              "  <tbody>\n",
              "    <tr>\n",
              "      <th>count</th>\n",
              "      <td>1309.000000</td>\n",
              "      <td>1309.000000</td>\n",
              "      <td>1309</td>\n",
              "      <td>1309</td>\n",
              "      <td>1046.000000</td>\n",
              "      <td>1309.000000</td>\n",
              "      <td>1309.000000</td>\n",
              "      <td>1309</td>\n",
              "      <td>1308.000000</td>\n",
              "      <td>295</td>\n",
              "      <td>1307</td>\n",
              "      <td>486</td>\n",
              "      <td>121.000000</td>\n",
              "      <td>745</td>\n",
              "    </tr>\n",
              "    <tr>\n",
              "      <th>unique</th>\n",
              "      <td>NaN</td>\n",
              "      <td>NaN</td>\n",
              "      <td>1307</td>\n",
              "      <td>2</td>\n",
              "      <td>NaN</td>\n",
              "      <td>NaN</td>\n",
              "      <td>NaN</td>\n",
              "      <td>929</td>\n",
              "      <td>NaN</td>\n",
              "      <td>186</td>\n",
              "      <td>3</td>\n",
              "      <td>27</td>\n",
              "      <td>NaN</td>\n",
              "      <td>369</td>\n",
              "    </tr>\n",
              "    <tr>\n",
              "      <th>top</th>\n",
              "      <td>NaN</td>\n",
              "      <td>NaN</td>\n",
              "      <td>Kelly, Mr. James</td>\n",
              "      <td>male</td>\n",
              "      <td>NaN</td>\n",
              "      <td>NaN</td>\n",
              "      <td>NaN</td>\n",
              "      <td>CA. 2343</td>\n",
              "      <td>NaN</td>\n",
              "      <td>C23 C25 C27</td>\n",
              "      <td>S</td>\n",
              "      <td>13</td>\n",
              "      <td>NaN</td>\n",
              "      <td>New York, NY</td>\n",
              "    </tr>\n",
              "    <tr>\n",
              "      <th>freq</th>\n",
              "      <td>NaN</td>\n",
              "      <td>NaN</td>\n",
              "      <td>2</td>\n",
              "      <td>843</td>\n",
              "      <td>NaN</td>\n",
              "      <td>NaN</td>\n",
              "      <td>NaN</td>\n",
              "      <td>11</td>\n",
              "      <td>NaN</td>\n",
              "      <td>6</td>\n",
              "      <td>914</td>\n",
              "      <td>39</td>\n",
              "      <td>NaN</td>\n",
              "      <td>64</td>\n",
              "    </tr>\n",
              "    <tr>\n",
              "      <th>mean</th>\n",
              "      <td>2.294882</td>\n",
              "      <td>0.381971</td>\n",
              "      <td>NaN</td>\n",
              "      <td>NaN</td>\n",
              "      <td>29.881138</td>\n",
              "      <td>0.498854</td>\n",
              "      <td>0.385027</td>\n",
              "      <td>NaN</td>\n",
              "      <td>33.295479</td>\n",
              "      <td>NaN</td>\n",
              "      <td>NaN</td>\n",
              "      <td>NaN</td>\n",
              "      <td>160.809917</td>\n",
              "      <td>NaN</td>\n",
              "    </tr>\n",
              "    <tr>\n",
              "      <th>std</th>\n",
              "      <td>0.837836</td>\n",
              "      <td>0.486055</td>\n",
              "      <td>NaN</td>\n",
              "      <td>NaN</td>\n",
              "      <td>14.413493</td>\n",
              "      <td>1.041658</td>\n",
              "      <td>0.865560</td>\n",
              "      <td>NaN</td>\n",
              "      <td>51.758668</td>\n",
              "      <td>NaN</td>\n",
              "      <td>NaN</td>\n",
              "      <td>NaN</td>\n",
              "      <td>97.696922</td>\n",
              "      <td>NaN</td>\n",
              "    </tr>\n",
              "    <tr>\n",
              "      <th>min</th>\n",
              "      <td>1.000000</td>\n",
              "      <td>0.000000</td>\n",
              "      <td>NaN</td>\n",
              "      <td>NaN</td>\n",
              "      <td>0.170000</td>\n",
              "      <td>0.000000</td>\n",
              "      <td>0.000000</td>\n",
              "      <td>NaN</td>\n",
              "      <td>0.000000</td>\n",
              "      <td>NaN</td>\n",
              "      <td>NaN</td>\n",
              "      <td>NaN</td>\n",
              "      <td>1.000000</td>\n",
              "      <td>NaN</td>\n",
              "    </tr>\n",
              "    <tr>\n",
              "      <th>25%</th>\n",
              "      <td>2.000000</td>\n",
              "      <td>0.000000</td>\n",
              "      <td>NaN</td>\n",
              "      <td>NaN</td>\n",
              "      <td>21.000000</td>\n",
              "      <td>0.000000</td>\n",
              "      <td>0.000000</td>\n",
              "      <td>NaN</td>\n",
              "      <td>7.895800</td>\n",
              "      <td>NaN</td>\n",
              "      <td>NaN</td>\n",
              "      <td>NaN</td>\n",
              "      <td>72.000000</td>\n",
              "      <td>NaN</td>\n",
              "    </tr>\n",
              "    <tr>\n",
              "      <th>50%</th>\n",
              "      <td>3.000000</td>\n",
              "      <td>0.000000</td>\n",
              "      <td>NaN</td>\n",
              "      <td>NaN</td>\n",
              "      <td>28.000000</td>\n",
              "      <td>0.000000</td>\n",
              "      <td>0.000000</td>\n",
              "      <td>NaN</td>\n",
              "      <td>14.454200</td>\n",
              "      <td>NaN</td>\n",
              "      <td>NaN</td>\n",
              "      <td>NaN</td>\n",
              "      <td>155.000000</td>\n",
              "      <td>NaN</td>\n",
              "    </tr>\n",
              "    <tr>\n",
              "      <th>75%</th>\n",
              "      <td>3.000000</td>\n",
              "      <td>1.000000</td>\n",
              "      <td>NaN</td>\n",
              "      <td>NaN</td>\n",
              "      <td>39.000000</td>\n",
              "      <td>1.000000</td>\n",
              "      <td>0.000000</td>\n",
              "      <td>NaN</td>\n",
              "      <td>31.275000</td>\n",
              "      <td>NaN</td>\n",
              "      <td>NaN</td>\n",
              "      <td>NaN</td>\n",
              "      <td>256.000000</td>\n",
              "      <td>NaN</td>\n",
              "    </tr>\n",
              "    <tr>\n",
              "      <th>max</th>\n",
              "      <td>3.000000</td>\n",
              "      <td>1.000000</td>\n",
              "      <td>NaN</td>\n",
              "      <td>NaN</td>\n",
              "      <td>80.000000</td>\n",
              "      <td>8.000000</td>\n",
              "      <td>9.000000</td>\n",
              "      <td>NaN</td>\n",
              "      <td>512.329200</td>\n",
              "      <td>NaN</td>\n",
              "      <td>NaN</td>\n",
              "      <td>NaN</td>\n",
              "      <td>328.000000</td>\n",
              "      <td>NaN</td>\n",
              "    </tr>\n",
              "  </tbody>\n",
              "</table>\n",
              "</div>"
            ],
            "text/plain": [
              "             pclass     survived  ...        body     home.dest\n",
              "count   1309.000000  1309.000000  ...  121.000000           745\n",
              "unique          NaN          NaN  ...         NaN           369\n",
              "top             NaN          NaN  ...         NaN  New York, NY\n",
              "freq            NaN          NaN  ...         NaN            64\n",
              "mean       2.294882     0.381971  ...  160.809917           NaN\n",
              "std        0.837836     0.486055  ...   97.696922           NaN\n",
              "min        1.000000     0.000000  ...    1.000000           NaN\n",
              "25%        2.000000     0.000000  ...   72.000000           NaN\n",
              "50%        3.000000     0.000000  ...  155.000000           NaN\n",
              "75%        3.000000     1.000000  ...  256.000000           NaN\n",
              "max        3.000000     1.000000  ...  328.000000           NaN\n",
              "\n",
              "[11 rows x 14 columns]"
            ]
          },
          "metadata": {
            "tags": []
          },
          "execution_count": 5
        }
      ]
    },
    {
      "cell_type": "markdown",
      "metadata": {
        "id": "qKBmdq-w1nu4",
        "colab_type": "text"
      },
      "source": [
        "We can see from the above summary that the cabin and boat columns have the fewest values."
      ]
    },
    {
      "cell_type": "markdown",
      "metadata": {
        "id": "bGA6d5df1nu4",
        "colab_type": "text"
      },
      "source": [
        "## Data Cleaning"
      ]
    },
    {
      "cell_type": "markdown",
      "metadata": {
        "id": "3bJcARJH1nu5",
        "colab_type": "text"
      },
      "source": [
        "We can also check how many values in each column are null. A good way to do this is explained in this [stack overflow question](https://stackoverflow.com/a/26266451/818687). Find out how many `NaN`s we have in each column."
      ]
    },
    {
      "cell_type": "code",
      "metadata": {
        "deletable": false,
        "nbgrader": {
          "cell_type": "code",
          "checksum": "637b8d3bed5bb0c0c6d4bd987b532f5d",
          "grade": true,
          "grade_id": "cell-100bb17e0273b8d0",
          "locked": false,
          "points": 10,
          "schema_version": 3,
          "solution": true
        },
        "id": "YeRgCDT21nu5",
        "colab_type": "code",
        "colab": {
          "base_uri": "https://localhost:8080/",
          "height": 272
        },
        "outputId": "531cfc73-3294-4d93-d089-f7d8bfdff439"
      },
      "source": [
        "# Show the number of NaNs we have in each column\n",
        "df.isna().sum()"
      ],
      "execution_count": 6,
      "outputs": [
        {
          "output_type": "execute_result",
          "data": {
            "text/plain": [
              "pclass          0\n",
              "survived        0\n",
              "name            0\n",
              "sex             0\n",
              "age           263\n",
              "sibsp           0\n",
              "parch           0\n",
              "ticket          0\n",
              "fare            1\n",
              "cabin        1014\n",
              "embarked        2\n",
              "boat          823\n",
              "body         1188\n",
              "home.dest     564\n",
              "dtype: int64"
            ]
          },
          "metadata": {
            "tags": []
          },
          "execution_count": 6
        }
      ]
    },
    {
      "cell_type": "markdown",
      "metadata": {
        "id": "JQjdtN6q1nu7",
        "colab_type": "text"
      },
      "source": [
        "Since some features have a lot of null values, we may want to drop those features instead of deleting all the rows that don't have values for them. We can do so using the [drop](https://pandas.pydata.org/pandas-docs/stable/generated/pandas.DataFrame.drop.html) method of DataFrames. We won't be revisiting these columns so you can set `inplace=True` when you use this method, this will update the original DataFrame. Drop the cabin, boat, body, and home.dest columns."
      ]
    },
    {
      "cell_type": "code",
      "metadata": {
        "deletable": false,
        "nbgrader": {
          "cell_type": "code",
          "checksum": "2c824afb4593bbcee956af14c204afe2",
          "grade": false,
          "grade_id": "cell-560efd89fc3e08b9",
          "locked": false,
          "schema_version": 3,
          "solution": true
        },
        "pycharm": {
          "is_executing": false
        },
        "id": "L8iDyYv81nu7",
        "colab_type": "code",
        "colab": {}
      },
      "source": [
        "# Drop the cabin, boat, body, and home.dest columns.\n",
        "df.drop(['cabin', 'boat', 'body', 'home.dest'], axis=1, inplace=True)"
      ],
      "execution_count": 7,
      "outputs": []
    },
    {
      "cell_type": "code",
      "metadata": {
        "deletable": false,
        "editable": false,
        "nbgrader": {
          "cell_type": "code",
          "checksum": "885a0235ed7b4531aab93c774ef981cd",
          "grade": true,
          "grade_id": "cell-cdc57e0b1c3d5fc7",
          "locked": true,
          "points": 10,
          "schema_version": 3,
          "solution": false
        },
        "pycharm": {
          "is_executing": false
        },
        "id": "7zoziwYf1nu9",
        "colab_type": "code",
        "colab": {}
      },
      "source": [
        "assert \"cabin\" not in df.columns\n",
        "assert \"boat\" not in df.columns\n",
        "assert \"body\" not in df.columns\n",
        "assert \"home.dest\" not in df.columns"
      ],
      "execution_count": 8,
      "outputs": []
    },
    {
      "cell_type": "code",
      "metadata": {
        "id": "ooC3RLCd1nu_",
        "colab_type": "code",
        "colab": {
          "base_uri": "https://localhost:8080/",
          "height": 297
        },
        "outputId": "c15cee67-df9b-4893-dc6e-2e454694e4ee"
      },
      "source": [
        "df.describe()"
      ],
      "execution_count": 9,
      "outputs": [
        {
          "output_type": "execute_result",
          "data": {
            "text/html": [
              "<div>\n",
              "<style scoped>\n",
              "    .dataframe tbody tr th:only-of-type {\n",
              "        vertical-align: middle;\n",
              "    }\n",
              "\n",
              "    .dataframe tbody tr th {\n",
              "        vertical-align: top;\n",
              "    }\n",
              "\n",
              "    .dataframe thead th {\n",
              "        text-align: right;\n",
              "    }\n",
              "</style>\n",
              "<table border=\"1\" class=\"dataframe\">\n",
              "  <thead>\n",
              "    <tr style=\"text-align: right;\">\n",
              "      <th></th>\n",
              "      <th>pclass</th>\n",
              "      <th>survived</th>\n",
              "      <th>age</th>\n",
              "      <th>sibsp</th>\n",
              "      <th>parch</th>\n",
              "      <th>fare</th>\n",
              "    </tr>\n",
              "  </thead>\n",
              "  <tbody>\n",
              "    <tr>\n",
              "      <th>count</th>\n",
              "      <td>1309.000000</td>\n",
              "      <td>1309.000000</td>\n",
              "      <td>1046.000000</td>\n",
              "      <td>1309.000000</td>\n",
              "      <td>1309.000000</td>\n",
              "      <td>1308.000000</td>\n",
              "    </tr>\n",
              "    <tr>\n",
              "      <th>mean</th>\n",
              "      <td>2.294882</td>\n",
              "      <td>0.381971</td>\n",
              "      <td>29.881138</td>\n",
              "      <td>0.498854</td>\n",
              "      <td>0.385027</td>\n",
              "      <td>33.295479</td>\n",
              "    </tr>\n",
              "    <tr>\n",
              "      <th>std</th>\n",
              "      <td>0.837836</td>\n",
              "      <td>0.486055</td>\n",
              "      <td>14.413493</td>\n",
              "      <td>1.041658</td>\n",
              "      <td>0.865560</td>\n",
              "      <td>51.758668</td>\n",
              "    </tr>\n",
              "    <tr>\n",
              "      <th>min</th>\n",
              "      <td>1.000000</td>\n",
              "      <td>0.000000</td>\n",
              "      <td>0.170000</td>\n",
              "      <td>0.000000</td>\n",
              "      <td>0.000000</td>\n",
              "      <td>0.000000</td>\n",
              "    </tr>\n",
              "    <tr>\n",
              "      <th>25%</th>\n",
              "      <td>2.000000</td>\n",
              "      <td>0.000000</td>\n",
              "      <td>21.000000</td>\n",
              "      <td>0.000000</td>\n",
              "      <td>0.000000</td>\n",
              "      <td>7.895800</td>\n",
              "    </tr>\n",
              "    <tr>\n",
              "      <th>50%</th>\n",
              "      <td>3.000000</td>\n",
              "      <td>0.000000</td>\n",
              "      <td>28.000000</td>\n",
              "      <td>0.000000</td>\n",
              "      <td>0.000000</td>\n",
              "      <td>14.454200</td>\n",
              "    </tr>\n",
              "    <tr>\n",
              "      <th>75%</th>\n",
              "      <td>3.000000</td>\n",
              "      <td>1.000000</td>\n",
              "      <td>39.000000</td>\n",
              "      <td>1.000000</td>\n",
              "      <td>0.000000</td>\n",
              "      <td>31.275000</td>\n",
              "    </tr>\n",
              "    <tr>\n",
              "      <th>max</th>\n",
              "      <td>3.000000</td>\n",
              "      <td>1.000000</td>\n",
              "      <td>80.000000</td>\n",
              "      <td>8.000000</td>\n",
              "      <td>9.000000</td>\n",
              "      <td>512.329200</td>\n",
              "    </tr>\n",
              "  </tbody>\n",
              "</table>\n",
              "</div>"
            ],
            "text/plain": [
              "            pclass     survived  ...        parch         fare\n",
              "count  1309.000000  1309.000000  ...  1309.000000  1308.000000\n",
              "mean      2.294882     0.381971  ...     0.385027    33.295479\n",
              "std       0.837836     0.486055  ...     0.865560    51.758668\n",
              "min       1.000000     0.000000  ...     0.000000     0.000000\n",
              "25%       2.000000     0.000000  ...     0.000000     7.895800\n",
              "50%       3.000000     0.000000  ...     0.000000    14.454200\n",
              "75%       3.000000     1.000000  ...     0.000000    31.275000\n",
              "max       3.000000     1.000000  ...     9.000000   512.329200\n",
              "\n",
              "[8 rows x 6 columns]"
            ]
          },
          "metadata": {
            "tags": []
          },
          "execution_count": 9
        }
      ]
    },
    {
      "cell_type": "markdown",
      "metadata": {
        "id": "aZKUt7Ck1nvC",
        "colab_type": "text"
      },
      "source": [
        "We still had some rows that had NaN values so let's drop those rows. We can use the [dropna](https://pandas.pydata.org/pandas-docs/stable/generated/pandas.DataFrame.dropna.html) method. Drop all rows that have any `NaN` values.\n",
        "You can also just update the df variable since we won't be using the other data (set `inplace=True`)."
      ]
    },
    {
      "cell_type": "code",
      "metadata": {
        "deletable": false,
        "nbgrader": {
          "cell_type": "code",
          "checksum": "2c098732c056a76111b2ef3ef421f9aa",
          "grade": false,
          "grade_id": "cell-3995d8b30799a584",
          "locked": false,
          "schema_version": 3,
          "solution": true
        },
        "id": "2FIcz4wE1nvD",
        "colab_type": "code",
        "colab": {}
      },
      "source": [
        "# Drop any rows with na values. Use inplace=True or assign the result to df\n",
        "df.dropna(axis = 0, inplace = True)"
      ],
      "execution_count": 10,
      "outputs": []
    },
    {
      "cell_type": "code",
      "metadata": {
        "deletable": false,
        "editable": false,
        "nbgrader": {
          "cell_type": "code",
          "checksum": "443bf03198e6a6d9edd887b430f87615",
          "grade": true,
          "grade_id": "cell-d521d0c8b45116d0",
          "locked": true,
          "points": 10,
          "schema_version": 3,
          "solution": false
        },
        "id": "-QrHCyms1nvF",
        "colab_type": "code",
        "colab": {}
      },
      "source": [
        "assert df.isnull().sum().sum() == 0\n",
        "assert len(df) == 1043"
      ],
      "execution_count": 11,
      "outputs": []
    },
    {
      "cell_type": "code",
      "metadata": {
        "id": "RW-KOv4u1nvH",
        "colab_type": "code",
        "colab": {
          "base_uri": "https://localhost:8080/",
          "height": 297
        },
        "outputId": "50e3b9eb-4932-4e52-edb1-ecda50531a66"
      },
      "source": [
        "df.describe()"
      ],
      "execution_count": 12,
      "outputs": [
        {
          "output_type": "execute_result",
          "data": {
            "text/html": [
              "<div>\n",
              "<style scoped>\n",
              "    .dataframe tbody tr th:only-of-type {\n",
              "        vertical-align: middle;\n",
              "    }\n",
              "\n",
              "    .dataframe tbody tr th {\n",
              "        vertical-align: top;\n",
              "    }\n",
              "\n",
              "    .dataframe thead th {\n",
              "        text-align: right;\n",
              "    }\n",
              "</style>\n",
              "<table border=\"1\" class=\"dataframe\">\n",
              "  <thead>\n",
              "    <tr style=\"text-align: right;\">\n",
              "      <th></th>\n",
              "      <th>pclass</th>\n",
              "      <th>survived</th>\n",
              "      <th>age</th>\n",
              "      <th>sibsp</th>\n",
              "      <th>parch</th>\n",
              "      <th>fare</th>\n",
              "    </tr>\n",
              "  </thead>\n",
              "  <tbody>\n",
              "    <tr>\n",
              "      <th>count</th>\n",
              "      <td>1043.000000</td>\n",
              "      <td>1043.000000</td>\n",
              "      <td>1043.000000</td>\n",
              "      <td>1043.000000</td>\n",
              "      <td>1043.000000</td>\n",
              "      <td>1043.000000</td>\n",
              "    </tr>\n",
              "    <tr>\n",
              "      <th>mean</th>\n",
              "      <td>2.209012</td>\n",
              "      <td>0.407478</td>\n",
              "      <td>29.813202</td>\n",
              "      <td>0.504314</td>\n",
              "      <td>0.421860</td>\n",
              "      <td>36.603024</td>\n",
              "    </tr>\n",
              "    <tr>\n",
              "      <th>std</th>\n",
              "      <td>0.840685</td>\n",
              "      <td>0.491601</td>\n",
              "      <td>14.366254</td>\n",
              "      <td>0.913080</td>\n",
              "      <td>0.840655</td>\n",
              "      <td>55.753648</td>\n",
              "    </tr>\n",
              "    <tr>\n",
              "      <th>min</th>\n",
              "      <td>1.000000</td>\n",
              "      <td>0.000000</td>\n",
              "      <td>0.170000</td>\n",
              "      <td>0.000000</td>\n",
              "      <td>0.000000</td>\n",
              "      <td>0.000000</td>\n",
              "    </tr>\n",
              "    <tr>\n",
              "      <th>25%</th>\n",
              "      <td>1.000000</td>\n",
              "      <td>0.000000</td>\n",
              "      <td>21.000000</td>\n",
              "      <td>0.000000</td>\n",
              "      <td>0.000000</td>\n",
              "      <td>8.050000</td>\n",
              "    </tr>\n",
              "    <tr>\n",
              "      <th>50%</th>\n",
              "      <td>2.000000</td>\n",
              "      <td>0.000000</td>\n",
              "      <td>28.000000</td>\n",
              "      <td>0.000000</td>\n",
              "      <td>0.000000</td>\n",
              "      <td>15.750000</td>\n",
              "    </tr>\n",
              "    <tr>\n",
              "      <th>75%</th>\n",
              "      <td>3.000000</td>\n",
              "      <td>1.000000</td>\n",
              "      <td>39.000000</td>\n",
              "      <td>1.000000</td>\n",
              "      <td>1.000000</td>\n",
              "      <td>35.077100</td>\n",
              "    </tr>\n",
              "    <tr>\n",
              "      <th>max</th>\n",
              "      <td>3.000000</td>\n",
              "      <td>1.000000</td>\n",
              "      <td>80.000000</td>\n",
              "      <td>8.000000</td>\n",
              "      <td>6.000000</td>\n",
              "      <td>512.329200</td>\n",
              "    </tr>\n",
              "  </tbody>\n",
              "</table>\n",
              "</div>"
            ],
            "text/plain": [
              "            pclass     survived  ...        parch         fare\n",
              "count  1043.000000  1043.000000  ...  1043.000000  1043.000000\n",
              "mean      2.209012     0.407478  ...     0.421860    36.603024\n",
              "std       0.840685     0.491601  ...     0.840655    55.753648\n",
              "min       1.000000     0.000000  ...     0.000000     0.000000\n",
              "25%       1.000000     0.000000  ...     0.000000     8.050000\n",
              "50%       2.000000     0.000000  ...     0.000000    15.750000\n",
              "75%       3.000000     1.000000  ...     1.000000    35.077100\n",
              "max       3.000000     1.000000  ...     6.000000   512.329200\n",
              "\n",
              "[8 rows x 6 columns]"
            ]
          },
          "metadata": {
            "tags": []
          },
          "execution_count": 12
        }
      ]
    },
    {
      "cell_type": "markdown",
      "metadata": {
        "id": "Q__cpzVz1nvL",
        "colab_type": "text"
      },
      "source": [
        "We know that some of our features are represented as numbers but are actually classes, such as `pclass` and `survived`. Let's look at how many people survived vs didn't and how many were in each class.\n",
        "\n",
        "We can use the [value_counts](https://pandas.pydata.org/pandas-docs/stable/generated/pandas.Series.value_counts.html) Series method for this. First, let's look at how we select a feature column from a DataFrame. We can select it by passing in the name of the column just like we would with Python dictionaries."
      ]
    },
    {
      "cell_type": "code",
      "metadata": {
        "id": "1cIjiUGv1nvL",
        "colab_type": "code",
        "colab": {
          "base_uri": "https://localhost:8080/",
          "height": 221
        },
        "outputId": "a74e0e2c-39b5-42ab-90cb-00911add8c68"
      },
      "source": [
        "# Selecting the \"survived\" column\n",
        "df[\"survived\"]"
      ],
      "execution_count": 13,
      "outputs": [
        {
          "output_type": "execute_result",
          "data": {
            "text/plain": [
              "0       1\n",
              "1       1\n",
              "2       0\n",
              "3       0\n",
              "4       0\n",
              "       ..\n",
              "1301    0\n",
              "1304    0\n",
              "1306    0\n",
              "1307    0\n",
              "1308    0\n",
              "Name: survived, Length: 1043, dtype: int64"
            ]
          },
          "metadata": {
            "tags": []
          },
          "execution_count": 13
        }
      ]
    },
    {
      "cell_type": "markdown",
      "metadata": {
        "id": "KMt1ZtZe1nvN",
        "colab_type": "text"
      },
      "source": [
        "When we select an individual DataFrame column it returns the data as a Series object. You can read more about [Series](https://pandas.pydata.org/pandas-docs/stable/generated/pandas.Series.html) and check out the [user guide](https://pandas.pydata.org/pandas-docs/stable/dsintro.html#series).\n",
        "\n",
        "Many of the methods available in pandas work for both DataFrames and Series. `head` and `tail` are examples of those."
      ]
    },
    {
      "cell_type": "code",
      "metadata": {
        "id": "MRPbuwav1nvN",
        "colab_type": "code",
        "colab": {
          "base_uri": "https://localhost:8080/",
          "height": 119
        },
        "outputId": "9ae36a45-aed5-4f71-cb66-21fc1948522a"
      },
      "source": [
        "df[\"survived\"].head()"
      ],
      "execution_count": 14,
      "outputs": [
        {
          "output_type": "execute_result",
          "data": {
            "text/plain": [
              "0    1\n",
              "1    1\n",
              "2    0\n",
              "3    0\n",
              "4    0\n",
              "Name: survived, dtype: int64"
            ]
          },
          "metadata": {
            "tags": []
          },
          "execution_count": 14
        }
      ]
    },
    {
      "cell_type": "code",
      "metadata": {
        "id": "BcGvprzg1nvP",
        "colab_type": "code",
        "colab": {
          "base_uri": "https://localhost:8080/",
          "height": 119
        },
        "outputId": "8dd1a67e-cb5b-42bc-8179-5daa2aabf7c1"
      },
      "source": [
        "df[\"survived\"].tail()"
      ],
      "execution_count": 15,
      "outputs": [
        {
          "output_type": "execute_result",
          "data": {
            "text/plain": [
              "1301    0\n",
              "1304    0\n",
              "1306    0\n",
              "1307    0\n",
              "1308    0\n",
              "Name: survived, dtype: int64"
            ]
          },
          "metadata": {
            "tags": []
          },
          "execution_count": 15
        }
      ]
    },
    {
      "cell_type": "markdown",
      "metadata": {
        "id": "9TPuxl0V1nvR",
        "colab_type": "text"
      },
      "source": [
        "Now let's try out [value_counts](https://pandas.pydata.org/pandas-docs/stable/generated/pandas.Series.value_counts.html) to determine how many people survived and how many died."
      ]
    },
    {
      "cell_type": "code",
      "metadata": {
        "id": "ms9j1Lbg1nvR",
        "colab_type": "code",
        "colab": {
          "base_uri": "https://localhost:8080/",
          "height": 68
        },
        "outputId": "b610221b-b9f7-43fa-f8bb-09d309b62b39"
      },
      "source": [
        "df[\"survived\"].value_counts()"
      ],
      "execution_count": 16,
      "outputs": [
        {
          "output_type": "execute_result",
          "data": {
            "text/plain": [
              "0    618\n",
              "1    425\n",
              "Name: survived, dtype: int64"
            ]
          },
          "metadata": {
            "tags": []
          },
          "execution_count": 16
        }
      ]
    },
    {
      "cell_type": "markdown",
      "metadata": {
        "id": "l_w2rjAd1nvS",
        "colab_type": "text"
      },
      "source": [
        "We can also determine these values as a percentage by setting `normalize=True`."
      ]
    },
    {
      "cell_type": "code",
      "metadata": {
        "id": "yqLbA6U-1nvT",
        "colab_type": "code",
        "colab": {
          "base_uri": "https://localhost:8080/",
          "height": 68
        },
        "outputId": "d96f6e6c-34c3-48ed-819e-701a6c0cdd49"
      },
      "source": [
        "df[\"survived\"].value_counts(normalize=True)"
      ],
      "execution_count": 17,
      "outputs": [
        {
          "output_type": "execute_result",
          "data": {
            "text/plain": [
              "0    0.592522\n",
              "1    0.407478\n",
              "Name: survived, dtype: float64"
            ]
          },
          "metadata": {
            "tags": []
          },
          "execution_count": 17
        }
      ]
    },
    {
      "cell_type": "markdown",
      "metadata": {
        "id": "1U2em2xO1nvU",
        "colab_type": "text"
      },
      "source": [
        "Now determine the same for the passenger classes and the sexes."
      ]
    },
    {
      "cell_type": "code",
      "metadata": {
        "deletable": false,
        "nbgrader": {
          "cell_type": "code",
          "checksum": "c48ae5398ca375a883c879a401f841c3",
          "grade": true,
          "grade_id": "pclass-value_counts",
          "locked": false,
          "points": 5,
          "schema_version": 3,
          "solution": true
        },
        "id": "j4JRab1l1nvV",
        "colab_type": "code",
        "colab": {
          "base_uri": "https://localhost:8080/",
          "height": 85
        },
        "outputId": "10501d0f-b087-4443-aa31-9cde4cae1c24"
      },
      "source": [
        "# Find out how many people were in each class\n",
        "df[\"pclass\"].value_counts()"
      ],
      "execution_count": 18,
      "outputs": [
        {
          "output_type": "execute_result",
          "data": {
            "text/plain": [
              "3    500\n",
              "1    282\n",
              "2    261\n",
              "Name: pclass, dtype: int64"
            ]
          },
          "metadata": {
            "tags": []
          },
          "execution_count": 18
        }
      ]
    },
    {
      "cell_type": "code",
      "metadata": {
        "deletable": false,
        "nbgrader": {
          "cell_type": "code",
          "checksum": "4f7ea2a82f91b738765bc99ec3c17e1f",
          "grade": true,
          "grade_id": "pclass-value_counts_norm",
          "locked": false,
          "points": 5,
          "schema_version": 3,
          "solution": true
        },
        "id": "CEzS6D8n1nvW",
        "colab_type": "code",
        "colab": {
          "base_uri": "https://localhost:8080/",
          "height": 85
        },
        "outputId": "60378cbc-c09e-4153-b9af-4679fe8c2eab"
      },
      "source": [
        "# Find out what percentage of people were in each class\n",
        "df[\"pclass\"].value_counts(normalize=True)"
      ],
      "execution_count": 19,
      "outputs": [
        {
          "output_type": "execute_result",
          "data": {
            "text/plain": [
              "3    0.479386\n",
              "1    0.270374\n",
              "2    0.250240\n",
              "Name: pclass, dtype: float64"
            ]
          },
          "metadata": {
            "tags": []
          },
          "execution_count": 19
        }
      ]
    },
    {
      "cell_type": "code",
      "metadata": {
        "deletable": false,
        "nbgrader": {
          "cell_type": "code",
          "checksum": "05989026b7ebc450ed6f0aba3e632bb1",
          "grade": true,
          "grade_id": "sex-value_counts",
          "locked": false,
          "points": 5,
          "schema_version": 3,
          "solution": true
        },
        "id": "QWA0G9n41nvY",
        "colab_type": "code",
        "colab": {
          "base_uri": "https://localhost:8080/",
          "height": 68
        },
        "outputId": "76beb83f-0439-4f84-a566-6f67ee36d6d4"
      },
      "source": [
        "# Find out how many people are of each sex\n",
        "df[\"sex\"].value_counts()"
      ],
      "execution_count": 20,
      "outputs": [
        {
          "output_type": "execute_result",
          "data": {
            "text/plain": [
              "male      657\n",
              "female    386\n",
              "Name: sex, dtype: int64"
            ]
          },
          "metadata": {
            "tags": []
          },
          "execution_count": 20
        }
      ]
    },
    {
      "cell_type": "code",
      "metadata": {
        "deletable": false,
        "nbgrader": {
          "cell_type": "code",
          "checksum": "3d55f0430fb4752c52dbe5c9f258feca",
          "grade": true,
          "grade_id": "sex_value_counts_norm",
          "locked": false,
          "points": 5,
          "schema_version": 3,
          "solution": true
        },
        "id": "CU7RcGT61nvZ",
        "colab_type": "code",
        "colab": {
          "base_uri": "https://localhost:8080/",
          "height": 68
        },
        "outputId": "2b4931a3-0fc5-4b7a-c5b5-840ce2f39656"
      },
      "source": [
        "# Find out what percentage of people are of each sex\n",
        "df[\"sex\"].value_counts(normalize=True)"
      ],
      "execution_count": 21,
      "outputs": [
        {
          "output_type": "execute_result",
          "data": {
            "text/plain": [
              "male      0.629914\n",
              "female    0.370086\n",
              "Name: sex, dtype: float64"
            ]
          },
          "metadata": {
            "tags": []
          },
          "execution_count": 21
        }
      ]
    },
    {
      "cell_type": "markdown",
      "metadata": {
        "id": "20othkbd1nvb",
        "colab_type": "text"
      },
      "source": [
        "Value counts can give us some useful insights into the data and it works with string values and with numeric values as well. When we start working with machine learning models however, they prefer that things are in numeric form and not strings. If we also have multiple classes of a certain value it's better to have them as multiple features with each one specifying whether or not the value is true. These true/false features for each class are called dummy variables. Pandas makes it easy to create these dummy variables using the [get_dummies](https://pandas.pydata.org/pandas-docs/stable/generated/pandas.get_dummies.html) function. Try it out on the `pclass` and `sex` columns."
      ]
    },
    {
      "cell_type": "code",
      "metadata": {
        "deletable": false,
        "nbgrader": {
          "cell_type": "code",
          "checksum": "6022c164b8c3a2c2e0dc888550c2beab",
          "grade": true,
          "grade_id": "cell-a654a8408c69c6e9",
          "locked": false,
          "points": 5,
          "schema_version": 3,
          "solution": true
        },
        "id": "WoZ3vslf1nvb",
        "colab_type": "code",
        "colab": {}
      },
      "source": [
        "# Get the dummy variables for the `sex` column \n",
        "sex = pd.get_dummies(df[\"sex\"])"
      ],
      "execution_count": 22,
      "outputs": []
    },
    {
      "cell_type": "code",
      "metadata": {
        "deletable": false,
        "nbgrader": {
          "cell_type": "code",
          "checksum": "4a6765ea21391d265bba547bdc20f535",
          "grade": true,
          "grade_id": "cell-612600388764bb32",
          "locked": false,
          "points": 5,
          "schema_version": 3,
          "solution": true
        },
        "id": "o5hofUzQ1nvd",
        "colab_type": "code",
        "colab": {}
      },
      "source": [
        "# Get the dummy variables for the `pclass` column \n",
        "pclass = pd.get_dummies(df[\"pclass\"])"
      ],
      "execution_count": 23,
      "outputs": []
    },
    {
      "cell_type": "markdown",
      "metadata": {
        "id": "6B8fzZdW1nvf",
        "colab_type": "text"
      },
      "source": [
        "Dummy variables will be extremely useful when we start applying machine learning. For now, let's go back to data selection."
      ]
    },
    {
      "cell_type": "markdown",
      "metadata": {
        "id": "S63Ga7jq1nvf",
        "colab_type": "text"
      },
      "source": [
        "## Data Selection\n",
        "\n",
        "We discussed how to select one column of a DataFrame, how that is just like we would use a dictonairy and how it returns a Series object. What about if we want to select multiple columns?\n",
        "\n",
        "The notation for selecting multiple columns is to pass a list of strings instead of just one string. In the remaining section of this case study we will only use the `survived`, `age`, `sex`, and `pclass` features. Select those columns in a variable called `smallDf`.\n",
        "\n",
        "Since we will be editing this variable, make sure you create a [copy](https://pandas.pydata.org/pandas-docs/stable/generated/pandas.DataFrame.copy.html) after selecting the columns. This [stack overflow answer](https://stackoverflow.com/a/27680109/818687) explains why we want to create a copy quite well."
      ]
    },
    {
      "cell_type": "code",
      "metadata": {
        "deletable": false,
        "nbgrader": {
          "cell_type": "code",
          "checksum": "76c427e7cb84049f4dfd2335db5acd57",
          "grade": false,
          "grade_id": "cell-dd971fee5d6aa470",
          "locked": false,
          "schema_version": 3,
          "solution": true
        },
        "id": "mzPELcEP1nvf",
        "colab_type": "code",
        "colab": {}
      },
      "source": [
        "# Select the survived, age, sex and pclass columns of the df and save them as smallDf\n",
        "smallDf = df.copy()[[\"survived\", \"age\", \"sex\", \"pclass\"]]"
      ],
      "execution_count": 24,
      "outputs": []
    },
    {
      "cell_type": "code",
      "metadata": {
        "deletable": false,
        "editable": false,
        "nbgrader": {
          "cell_type": "code",
          "checksum": "963bec4d9c481ec17dd510efb9bad2c6",
          "grade": true,
          "grade_id": "cell-3e9e5d1bf13dcf26",
          "locked": true,
          "points": 5,
          "schema_version": 3,
          "solution": false
        },
        "id": "QUOWviAG1nvh",
        "colab_type": "code",
        "colab": {}
      },
      "source": [
        "assert \"survived\" in smallDf.columns\n",
        "assert \"age\" in smallDf.columns\n",
        "assert \"sex\" in smallDf.columns\n",
        "assert \"pclass\" in smallDf.columns\n",
        "assert len(smallDf) == 1043"
      ],
      "execution_count": 25,
      "outputs": []
    },
    {
      "cell_type": "code",
      "metadata": {
        "id": "0ZIqtLbd1nvi",
        "colab_type": "code",
        "colab": {
          "base_uri": "https://localhost:8080/",
          "height": 204
        },
        "outputId": "02a0cc64-f07e-4a68-a95d-ab6d5e991366"
      },
      "source": [
        "smallDf.head()"
      ],
      "execution_count": 26,
      "outputs": [
        {
          "output_type": "execute_result",
          "data": {
            "text/html": [
              "<div>\n",
              "<style scoped>\n",
              "    .dataframe tbody tr th:only-of-type {\n",
              "        vertical-align: middle;\n",
              "    }\n",
              "\n",
              "    .dataframe tbody tr th {\n",
              "        vertical-align: top;\n",
              "    }\n",
              "\n",
              "    .dataframe thead th {\n",
              "        text-align: right;\n",
              "    }\n",
              "</style>\n",
              "<table border=\"1\" class=\"dataframe\">\n",
              "  <thead>\n",
              "    <tr style=\"text-align: right;\">\n",
              "      <th></th>\n",
              "      <th>survived</th>\n",
              "      <th>age</th>\n",
              "      <th>sex</th>\n",
              "      <th>pclass</th>\n",
              "    </tr>\n",
              "  </thead>\n",
              "  <tbody>\n",
              "    <tr>\n",
              "      <th>0</th>\n",
              "      <td>1</td>\n",
              "      <td>29.00</td>\n",
              "      <td>female</td>\n",
              "      <td>1</td>\n",
              "    </tr>\n",
              "    <tr>\n",
              "      <th>1</th>\n",
              "      <td>1</td>\n",
              "      <td>0.92</td>\n",
              "      <td>male</td>\n",
              "      <td>1</td>\n",
              "    </tr>\n",
              "    <tr>\n",
              "      <th>2</th>\n",
              "      <td>0</td>\n",
              "      <td>2.00</td>\n",
              "      <td>female</td>\n",
              "      <td>1</td>\n",
              "    </tr>\n",
              "    <tr>\n",
              "      <th>3</th>\n",
              "      <td>0</td>\n",
              "      <td>30.00</td>\n",
              "      <td>male</td>\n",
              "      <td>1</td>\n",
              "    </tr>\n",
              "    <tr>\n",
              "      <th>4</th>\n",
              "      <td>0</td>\n",
              "      <td>25.00</td>\n",
              "      <td>female</td>\n",
              "      <td>1</td>\n",
              "    </tr>\n",
              "  </tbody>\n",
              "</table>\n",
              "</div>"
            ],
            "text/plain": [
              "   survived    age     sex  pclass\n",
              "0         1  29.00  female       1\n",
              "1         1   0.92    male       1\n",
              "2         0   2.00  female       1\n",
              "3         0  30.00    male       1\n",
              "4         0  25.00  female       1"
            ]
          },
          "metadata": {
            "tags": []
          },
          "execution_count": 26
        }
      ]
    },
    {
      "cell_type": "markdown",
      "metadata": {
        "id": "rDgcQhBI1nvk",
        "colab_type": "text"
      },
      "source": [
        "Indexing in pandas can be very powerful. The [guide on indexing](https://pandas.pydata.org/pandas-docs/stable/indexing.html) is extremely useful. We'll cover only a small portion of what you can do with indexing, namely boolean indexing. \n",
        "\n",
        "First, we can apply a logical operation to a Series to return a new Series that checks whether the logical operation is true. \n",
        "Second, we can use that result to only select a small portion of the data.\n",
        "\n",
        "This might sound complicated but hopefully an example can show how to use Boolean Indexing."
      ]
    },
    {
      "cell_type": "code",
      "metadata": {
        "id": "DB6QxAdK1nvk",
        "colab_type": "code",
        "colab": {
          "base_uri": "https://localhost:8080/",
          "height": 221
        },
        "outputId": "e28b20c3-0be6-4e39-8369-0882419bbc0b"
      },
      "source": [
        "# Create a Series that lets us know whether a person is male\n",
        "smallDf[\"sex\"] == \"female\""
      ],
      "execution_count": 27,
      "outputs": [
        {
          "output_type": "execute_result",
          "data": {
            "text/plain": [
              "0        True\n",
              "1       False\n",
              "2        True\n",
              "3       False\n",
              "4        True\n",
              "        ...  \n",
              "1301    False\n",
              "1304     True\n",
              "1306    False\n",
              "1307    False\n",
              "1308    False\n",
              "Name: sex, Length: 1043, dtype: bool"
            ]
          },
          "metadata": {
            "tags": []
          },
          "execution_count": 27
        }
      ]
    },
    {
      "cell_type": "code",
      "metadata": {
        "id": "PnzTWZTM1nvm",
        "colab_type": "code",
        "colab": {
          "base_uri": "https://localhost:8080/",
          "height": 34
        },
        "outputId": "16d1dd42-f9b3-4e2c-929c-f24736aca6fe"
      },
      "source": [
        "# Select all males from the dataset\n",
        "malesDf = smallDf[smallDf[\"sex\"] == \"male\"]\n",
        "len(malesDf)"
      ],
      "execution_count": 28,
      "outputs": [
        {
          "output_type": "execute_result",
          "data": {
            "text/plain": [
              "657"
            ]
          },
          "metadata": {
            "tags": []
          },
          "execution_count": 28
        }
      ]
    },
    {
      "cell_type": "code",
      "metadata": {
        "id": "nrk9PdMO1nvo",
        "colab_type": "code",
        "colab": {
          "base_uri": "https://localhost:8080/",
          "height": 390
        },
        "outputId": "c65ebfa6-9c96-470c-88c6-9a415db7aa0e"
      },
      "source": [
        "malesDf.describe(include=\"all\")\n",
        "# Notice how there are no females in this df"
      ],
      "execution_count": 29,
      "outputs": [
        {
          "output_type": "execute_result",
          "data": {
            "text/html": [
              "<div>\n",
              "<style scoped>\n",
              "    .dataframe tbody tr th:only-of-type {\n",
              "        vertical-align: middle;\n",
              "    }\n",
              "\n",
              "    .dataframe tbody tr th {\n",
              "        vertical-align: top;\n",
              "    }\n",
              "\n",
              "    .dataframe thead th {\n",
              "        text-align: right;\n",
              "    }\n",
              "</style>\n",
              "<table border=\"1\" class=\"dataframe\">\n",
              "  <thead>\n",
              "    <tr style=\"text-align: right;\">\n",
              "      <th></th>\n",
              "      <th>survived</th>\n",
              "      <th>age</th>\n",
              "      <th>sex</th>\n",
              "      <th>pclass</th>\n",
              "    </tr>\n",
              "  </thead>\n",
              "  <tbody>\n",
              "    <tr>\n",
              "      <th>count</th>\n",
              "      <td>657.000000</td>\n",
              "      <td>657.000000</td>\n",
              "      <td>657</td>\n",
              "      <td>657.000000</td>\n",
              "    </tr>\n",
              "    <tr>\n",
              "      <th>unique</th>\n",
              "      <td>NaN</td>\n",
              "      <td>NaN</td>\n",
              "      <td>1</td>\n",
              "      <td>NaN</td>\n",
              "    </tr>\n",
              "    <tr>\n",
              "      <th>top</th>\n",
              "      <td>NaN</td>\n",
              "      <td>NaN</td>\n",
              "      <td>male</td>\n",
              "      <td>NaN</td>\n",
              "    </tr>\n",
              "    <tr>\n",
              "      <th>freq</th>\n",
              "      <td>NaN</td>\n",
              "      <td>NaN</td>\n",
              "      <td>657</td>\n",
              "      <td>NaN</td>\n",
              "    </tr>\n",
              "    <tr>\n",
              "      <th>mean</th>\n",
              "      <td>0.205479</td>\n",
              "      <td>30.539696</td>\n",
              "      <td>NaN</td>\n",
              "      <td>2.299848</td>\n",
              "    </tr>\n",
              "    <tr>\n",
              "      <th>std</th>\n",
              "      <td>0.404359</td>\n",
              "      <td>14.243582</td>\n",
              "      <td>NaN</td>\n",
              "      <td>0.818917</td>\n",
              "    </tr>\n",
              "    <tr>\n",
              "      <th>min</th>\n",
              "      <td>0.000000</td>\n",
              "      <td>0.330000</td>\n",
              "      <td>NaN</td>\n",
              "      <td>1.000000</td>\n",
              "    </tr>\n",
              "    <tr>\n",
              "      <th>25%</th>\n",
              "      <td>0.000000</td>\n",
              "      <td>21.000000</td>\n",
              "      <td>NaN</td>\n",
              "      <td>2.000000</td>\n",
              "    </tr>\n",
              "    <tr>\n",
              "      <th>50%</th>\n",
              "      <td>0.000000</td>\n",
              "      <td>28.000000</td>\n",
              "      <td>NaN</td>\n",
              "      <td>3.000000</td>\n",
              "    </tr>\n",
              "    <tr>\n",
              "      <th>75%</th>\n",
              "      <td>0.000000</td>\n",
              "      <td>39.000000</td>\n",
              "      <td>NaN</td>\n",
              "      <td>3.000000</td>\n",
              "    </tr>\n",
              "    <tr>\n",
              "      <th>max</th>\n",
              "      <td>1.000000</td>\n",
              "      <td>80.000000</td>\n",
              "      <td>NaN</td>\n",
              "      <td>3.000000</td>\n",
              "    </tr>\n",
              "  </tbody>\n",
              "</table>\n",
              "</div>"
            ],
            "text/plain": [
              "          survived         age   sex      pclass\n",
              "count   657.000000  657.000000   657  657.000000\n",
              "unique         NaN         NaN     1         NaN\n",
              "top            NaN         NaN  male         NaN\n",
              "freq           NaN         NaN   657         NaN\n",
              "mean      0.205479   30.539696   NaN    2.299848\n",
              "std       0.404359   14.243582   NaN    0.818917\n",
              "min       0.000000    0.330000   NaN    1.000000\n",
              "25%       0.000000   21.000000   NaN    2.000000\n",
              "50%       0.000000   28.000000   NaN    3.000000\n",
              "75%       0.000000   39.000000   NaN    3.000000\n",
              "max       1.000000   80.000000   NaN    3.000000"
            ]
          },
          "metadata": {
            "tags": []
          },
          "execution_count": 29
        }
      ]
    },
    {
      "cell_type": "code",
      "metadata": {
        "deletable": false,
        "nbgrader": {
          "cell_type": "code",
          "checksum": "daeefe1de9a1b24ead0c253b0e52d8b3",
          "grade": false,
          "grade_id": "cell-1225f02668d8b333",
          "locked": false,
          "schema_version": 3,
          "solution": true
        },
        "id": "koddg2tv1nvp",
        "colab_type": "code",
        "colab": {}
      },
      "source": [
        "# Now create a femalesDf which has data about the females only\n",
        "femalesDf = smallDf[smallDf[\"sex\"] == \"female\"]"
      ],
      "execution_count": 30,
      "outputs": []
    },
    {
      "cell_type": "code",
      "metadata": {
        "deletable": false,
        "editable": false,
        "nbgrader": {
          "cell_type": "code",
          "checksum": "d34c596ff490872465027f4e28e739b8",
          "grade": true,
          "grade_id": "cell-faf20230f201c749",
          "locked": true,
          "points": 5,
          "schema_version": 3,
          "solution": false
        },
        "id": "b5KnjMEz1nvs",
        "colab_type": "code",
        "colab": {}
      },
      "source": [
        "assert all(femalesDf[\"sex\"] == \"female\")\n",
        "assert len(femalesDf) == 386"
      ],
      "execution_count": 31,
      "outputs": []
    },
    {
      "cell_type": "markdown",
      "metadata": {
        "id": "zH8Ws5fa1nvt",
        "colab_type": "text"
      },
      "source": [
        "This approach may be useful if we wanted to only select one portion of data that meets a certain logical structure. This example showed how we can apply it to string values but we can also apply this to numeric values. Let's say we wanted to determine how many people in our dataset are under the age of 10. We can determine that using the following:"
      ]
    },
    {
      "cell_type": "code",
      "metadata": {
        "id": "FfcSI0jg1nvt",
        "colab_type": "code",
        "colab": {
          "base_uri": "https://localhost:8080/",
          "height": 34
        },
        "outputId": "e99537fb-cb65-494e-e672-b9d662460158"
      },
      "source": [
        "underTen = smallDf[\"age\"] < 10\n",
        "underTen.sum()"
      ],
      "execution_count": 32,
      "outputs": [
        {
          "output_type": "execute_result",
          "data": {
            "text/plain": [
              "82"
            ]
          },
          "metadata": {
            "tags": []
          },
          "execution_count": 32
        }
      ]
    },
    {
      "cell_type": "markdown",
      "metadata": {
        "id": "LaowQOiU1nvv",
        "colab_type": "text"
      },
      "source": [
        "We can also apply more complex functionality to our data using the apply method for [DataFrames](https://pandas.pydata.org/pandas-docs/stable/generated/pandas.DataFrame.apply.html) or [Series](https://pandas.pydata.org/pandas-docs/stable/generated/pandas.Series.apply.html)."
      ]
    },
    {
      "cell_type": "markdown",
      "metadata": {
        "id": "0UUhRV391nvv",
        "colab_type": "text"
      },
      "source": [
        "We can assign new columns to a DataFrame just as we would assign a new value for a dictionary.\n",
        "Use the apply method and create a new column called \"ageGroup\" that has a value of \"child\" for people under the age of 13, \"teen\" for ages 13-19, and \"adult\" for ages above 19."
      ]
    },
    {
      "cell_type": "code",
      "metadata": {
        "deletable": false,
        "nbgrader": {
          "cell_type": "code",
          "checksum": "4fa5d7c596d3271319aa1e7535d6d46f",
          "grade": true,
          "grade_id": "cell-69d4fbe08865f184",
          "locked": false,
          "points": 10,
          "schema_version": 3,
          "solution": true
        },
        "id": "OWoVTr1R1nvv",
        "colab_type": "code",
        "colab": {}
      },
      "source": [
        "# Use the apply method and create a new column called \"ageGroup\" \n",
        "# It should have a value of \"child\" for people under the age of 13, \n",
        "# \"teen\" for ages 13-19, and \"adult\" for ages above 19.\n",
        "# You may want to write a function here to use with apply\n",
        "def age_range (age):\n",
        "  if age < 13:\n",
        "    return \"child\"\n",
        "  elif age <= 19:\n",
        "    return \"teen\"\n",
        "  else:\n",
        "    return \"adult\"\n",
        "\n",
        "smallDf[\"ageGroup\"] = smallDf[\"age\"].apply(age_range)"
      ],
      "execution_count": 33,
      "outputs": []
    },
    {
      "cell_type": "code",
      "metadata": {
        "id": "o1EFBslY1nvx",
        "colab_type": "code",
        "colab": {
          "base_uri": "https://localhost:8080/",
          "height": 204
        },
        "outputId": "32bf3438-0c94-4e09-fbf8-7615d265513a"
      },
      "source": [
        "assert \"ageGroup\" in smallDf.columns\n",
        "smallDf.head()"
      ],
      "execution_count": 34,
      "outputs": [
        {
          "output_type": "execute_result",
          "data": {
            "text/html": [
              "<div>\n",
              "<style scoped>\n",
              "    .dataframe tbody tr th:only-of-type {\n",
              "        vertical-align: middle;\n",
              "    }\n",
              "\n",
              "    .dataframe tbody tr th {\n",
              "        vertical-align: top;\n",
              "    }\n",
              "\n",
              "    .dataframe thead th {\n",
              "        text-align: right;\n",
              "    }\n",
              "</style>\n",
              "<table border=\"1\" class=\"dataframe\">\n",
              "  <thead>\n",
              "    <tr style=\"text-align: right;\">\n",
              "      <th></th>\n",
              "      <th>survived</th>\n",
              "      <th>age</th>\n",
              "      <th>sex</th>\n",
              "      <th>pclass</th>\n",
              "      <th>ageGroup</th>\n",
              "    </tr>\n",
              "  </thead>\n",
              "  <tbody>\n",
              "    <tr>\n",
              "      <th>0</th>\n",
              "      <td>1</td>\n",
              "      <td>29.00</td>\n",
              "      <td>female</td>\n",
              "      <td>1</td>\n",
              "      <td>adult</td>\n",
              "    </tr>\n",
              "    <tr>\n",
              "      <th>1</th>\n",
              "      <td>1</td>\n",
              "      <td>0.92</td>\n",
              "      <td>male</td>\n",
              "      <td>1</td>\n",
              "      <td>child</td>\n",
              "    </tr>\n",
              "    <tr>\n",
              "      <th>2</th>\n",
              "      <td>0</td>\n",
              "      <td>2.00</td>\n",
              "      <td>female</td>\n",
              "      <td>1</td>\n",
              "      <td>child</td>\n",
              "    </tr>\n",
              "    <tr>\n",
              "      <th>3</th>\n",
              "      <td>0</td>\n",
              "      <td>30.00</td>\n",
              "      <td>male</td>\n",
              "      <td>1</td>\n",
              "      <td>adult</td>\n",
              "    </tr>\n",
              "    <tr>\n",
              "      <th>4</th>\n",
              "      <td>0</td>\n",
              "      <td>25.00</td>\n",
              "      <td>female</td>\n",
              "      <td>1</td>\n",
              "      <td>adult</td>\n",
              "    </tr>\n",
              "  </tbody>\n",
              "</table>\n",
              "</div>"
            ],
            "text/plain": [
              "   survived    age     sex  pclass ageGroup\n",
              "0         1  29.00  female       1    adult\n",
              "1         1   0.92    male       1    child\n",
              "2         0   2.00  female       1    child\n",
              "3         0  30.00    male       1    adult\n",
              "4         0  25.00  female       1    adult"
            ]
          },
          "metadata": {
            "tags": []
          },
          "execution_count": 34
        }
      ]
    },
    {
      "cell_type": "markdown",
      "metadata": {
        "id": "-pf3XGp91nvy",
        "colab_type": "text"
      },
      "source": [
        "For the male/female case, if we wanted to determine the number of each group we could actually use the `groupby` functionality instead. Grouping is also another very powerful feature of pandas for data manipulation and the [guide](https://pandas.pydata.org/pandas-docs/stable/groupby.html) is really helpful."
      ]
    },
    {
      "cell_type": "code",
      "metadata": {
        "id": "xDB48Ly51nvy",
        "colab_type": "code",
        "colab": {
          "base_uri": "https://localhost:8080/",
          "height": 452
        },
        "outputId": "c3a37076-4bb6-4ce6-e804-9a9f9c240f7f"
      },
      "source": [
        "smallDf.groupby([\"survived\", \"pclass\", \"sex\"]).count()"
      ],
      "execution_count": 35,
      "outputs": [
        {
          "output_type": "execute_result",
          "data": {
            "text/html": [
              "<div>\n",
              "<style scoped>\n",
              "    .dataframe tbody tr th:only-of-type {\n",
              "        vertical-align: middle;\n",
              "    }\n",
              "\n",
              "    .dataframe tbody tr th {\n",
              "        vertical-align: top;\n",
              "    }\n",
              "\n",
              "    .dataframe thead th {\n",
              "        text-align: right;\n",
              "    }\n",
              "</style>\n",
              "<table border=\"1\" class=\"dataframe\">\n",
              "  <thead>\n",
              "    <tr style=\"text-align: right;\">\n",
              "      <th></th>\n",
              "      <th></th>\n",
              "      <th></th>\n",
              "      <th>age</th>\n",
              "      <th>ageGroup</th>\n",
              "    </tr>\n",
              "    <tr>\n",
              "      <th>survived</th>\n",
              "      <th>pclass</th>\n",
              "      <th>sex</th>\n",
              "      <th></th>\n",
              "      <th></th>\n",
              "    </tr>\n",
              "  </thead>\n",
              "  <tbody>\n",
              "    <tr>\n",
              "      <th rowspan=\"6\" valign=\"top\">0</th>\n",
              "      <th rowspan=\"2\" valign=\"top\">1</th>\n",
              "      <th>female</th>\n",
              "      <td>5</td>\n",
              "      <td>5</td>\n",
              "    </tr>\n",
              "    <tr>\n",
              "      <th>male</th>\n",
              "      <td>98</td>\n",
              "      <td>98</td>\n",
              "    </tr>\n",
              "    <tr>\n",
              "      <th rowspan=\"2\" valign=\"top\">2</th>\n",
              "      <th>female</th>\n",
              "      <td>11</td>\n",
              "      <td>11</td>\n",
              "    </tr>\n",
              "    <tr>\n",
              "      <th>male</th>\n",
              "      <td>135</td>\n",
              "      <td>135</td>\n",
              "    </tr>\n",
              "    <tr>\n",
              "      <th rowspan=\"2\" valign=\"top\">3</th>\n",
              "      <th>female</th>\n",
              "      <td>80</td>\n",
              "      <td>80</td>\n",
              "    </tr>\n",
              "    <tr>\n",
              "      <th>male</th>\n",
              "      <td>289</td>\n",
              "      <td>289</td>\n",
              "    </tr>\n",
              "    <tr>\n",
              "      <th rowspan=\"6\" valign=\"top\">1</th>\n",
              "      <th rowspan=\"2\" valign=\"top\">1</th>\n",
              "      <th>female</th>\n",
              "      <td>126</td>\n",
              "      <td>126</td>\n",
              "    </tr>\n",
              "    <tr>\n",
              "      <th>male</th>\n",
              "      <td>53</td>\n",
              "      <td>53</td>\n",
              "    </tr>\n",
              "    <tr>\n",
              "      <th rowspan=\"2\" valign=\"top\">2</th>\n",
              "      <th>female</th>\n",
              "      <td>92</td>\n",
              "      <td>92</td>\n",
              "    </tr>\n",
              "    <tr>\n",
              "      <th>male</th>\n",
              "      <td>23</td>\n",
              "      <td>23</td>\n",
              "    </tr>\n",
              "    <tr>\n",
              "      <th rowspan=\"2\" valign=\"top\">3</th>\n",
              "      <th>female</th>\n",
              "      <td>72</td>\n",
              "      <td>72</td>\n",
              "    </tr>\n",
              "    <tr>\n",
              "      <th>male</th>\n",
              "      <td>59</td>\n",
              "      <td>59</td>\n",
              "    </tr>\n",
              "  </tbody>\n",
              "</table>\n",
              "</div>"
            ],
            "text/plain": [
              "                        age  ageGroup\n",
              "survived pclass sex                  \n",
              "0        1      female    5         5\n",
              "                male     98        98\n",
              "         2      female   11        11\n",
              "                male    135       135\n",
              "         3      female   80        80\n",
              "                male    289       289\n",
              "1        1      female  126       126\n",
              "                male     53        53\n",
              "         2      female   92        92\n",
              "                male     23        23\n",
              "         3      female   72        72\n",
              "                male     59        59"
            ]
          },
          "metadata": {
            "tags": []
          },
          "execution_count": 35
        }
      ]
    },
    {
      "cell_type": "markdown",
      "metadata": {
        "id": "kqwZU3er1nv0",
        "colab_type": "text"
      },
      "source": [
        "When we group by some values we can perform some useful calculations such as count, mean, sum and others. The order of the grouping determines the breakdown of the data.\n",
        "\n",
        "Repeat the above grouping in another order that you are curious about and perform a calculation that you find interesting."
      ]
    },
    {
      "cell_type": "code",
      "metadata": {
        "deletable": false,
        "nbgrader": {
          "cell_type": "code",
          "checksum": "92cc0ccfb42d6d73096338fc28926553",
          "grade": true,
          "grade_id": "cell-029328c41ddbaca6",
          "locked": false,
          "points": 10,
          "schema_version": 3,
          "solution": true
        },
        "id": "Tob8cLMd1nv0",
        "colab_type": "code",
        "colab": {
          "base_uri": "https://localhost:8080/",
          "height": 452
        },
        "outputId": "83a7b9a4-f1bc-4b03-9159-437988275a15"
      },
      "source": [
        "# Repeat the above grouping in another order that you are curious about\n",
        "# perform a calculation that you find interesting ex. mean, count, sum\n",
        "smallDf.groupby([\"survived\", \"pclass\", \"sex\"], sort = False).mean()"
      ],
      "execution_count": 36,
      "outputs": [
        {
          "output_type": "execute_result",
          "data": {
            "text/html": [
              "<div>\n",
              "<style scoped>\n",
              "    .dataframe tbody tr th:only-of-type {\n",
              "        vertical-align: middle;\n",
              "    }\n",
              "\n",
              "    .dataframe tbody tr th {\n",
              "        vertical-align: top;\n",
              "    }\n",
              "\n",
              "    .dataframe thead th {\n",
              "        text-align: right;\n",
              "    }\n",
              "</style>\n",
              "<table border=\"1\" class=\"dataframe\">\n",
              "  <thead>\n",
              "    <tr style=\"text-align: right;\">\n",
              "      <th></th>\n",
              "      <th></th>\n",
              "      <th></th>\n",
              "      <th>age</th>\n",
              "    </tr>\n",
              "    <tr>\n",
              "      <th>survived</th>\n",
              "      <th>pclass</th>\n",
              "      <th>sex</th>\n",
              "      <th></th>\n",
              "    </tr>\n",
              "  </thead>\n",
              "  <tbody>\n",
              "    <tr>\n",
              "      <th rowspan=\"2\" valign=\"top\">1</th>\n",
              "      <th rowspan=\"2\" valign=\"top\">1</th>\n",
              "      <th>female</th>\n",
              "      <td>36.904762</td>\n",
              "    </tr>\n",
              "    <tr>\n",
              "      <th>male</th>\n",
              "      <td>36.168302</td>\n",
              "    </tr>\n",
              "    <tr>\n",
              "      <th rowspan=\"3\" valign=\"top\">0</th>\n",
              "      <th rowspan=\"2\" valign=\"top\">1</th>\n",
              "      <th>female</th>\n",
              "      <td>35.200000</td>\n",
              "    </tr>\n",
              "    <tr>\n",
              "      <th>male</th>\n",
              "      <td>43.658163</td>\n",
              "    </tr>\n",
              "    <tr>\n",
              "      <th>2</th>\n",
              "      <th>male</th>\n",
              "      <td>33.092593</td>\n",
              "    </tr>\n",
              "    <tr>\n",
              "      <th rowspan=\"2\" valign=\"top\">1</th>\n",
              "      <th rowspan=\"2\" valign=\"top\">2</th>\n",
              "      <th>female</th>\n",
              "      <td>26.711087</td>\n",
              "    </tr>\n",
              "    <tr>\n",
              "      <th>male</th>\n",
              "      <td>17.449130</td>\n",
              "    </tr>\n",
              "    <tr>\n",
              "      <th rowspan=\"2\" valign=\"top\">0</th>\n",
              "      <th>2</th>\n",
              "      <th>female</th>\n",
              "      <td>34.090909</td>\n",
              "    </tr>\n",
              "    <tr>\n",
              "      <th>3</th>\n",
              "      <th>male</th>\n",
              "      <td>26.562561</td>\n",
              "    </tr>\n",
              "    <tr>\n",
              "      <th rowspan=\"2\" valign=\"top\">1</th>\n",
              "      <th rowspan=\"2\" valign=\"top\">3</th>\n",
              "      <th>female</th>\n",
              "      <td>20.814861</td>\n",
              "    </tr>\n",
              "    <tr>\n",
              "      <th>male</th>\n",
              "      <td>22.436441</td>\n",
              "    </tr>\n",
              "    <tr>\n",
              "      <th>0</th>\n",
              "      <th>3</th>\n",
              "      <th>female</th>\n",
              "      <td>23.418750</td>\n",
              "    </tr>\n",
              "  </tbody>\n",
              "</table>\n",
              "</div>"
            ],
            "text/plain": [
              "                              age\n",
              "survived pclass sex              \n",
              "1        1      female  36.904762\n",
              "                male    36.168302\n",
              "0        1      female  35.200000\n",
              "                male    43.658163\n",
              "         2      male    33.092593\n",
              "1        2      female  26.711087\n",
              "                male    17.449130\n",
              "0        2      female  34.090909\n",
              "         3      male    26.562561\n",
              "1        3      female  20.814861\n",
              "                male    22.436441\n",
              "0        3      female  23.418750"
            ]
          },
          "metadata": {
            "tags": []
          },
          "execution_count": 36
        }
      ]
    },
    {
      "cell_type": "markdown",
      "metadata": {
        "id": "7FAHR_Zd1nv2",
        "colab_type": "text"
      },
      "source": [
        "This concludes our pandas review. Please share your feedback below."
      ]
    },
    {
      "cell_type": "markdown",
      "metadata": {
        "id": "z-8zTzHH1nv2",
        "colab_type": "text"
      },
      "source": [
        "## Feedback"
      ]
    },
    {
      "cell_type": "code",
      "metadata": {
        "deletable": false,
        "nbgrader": {
          "cell_type": "code",
          "checksum": "65cf83cb3724961e2f4cf47e5802f096",
          "grade": false,
          "grade_id": "cell-74727d848a4325b6",
          "locked": false,
          "schema_version": 3,
          "solution": true
        },
        "id": "BQRAcBRr1nv3",
        "colab_type": "code",
        "colab": {}
      },
      "source": [
        "def feedback():\n",
        "    \"\"\"Provide feedback on the contents of this exercise\n",
        "    \n",
        "    Returns:\n",
        "        string\n",
        "    \"\"\"\n",
        "    return \"All good!\""
      ],
      "execution_count": 37,
      "outputs": []
    },
    {
      "cell_type": "code",
      "metadata": {
        "deletable": false,
        "editable": false,
        "nbgrader": {
          "cell_type": "code",
          "checksum": "34cb044350af75023375fb20a42623ae",
          "grade": true,
          "grade_id": "cell-e07ad32acc7178ee",
          "locked": true,
          "points": 0,
          "schema_version": 3,
          "solution": false
        },
        "id": "G_YhwKW51nv4",
        "colab_type": "code",
        "colab": {
          "base_uri": "https://localhost:8080/",
          "height": 34
        },
        "outputId": "ade79910-b16f-4a34-e9f9-3f927cc4582a"
      },
      "source": [
        "print(feedback())"
      ],
      "execution_count": 38,
      "outputs": [
        {
          "output_type": "stream",
          "text": [
            "All good!\n"
          ],
          "name": "stdout"
        }
      ]
    }
  ]
}