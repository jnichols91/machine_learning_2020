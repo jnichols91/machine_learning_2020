{
 "cells": [
  {
   "cell_type": "markdown",
   "metadata": {},
   "source": [
    "## CSCI 470 Activities and Case Studies\n",
    "\n",
    "1. For all activities, you are allowed to collaborate with a partner. \n",
    "1. For case studies, you should work individually and are **not** allowed to collaborate.\n",
    "\n",
    "By filling out this notebook and submitting it, you acknowledge that you are aware of the above policies and are agreeing to comply with them."
   ]
  },
  {
   "cell_type": "markdown",
   "metadata": {},
   "source": [
    "# Python and Pandas\n",
    "\n",
    "In this notebook of the case study, you'll go over an overview of [Pandas](https://pandas.pydata.org/). If you're already familiar with them, this should be a good review to prepare you for the rest of the class.\n",
    "\n",
    "We'll go over the following:\n",
    "\n",
    "1. Reading data in an incorrect format\n",
    "1. `NaN`s\n",
    "1. Series and DataFrames\n",
    "1. One hot encoding\n",
    "1. Boolean indexing\n",
    "1. Applying functions to data\n",
    "1. Creating new DataFrame columns\n",
    "1. Grouping a DataFrame\n"
   ]
  },
  {
   "cell_type": "code",
   "execution_count": 2,
   "metadata": {
    "pycharm": {
     "is_executing": false
    }
   },
   "outputs": [],
   "source": [
    "import pandas as pd"
   ]
  },
  {
   "cell_type": "markdown",
   "metadata": {},
   "source": [
    "## Reading Data\n",
    "\n",
    "Pandas can read data in a variety of ways. We'll be using the titanic dataset that is available as a csv file so we will use [`read_csv`](https://pandas.pydata.org/pandas-docs/stable/generated/pandas.read_csv.html), however you should check out the [other methods](https://pandas.pydata.org/pandas-docs/stable/api.html#flat-file)."
   ]
  },
  {
   "cell_type": "code",
   "execution_count": 3,
   "metadata": {},
   "outputs": [],
   "source": [
    "df = pd.read_csv(\"http://biostat.mc.vanderbilt.edu/wiki/pub/Main/DataSets/titanic3.csv\")"
   ]
  },
  {
   "cell_type": "markdown",
   "metadata": {},
   "source": [
    "Usually when we read a file in pandas, it will create a [DataFrame](https://pandas.pydata.org/pandas-docs/stable/generated/pandas.DataFrame.html) object. You can read more about dataframes in the [pandas guide](https://pandas.pydata.org/pandas-docs/stable/dsintro.html#dataframe) .You can preview the top and bottom of the data using the [head](https://pandas.pydata.org/pandas-docs/stable/generated/pandas.DataFrame.head.html) and [tail](https://pandas.pydata.org/pandas-docs/stable/generated/pandas.DataFrame.tail.html) methods of a pandas DataFrame."
   ]
  },
  {
   "cell_type": "code",
   "execution_count": null,
   "metadata": {},
   "outputs": [],
   "source": [
    "df.head()"
   ]
  },
  {
   "cell_type": "code",
   "execution_count": null,
   "metadata": {
    "deletable": false,
    "nbgrader": {
     "cell_type": "code",
     "checksum": "c4c23ab65366e2df77f5d70e581aa9f6",
     "grade": true,
     "grade_id": "cell-c285b9edfcfbb9c8",
     "locked": false,
     "points": 10,
     "schema_version": 3,
     "solution": true
    }
   },
   "outputs": [],
   "source": [
    "# Try out the tail method here\n",
    "# YOUR CODE HERE\n",
    "raise NotImplementedError()"
   ]
  },
  {
   "cell_type": "markdown",
   "metadata": {},
   "source": [
    "You can read more about the data on the [main data page](http://biostat.mc.vanderbilt.edu/wiki/pub/Main/DataSets/titanic.html) and the [version 3 data description](http://biostat.mc.vanderbilt.edu/wiki/pub/Main/DataSets/Ctitanic3.html).\n",
    "\n",
    "As a summary, here's what the column names for the data actually represent:\n",
    "\n",
    "- `pclass` - passenger class - 1st, 2nd or 3rd class\n",
    "- `survived` - whether or not the passenger survived. 1 survived, 0 did not\n",
    "- `name` - the passenger's name\n",
    "- `sex` - the passenger's sex\n",
    "- `age` - the passenger's age\n",
    "- `sibsbp` - number of siblings on board\n",
    "- `parch` - number of parents on board\n",
    "- `ticket` - ticket number\n",
    "- `fare` - how much the passenger paid for their ticket in British Pounds\n",
    "- `cabin` - the cabin number\n",
    "- `embarked` - the location they embarked - C=Cherbourg, Q=Queenstown, S=Southampton\n",
    "- `boat` - the boat number \n",
    "- `body` - body identification number\n",
    "- `home.dest` - their home followed by the destination"
   ]
  },
  {
   "cell_type": "markdown",
   "metadata": {},
   "source": [
    "You may notice that a lot of values show up as `NaN`. This could mean that the values were empty or just weren't capable of being read by pandas.\n",
    "We can deal with these values in a variety of ways. We can eliminate them from our dataset or place guesstimates instead. Depending on how we will be using the data, each approach might have some value.\n",
    "We will focus on eliminating the values since that is usually the better/safer approach.\n",
    "\n",
    "If a particular feature doesn't have that many rows of data then we might want to eliminate that feature, otherwise we can delete the rows that have `NaN`s in them. First, let's find out more about our data. We can do so using the [describe](https://pandas.pydata.org/pandas-docs/stable/generated/pandas.DataFrame.describe.html) method of DataFrames."
   ]
  },
  {
   "cell_type": "code",
   "execution_count": null,
   "metadata": {},
   "outputs": [],
   "source": [
    "df.describe(include=\"all\")"
   ]
  },
  {
   "cell_type": "markdown",
   "metadata": {},
   "source": [
    "We can see from the above summary that the cabin and boat columns have the fewest values."
   ]
  },
  {
   "cell_type": "markdown",
   "metadata": {},
   "source": [
    "## Data Cleaning"
   ]
  },
  {
   "cell_type": "markdown",
   "metadata": {},
   "source": [
    "We can also check how many values in each column are null. A good way to do this is explained in this [stack overflow question](https://stackoverflow.com/a/26266451/818687). Find out how many `NaN`s we have in each column."
   ]
  },
  {
   "cell_type": "code",
   "execution_count": null,
   "metadata": {
    "deletable": false,
    "nbgrader": {
     "cell_type": "code",
     "checksum": "637b8d3bed5bb0c0c6d4bd987b532f5d",
     "grade": true,
     "grade_id": "cell-100bb17e0273b8d0",
     "locked": false,
     "points": 10,
     "schema_version": 3,
     "solution": true
    }
   },
   "outputs": [],
   "source": [
    "# Show the number of NaNs we have in each column\n",
    "# YOUR CODE HERE\n",
    "raise NotImplementedError()"
   ]
  },
  {
   "cell_type": "markdown",
   "metadata": {},
   "source": [
    "Since some features have a lot of null values, we may want to drop those features instead of deleting all the rows that don't have values for them. We can do so using the [drop](https://pandas.pydata.org/pandas-docs/stable/generated/pandas.DataFrame.drop.html) method of DataFrames. We won't be revisiting these columns so you can set `inplace=True` when you use this method, this will update the original DataFrame. Drop the cabin, boat, body, and home.dest columns."
   ]
  },
  {
   "cell_type": "code",
   "execution_count": null,
   "metadata": {
    "deletable": false,
    "nbgrader": {
     "cell_type": "code",
     "checksum": "2c824afb4593bbcee956af14c204afe2",
     "grade": false,
     "grade_id": "cell-560efd89fc3e08b9",
     "locked": false,
     "schema_version": 3,
     "solution": true
    }
   },
   "outputs": [],
   "source": [
    "# Drop the cabin, boat, body, and home.dest columns.\n",
    "# YOUR CODE HERE\n",
    "raise NotImplementedError()"
   ]
  },
  {
   "cell_type": "code",
   "execution_count": null,
   "metadata": {
    "deletable": false,
    "editable": false,
    "nbgrader": {
     "cell_type": "code",
     "checksum": "885a0235ed7b4531aab93c774ef981cd",
     "grade": true,
     "grade_id": "cell-cdc57e0b1c3d5fc7",
     "locked": true,
     "points": 10,
     "schema_version": 3,
     "solution": false
    }
   },
   "outputs": [],
   "source": [
    "assert \"cabin\" not in df.columns\n",
    "assert \"boat\" not in df.columns\n",
    "assert \"body\" not in df.columns\n",
    "assert \"home.dest\" not in df.columns"
   ]
  },
  {
   "cell_type": "code",
   "execution_count": null,
   "metadata": {},
   "outputs": [],
   "source": [
    "df.describe()"
   ]
  },
  {
   "cell_type": "markdown",
   "metadata": {},
   "source": [
    "We still had some rows that had NaN values so let's drop those rows. We can use the [dropna](https://pandas.pydata.org/pandas-docs/stable/generated/pandas.DataFrame.dropna.html) method. Drop all rows that have any `NaN` values.\n",
    "You can also just update the df variable since we won't be using the other data (set `inplace=True`)."
   ]
  },
  {
   "cell_type": "code",
   "execution_count": null,
   "metadata": {
    "deletable": false,
    "nbgrader": {
     "cell_type": "code",
     "checksum": "2c098732c056a76111b2ef3ef421f9aa",
     "grade": false,
     "grade_id": "cell-3995d8b30799a584",
     "locked": false,
     "schema_version": 3,
     "solution": true
    }
   },
   "outputs": [],
   "source": [
    "# Drop any rows with na values. Use inplace=True or assign the result to df\n",
    "# YOUR CODE HERE\n",
    "raise NotImplementedError()"
   ]
  },
  {
   "cell_type": "code",
   "execution_count": null,
   "metadata": {
    "deletable": false,
    "editable": false,
    "nbgrader": {
     "cell_type": "code",
     "checksum": "443bf03198e6a6d9edd887b430f87615",
     "grade": true,
     "grade_id": "cell-d521d0c8b45116d0",
     "locked": true,
     "points": 10,
     "schema_version": 3,
     "solution": false
    }
   },
   "outputs": [],
   "source": [
    "assert df.isnull().sum().sum() == 0\n",
    "assert len(df) == 1043"
   ]
  },
  {
   "cell_type": "code",
   "execution_count": null,
   "metadata": {},
   "outputs": [],
   "source": [
    "df.describe()"
   ]
  },
  {
   "cell_type": "markdown",
   "metadata": {},
   "source": [
    "We know that some of our features are represented as numbers but are actually classes, such as `pclass` and `survived`. Let's look at how many people survived vs didn't and how many were in each class.\n",
    "\n",
    "We can use the [value_counts](https://pandas.pydata.org/pandas-docs/stable/generated/pandas.Series.value_counts.html) Series method for this. First, let's look at how we select a feature column from a DataFrame. We can select it by passing in the name of the column just like we would with Python dictionaries."
   ]
  },
  {
   "cell_type": "code",
   "execution_count": null,
   "metadata": {},
   "outputs": [],
   "source": [
    "# Selecting the \"survived\" column\n",
    "df[\"survived\"]"
   ]
  },
  {
   "cell_type": "markdown",
   "metadata": {},
   "source": [
    "When we select an individual DataFrame column it returns the data as a Series object. You can read more about [Series](https://pandas.pydata.org/pandas-docs/stable/generated/pandas.Series.html) and check out the [user guide](https://pandas.pydata.org/pandas-docs/stable/dsintro.html#series).\n",
    "\n",
    "Many of the methods available in pandas work for both DataFrames and Series. `head` and `tail` are examples of those."
   ]
  },
  {
   "cell_type": "code",
   "execution_count": null,
   "metadata": {},
   "outputs": [],
   "source": [
    "df[\"survived\"].head()"
   ]
  },
  {
   "cell_type": "code",
   "execution_count": null,
   "metadata": {},
   "outputs": [],
   "source": [
    "df[\"survived\"].tail()"
   ]
  },
  {
   "cell_type": "markdown",
   "metadata": {},
   "source": [
    "Now let's try out [value_counts](https://pandas.pydata.org/pandas-docs/stable/generated/pandas.Series.value_counts.html) to determine how many people survived and how many died."
   ]
  },
  {
   "cell_type": "code",
   "execution_count": null,
   "metadata": {},
   "outputs": [],
   "source": [
    "df[\"survived\"].value_counts()"
   ]
  },
  {
   "cell_type": "markdown",
   "metadata": {},
   "source": [
    "We can also determine these values as a percentage by setting `normalize=True`."
   ]
  },
  {
   "cell_type": "code",
   "execution_count": null,
   "metadata": {},
   "outputs": [],
   "source": [
    "df[\"survived\"].value_counts(normalize=True)"
   ]
  },
  {
   "cell_type": "markdown",
   "metadata": {},
   "source": [
    "Now determine the same for the passenger classes and the sexes."
   ]
  },
  {
   "cell_type": "code",
   "execution_count": null,
   "metadata": {
    "deletable": false,
    "nbgrader": {
     "cell_type": "code",
     "checksum": "c48ae5398ca375a883c879a401f841c3",
     "grade": true,
     "grade_id": "pclass-value_counts",
     "locked": false,
     "points": 5,
     "schema_version": 3,
     "solution": true
    }
   },
   "outputs": [],
   "source": [
    "# Find out how many people were in each class\n",
    "# YOUR CODE HERE\n",
    "raise NotImplementedError()"
   ]
  },
  {
   "cell_type": "code",
   "execution_count": null,
   "metadata": {
    "deletable": false,
    "nbgrader": {
     "cell_type": "code",
     "checksum": "4f7ea2a82f91b738765bc99ec3c17e1f",
     "grade": true,
     "grade_id": "pclass-value_counts_norm",
     "locked": false,
     "points": 5,
     "schema_version": 3,
     "solution": true
    }
   },
   "outputs": [],
   "source": [
    "# Find out what percentage of people were in each class\n",
    "# YOUR CODE HERE\n",
    "raise NotImplementedError()"
   ]
  },
  {
   "cell_type": "code",
   "execution_count": null,
   "metadata": {
    "deletable": false,
    "nbgrader": {
     "cell_type": "code",
     "checksum": "05989026b7ebc450ed6f0aba3e632bb1",
     "grade": true,
     "grade_id": "sex-value_counts",
     "locked": false,
     "points": 5,
     "schema_version": 3,
     "solution": true
    }
   },
   "outputs": [],
   "source": [
    "# Find out how many people are of each sex\n",
    "# YOUR CODE HERE\n",
    "raise NotImplementedError()"
   ]
  },
  {
   "cell_type": "code",
   "execution_count": null,
   "metadata": {
    "deletable": false,
    "nbgrader": {
     "cell_type": "code",
     "checksum": "3d55f0430fb4752c52dbe5c9f258feca",
     "grade": true,
     "grade_id": "sex_value_counts_norm",
     "locked": false,
     "points": 5,
     "schema_version": 3,
     "solution": true
    }
   },
   "outputs": [],
   "source": [
    "# Find out what percentage of people are of each sex\n",
    "# YOUR CODE HERE\n",
    "raise NotImplementedError()"
   ]
  },
  {
   "cell_type": "markdown",
   "metadata": {},
   "source": [
    "Value counts can give us some useful insights into the data and it works with string values and with numeric values as well. When we start working with machine learning models however, they prefer that things are in numeric form and not strings. If we also have multiple classes of a certain value it's better to have them as multiple features with each one specifying whether or not the value is true. These true/false features for each class are called dummy variables. Pandas makes it easy to create these dummy variables using the [get_dummies](https://pandas.pydata.org/pandas-docs/stable/generated/pandas.get_dummies.html) function. Try it out on the `pclass` and `sex` columns."
   ]
  },
  {
   "cell_type": "code",
   "execution_count": null,
   "metadata": {
    "deletable": false,
    "nbgrader": {
     "cell_type": "code",
     "checksum": "6022c164b8c3a2c2e0dc888550c2beab",
     "grade": true,
     "grade_id": "cell-a654a8408c69c6e9",
     "locked": false,
     "points": 5,
     "schema_version": 3,
     "solution": true
    }
   },
   "outputs": [],
   "source": [
    "# Get the dummy variables for the `sex` column \n",
    "# YOUR CODE HERE\n",
    "raise NotImplementedError()"
   ]
  },
  {
   "cell_type": "code",
   "execution_count": null,
   "metadata": {
    "deletable": false,
    "nbgrader": {
     "cell_type": "code",
     "checksum": "4a6765ea21391d265bba547bdc20f535",
     "grade": true,
     "grade_id": "cell-612600388764bb32",
     "locked": false,
     "points": 5,
     "schema_version": 3,
     "solution": true
    }
   },
   "outputs": [],
   "source": [
    "# Get the dummy variables for the `pclass` column \n",
    "# YOUR CODE HERE\n",
    "raise NotImplementedError()"
   ]
  },
  {
   "cell_type": "markdown",
   "metadata": {},
   "source": [
    "Dummy variables will be extremely useful when we start applying machine learning. For now, let's go back to data selection."
   ]
  },
  {
   "cell_type": "markdown",
   "metadata": {},
   "source": [
    "## Data Selection\n",
    "\n",
    "We discussed how to select one column of a DataFrame, how that is just like we would use a dictonairy and how it returns a Series object. What about if we want to select multiple columns?\n",
    "\n",
    "The notation for selecting multiple columns is to pass a list of strings instead of just one string. In the remaining section of this case study we will only use the `survived`, `age`, `sex`, and `pclass` features. Select those columns in a variable called `smallDf`.\n",
    "\n",
    "Since we will be editing this variable, make sure you create a [copy](https://pandas.pydata.org/pandas-docs/stable/generated/pandas.DataFrame.copy.html) after selecting the columns. This [stack overflow answer](https://stackoverflow.com/a/27680109/818687) explains why we want to create a copy quite well."
   ]
  },
  {
   "cell_type": "code",
   "execution_count": null,
   "metadata": {
    "deletable": false,
    "nbgrader": {
     "cell_type": "code",
     "checksum": "76c427e7cb84049f4dfd2335db5acd57",
     "grade": false,
     "grade_id": "cell-dd971fee5d6aa470",
     "locked": false,
     "schema_version": 3,
     "solution": true
    }
   },
   "outputs": [],
   "source": [
    "# Select the survived, age, sex and pclass columns of the df and save them as smallDf\n",
    "# YOUR CODE HERE\n",
    "raise NotImplementedError()"
   ]
  },
  {
   "cell_type": "code",
   "execution_count": null,
   "metadata": {
    "deletable": false,
    "editable": false,
    "nbgrader": {
     "cell_type": "code",
     "checksum": "963bec4d9c481ec17dd510efb9bad2c6",
     "grade": true,
     "grade_id": "cell-3e9e5d1bf13dcf26",
     "locked": true,
     "points": 5,
     "schema_version": 3,
     "solution": false
    }
   },
   "outputs": [],
   "source": [
    "assert \"survived\" in smallDf.columns\n",
    "assert \"age\" in smallDf.columns\n",
    "assert \"sex\" in smallDf.columns\n",
    "assert \"pclass\" in smallDf.columns\n",
    "assert len(smallDf) == 1043"
   ]
  },
  {
   "cell_type": "code",
   "execution_count": null,
   "metadata": {},
   "outputs": [],
   "source": [
    "smallDf.head()"
   ]
  },
  {
   "cell_type": "markdown",
   "metadata": {},
   "source": [
    "Indexing in pandas can be very powerful. The [guide on indexing](https://pandas.pydata.org/pandas-docs/stable/indexing.html) is extremely useful. We'll cover only a small portion of what you can do with indexing, namely boolean indexing. \n",
    "\n",
    "First, we can apply a logical operation to a Series to return a new Series that checks whether the logical operation is true. \n",
    "Second, we can use that result to only select a small portion of the data.\n",
    "\n",
    "This might sound complicated but hopefully an example can show how to use Boolean Indexing."
   ]
  },
  {
   "cell_type": "code",
   "execution_count": null,
   "metadata": {},
   "outputs": [],
   "source": [
    "# Create a Series that lets us know whether a person is male\n",
    "smallDf[\"sex\"] == \"female\""
   ]
  },
  {
   "cell_type": "code",
   "execution_count": null,
   "metadata": {},
   "outputs": [],
   "source": [
    "# Select all males from the dataset\n",
    "malesDf = smallDf[smallDf[\"sex\"] == \"male\"]\n",
    "len(malesDf)"
   ]
  },
  {
   "cell_type": "code",
   "execution_count": null,
   "metadata": {},
   "outputs": [],
   "source": [
    "malesDf.describe(include=\"all\")\n",
    "# Notice how there are no females in this df"
   ]
  },
  {
   "cell_type": "code",
   "execution_count": null,
   "metadata": {
    "deletable": false,
    "nbgrader": {
     "cell_type": "code",
     "checksum": "daeefe1de9a1b24ead0c253b0e52d8b3",
     "grade": false,
     "grade_id": "cell-1225f02668d8b333",
     "locked": false,
     "schema_version": 3,
     "solution": true
    }
   },
   "outputs": [],
   "source": [
    "# Now create a femalesDf which has data about the females only\n",
    "# YOUR CODE HERE\n",
    "raise NotImplementedError()"
   ]
  },
  {
   "cell_type": "code",
   "execution_count": null,
   "metadata": {
    "deletable": false,
    "editable": false,
    "nbgrader": {
     "cell_type": "code",
     "checksum": "d34c596ff490872465027f4e28e739b8",
     "grade": true,
     "grade_id": "cell-faf20230f201c749",
     "locked": true,
     "points": 5,
     "schema_version": 3,
     "solution": false
    }
   },
   "outputs": [],
   "source": [
    "assert all(femalesDf[\"sex\"] == \"female\")\n",
    "assert len(femalesDf) == 386"
   ]
  },
  {
   "cell_type": "markdown",
   "metadata": {},
   "source": [
    "This approach may be useful if we wanted to only select one portion of data that meets a certain logical structure. This example showed how we can apply it to string values but we can also apply this to numeric values. Let's say we wanted to determine how many people in our dataset are under the age of 10. We can determine that using the following:"
   ]
  },
  {
   "cell_type": "code",
   "execution_count": null,
   "metadata": {},
   "outputs": [],
   "source": [
    "underTen = smallDf[\"age\"] < 10\n",
    "underTen.sum()"
   ]
  },
  {
   "cell_type": "markdown",
   "metadata": {},
   "source": [
    "We can also apply more complex functionality to our data using the apply method for [DataFrames](https://pandas.pydata.org/pandas-docs/stable/generated/pandas.DataFrame.apply.html) or [Series](https://pandas.pydata.org/pandas-docs/stable/generated/pandas.Series.apply.html)."
   ]
  },
  {
   "cell_type": "markdown",
   "metadata": {},
   "source": [
    "We can assign new columns to a DataFrame just as we would assign a new value for a dictionary.\n",
    "Use the apply method and create a new column called \"ageGroup\" that has a value of \"child\" for people under the age of 13, \"teen\" for ages 13-19, and \"adult\" for ages above 19."
   ]
  },
  {
   "cell_type": "code",
   "execution_count": null,
   "metadata": {
    "deletable": false,
    "nbgrader": {
     "cell_type": "code",
     "checksum": "4fa5d7c596d3271319aa1e7535d6d46f",
     "grade": true,
     "grade_id": "cell-69d4fbe08865f184",
     "locked": false,
     "points": 10,
     "schema_version": 3,
     "solution": true
    }
   },
   "outputs": [],
   "source": [
    "# Use the apply method and create a new column called \"ageGroup\" \n",
    "# It should have a value of \"child\" for people under the age of 13, \n",
    "# \"teen\" for ages 13-19, and \"adult\" for ages above 19.\n",
    "# You may want to write a function here to use with apply\n",
    "# YOUR CODE HERE\n",
    "raise NotImplementedError()"
   ]
  },
  {
   "cell_type": "code",
   "execution_count": null,
   "metadata": {},
   "outputs": [],
   "source": [
    "assert \"ageGroup\" in smallDf.columns"
   ]
  },
  {
   "cell_type": "markdown",
   "metadata": {},
   "source": [
    "For the male/female case, if we wanted to determine the number of each group we could actually use the `groupby` functionality instead. Grouping is also another very powerful feature of pandas for data manipulation and the [guide](https://pandas.pydata.org/pandas-docs/stable/groupby.html) is really helpful."
   ]
  },
  {
   "cell_type": "code",
   "execution_count": null,
   "metadata": {},
   "outputs": [],
   "source": [
    "smallDf.groupby([\"survived\", \"pclass\", \"sex\"]).count()"
   ]
  },
  {
   "cell_type": "markdown",
   "metadata": {},
   "source": [
    "When we group by some values we can perform some useful calculations such as count, mean, sum and others. The order of the grouping determines the breakdown of the data.\n",
    "\n",
    "Repeat the above grouping in another order that you are curious about and perform a calculation that you find interesting."
   ]
  },
  {
   "cell_type": "code",
   "execution_count": null,
   "metadata": {
    "deletable": false,
    "nbgrader": {
     "cell_type": "code",
     "checksum": "92cc0ccfb42d6d73096338fc28926553",
     "grade": true,
     "grade_id": "cell-029328c41ddbaca6",
     "locked": false,
     "points": 10,
     "schema_version": 3,
     "solution": true
    }
   },
   "outputs": [],
   "source": [
    "# Repeat the above grouping in another order that you are curious about\n",
    "# perform a calculation that you find interesting ex. mean, count, sum\n",
    "# YOUR CODE HERE\n",
    "raise NotImplementedError()"
   ]
  },
  {
   "cell_type": "markdown",
   "metadata": {},
   "source": [
    "This concludes our pandas review. Please share your feedback below."
   ]
  },
  {
   "cell_type": "markdown",
   "metadata": {},
   "source": [
    "## Feedback"
   ]
  },
  {
   "cell_type": "code",
   "execution_count": null,
   "metadata": {
    "deletable": false,
    "nbgrader": {
     "cell_type": "code",
     "checksum": "65cf83cb3724961e2f4cf47e5802f096",
     "grade": false,
     "grade_id": "cell-74727d848a4325b6",
     "locked": false,
     "schema_version": 3,
     "solution": true
    }
   },
   "outputs": [],
   "source": [
    "def feedback():\n",
    "    \"\"\"Provide feedback on the contents of this exercise\n",
    "    \n",
    "    Returns:\n",
    "        string\n",
    "    \"\"\"\n",
    "    # YOUR CODE HERE\n",
    "    raise NotImplementedError()"
   ]
  },
  {
   "cell_type": "code",
   "execution_count": null,
   "metadata": {
    "deletable": false,
    "editable": false,
    "nbgrader": {
     "cell_type": "code",
     "checksum": "34cb044350af75023375fb20a42623ae",
     "grade": true,
     "grade_id": "cell-e07ad32acc7178ee",
     "locked": true,
     "points": 0,
     "schema_version": 3,
     "solution": false
    }
   },
   "outputs": [],
   "source": []
  }
 ],
 "metadata": {
  "kernelspec": {
   "display_name": "PyCharm (BigProject)",
   "language": "python",
   "name": "pycharm-514a351a"
  },
  "language_info": {
   "codemirror_mode": {
    "name": "ipython",
    "version": 3
   },
   "file_extension": ".py",
   "mimetype": "text/x-python",
   "name": "python",
   "nbconvert_exporter": "python",
   "pygments_lexer": "ipython3",
   "version": "3.7.6"
  }
 },
 "nbformat": 4,
 "nbformat_minor": 2
}
